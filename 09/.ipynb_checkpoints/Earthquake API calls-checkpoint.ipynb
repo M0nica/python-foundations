{
 "cells": [
  {
   "cell_type": "code",
   "execution_count": 5,
   "metadata": {
    "collapsed": true
   },
   "outputs": [],
   "source": [
    "earthquake = {\n",
    "      'rms': '1.85',\n",
    "      'updated': '2014-06-11T05:22:21.596Z',\n",
    "      'type': 'earthquake',\n",
    "      'magType': 'mwp',\n",
    "      'longitude': '-136.6561',\n",
    "      'gap': '48',\n",
    "      'depth': '10',\n",
    "      'dmin': '0.811',\n",
    "      'mag': '5.7',\n",
    "      'time': '2014-06-04T11:58:58.200Z',\n",
    "      'latitude': '59.0001',\n",
    "      'place': '73km WSW of Haines, Alaska',\n",
    "      'net': 'us',\n",
    "      'nst': '',\n",
    "      'id': 'usc000rauc'}\n"
   ]
  },
  {
   "cell_type": "markdown",
   "metadata": {},
   "source": [
    "depth_to_words will describe the earthquake's depth"
   ]
  },
  {
   "cell_type": "code",
   "execution_count": 11,
   "metadata": {
    "collapsed": false
   },
   "outputs": [
    {
     "data": {
      "text/plain": [
       "'The earthquake was shallow'"
      ]
     },
     "execution_count": 11,
     "metadata": {},
     "output_type": "execute_result"
    }
   ],
   "source": [
    "# Shallow earthquakes are between 0 and 70 km deep;\n",
    "#intermediate earthquakes, 70 - 300 km deep; \n",
    "#and deep earthquakes, 300 - 700 km deep.\n",
    "\n",
    "def depth_to_words(earthquake):\n",
    "    depth = int(earthquake['depth'])\n",
    "    if depth < 70:\n",
    "        return(\"The earthquake was shallow\")\n",
    "    elif 70 < depth < 300:\n",
    "        return(\"The earthquake was intermediate\")\n",
    "    elif 300 < depth < 700:\n",
    "        return(\"The earthquak was deep\")\n",
    "    \n",
    "    return print(\"The earthquake had a depth of\", earthquake['depth'])\n",
    "\n",
    "depth_to_words(earthquake)"
   ]
  },
  {
   "cell_type": "markdown",
   "metadata": {},
   "source": [
    "magnitude_to_words will describe the earthquake's power"
   ]
  },
  {
   "cell_type": "markdown",
   "metadata": {},
   "source": [
    "day_in_words should be the day of the week"
   ]
  },
  {
   "cell_type": "markdown",
   "metadata": {},
   "source": [
    "time_in_words should be \"morning\", \"afternoon\", \"evening\" or \"night\""
   ]
  },
  {
   "cell_type": "markdown",
   "metadata": {},
   "source": [
    "date_in_words should be \"Monthname day\", e.g. \"June 22\""
   ]
  }
 ],
 "metadata": {
  "kernelspec": {
   "display_name": "Python 3",
   "language": "python",
   "name": "python3"
  },
  "language_info": {
   "codemirror_mode": {
    "name": "ipython",
    "version": 3
   },
   "file_extension": ".py",
   "mimetype": "text/x-python",
   "name": "python",
   "nbconvert_exporter": "python",
   "pygments_lexer": "ipython3",
   "version": "3.5.1"
  }
 },
 "nbformat": 4,
 "nbformat_minor": 0
}
