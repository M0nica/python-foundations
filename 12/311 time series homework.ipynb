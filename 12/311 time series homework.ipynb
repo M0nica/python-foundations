{
 "cells": [
  {
   "cell_type": "code",
   "execution_count": 28,
   "metadata": {
    "collapsed": false
   },
   "outputs": [],
   "source": [
    "import pandas as pd\n",
    "import numpy as np\n",
    "import matplotlib.pyplot as plt\n",
    "%matplotlib inline\n",
    "plt.style.use('ggplot')\n",
    "import dateutil.parser\n",
    "from dateutil import parser\n",
    "from datetime import datetime"
   ]
  },
  {
   "cell_type": "markdown",
   "metadata": {},
   "source": [
    "> First, I made a mistake naming the data set! **It's 2015 data, not 2014 data.** But yes, still use `311-2014.csv`. You can rename it.\n",
    "\n",
    "# Importing and preparing your data\n",
    "\n",
    "Import your data, but **only the first 200,000 rows**. You'll also want to change the index to be a datetime based on the **Created Date** column - you'll want to check if it's already a datetime, and parse it if not."
   ]
  },
  {
   "cell_type": "code",
   "execution_count": 30,
   "metadata": {
    "collapsed": false
   },
   "outputs": [
    {
     "name": "stderr",
     "output_type": "stream",
     "text": [
      "/Users/Monica/.virtualenvs/dataanalysis/lib/python3.5/site-packages/IPython/core/interactiveshell.py:2723: DtypeWarning: Columns (8,17,40,41,42,43,44,45,46,47,48,49) have mixed types. Specify dtype option on import or set low_memory=False.\n",
      "  interactivity=interactivity, compiler=compiler, result=result)\n"
     ]
    }
   ],
   "source": [
    "complaint_df = pd.read_csv(\"311-2014.csv\", parse_dates = True).head(200000)"
   ]
  },
  {
   "cell_type": "code",
   "execution_count": 32,
   "metadata": {
    "collapsed": false
   },
   "outputs": [
    {
     "data": {
      "text/plain": [
       "Unique Key                          int64\n",
       "Created Date                       object\n",
       "Closed Date                        object\n",
       "Agency                             object\n",
       "Agency Name                        object\n",
       "Complaint Type                     object\n",
       "Descriptor                         object\n",
       "Location Type                      object\n",
       "Incident Zip                       object\n",
       "Incident Address                   object\n",
       "Street Name                        object\n",
       "Cross Street 1                     object\n",
       "Cross Street 2                     object\n",
       "Intersection Street 1              object\n",
       "Intersection Street 2              object\n",
       "Address Type                       object\n",
       "City                               object\n",
       "Landmark                           object\n",
       "Facility Type                      object\n",
       "Status                             object\n",
       "Due Date                           object\n",
       "Resolution Description             object\n",
       "Resolution Action Updated Date     object\n",
       "Community Board                    object\n",
       "Borough                            object\n",
       "X Coordinate (State Plane)        float64\n",
       "Y Coordinate (State Plane)        float64\n",
       "Park Facility Name                 object\n",
       "Park Borough                       object\n",
       "School Name                        object\n",
       "School Number                      object\n",
       "School Region                      object\n",
       "School Code                        object\n",
       "School Phone Number                object\n",
       "School Address                     object\n",
       "School City                        object\n",
       "School State                       object\n",
       "School Zip                         object\n",
       "School Not Found                   object\n",
       "School or Citywide Complaint      float64\n",
       "Vehicle Type                       object\n",
       "Taxi Company Borough               object\n",
       "Taxi Pick Up Location              object\n",
       "Bridge Highway Name                object\n",
       "Bridge Highway Direction           object\n",
       "Road Ramp                          object\n",
       "Bridge Highway Segment             object\n",
       "Garage Lot Name                    object\n",
       "Ferry Direction                    object\n",
       "Ferry Terminal Name                object\n",
       "Latitude                          float64\n",
       "Longitude                         float64\n",
       "Location                           object\n",
       "dtype: object"
      ]
     },
     "execution_count": 32,
     "metadata": {},
     "output_type": "execute_result"
    }
   ],
   "source": [
    "complaint_df.dtypes"
   ]
  },
  {
   "cell_type": "code",
   "execution_count": 8,
   "metadata": {
    "collapsed": false
   },
   "outputs": [],
   "source": [
    "import datetime\n",
    "# complaint_df['Created Date'] = complaint_df['Created Date'].astype(dateutil.parser.parse)"
   ]
  },
  {
   "cell_type": "code",
   "execution_count": 34,
   "metadata": {
    "collapsed": false
   },
   "outputs": [],
   "source": [
    "complaint_df['Created Date'] = complaint_df['Created Date'].apply(dateutil.parser.parse)"
   ]
  },
  {
   "cell_type": "code",
   "execution_count": 36,
   "metadata": {
    "collapsed": false
   },
   "outputs": [
    {
     "data": {
      "text/plain": [
       "count                  200000\n",
       "unique                 177667\n",
       "top       2015-05-04 00:00:00\n",
       "freq                     1034\n",
       "first     2015-01-01 00:08:34\n",
       "last      2016-01-01 00:00:00\n",
       "Name: Created Date, dtype: object"
      ]
     },
     "execution_count": 36,
     "metadata": {},
     "output_type": "execute_result"
    }
   ],
   "source": [
    "complaint_df['Created Date'].describe()"
   ]
  },
  {
   "cell_type": "code",
   "execution_count": 38,
   "metadata": {
    "collapsed": false
   },
   "outputs": [
    {
     "data": {
      "text/plain": [
       "0   2015-07-06 10:58:27\n",
       "1   2015-07-03 13:26:29\n",
       "2   2015-11-09 03:55:09\n",
       "3   2015-07-03 02:18:32\n",
       "4   2015-07-04 00:03:27\n",
       "Name: Created Date, dtype: datetime64[ns]"
      ]
     },
     "execution_count": 38,
     "metadata": {},
     "output_type": "execute_result"
    }
   ],
   "source": [
    "complaint_df['Created Date'].head()"
   ]
  },
  {
   "cell_type": "code",
   "execution_count": 40,
   "metadata": {
    "collapsed": true
   },
   "outputs": [],
   "source": [
    "#import datetime\n",
    "\n",
    "#dt = datetime.datetime.strptime(string_date, fmt)"
   ]
  },
  {
   "cell_type": "code",
   "execution_count": 42,
   "metadata": {
    "collapsed": false
   },
   "outputs": [],
   "source": [
    "#import numpy as np\n",
    "# Build a function using that method\n",
    "#str_time = \"07/06/2015 10:58:27 AM\"\n",
    "#def time_to_datetime(str_time):\n",
    " #   try:\n",
    "   #     dt = parser.parse(str_time)\n",
    "  #      return dt\n",
    "   # except:\n",
    "    #    return np.nan\n",
    "#time_to_datetime(str_time)"
   ]
  },
  {
   "cell_type": "code",
   "execution_count": 44,
   "metadata": {
    "collapsed": false
   },
   "outputs": [],
   "source": [
    "# complaint_df['Created Date'] = complaint_df['Created Date'].apply(time_to_datetime)"
   ]
  },
  {
   "cell_type": "code",
   "execution_count": 46,
   "metadata": {
    "collapsed": false
   },
   "outputs": [
    {
     "data": {
      "text/plain": [
       "count                  200000\n",
       "unique                 177667\n",
       "top       2015-05-04 00:00:00\n",
       "freq                     1034\n",
       "first     2015-01-01 00:08:34\n",
       "last      2016-01-01 00:00:00\n",
       "Name: Created Date, dtype: object"
      ]
     },
     "execution_count": 46,
     "metadata": {},
     "output_type": "execute_result"
    }
   ],
   "source": [
    "complaint_df['Created Date'].describe()"
   ]
  },
  {
   "cell_type": "markdown",
   "metadata": {},
   "source": [
    "What was the **most popular type of complaint**, and how many times was it filed?"
   ]
  },
  {
   "cell_type": "code",
   "execution_count": null,
   "metadata": {
    "collapsed": false
   },
   "outputs": [],
   "source": [
    "complaint_df.groupby('Complaint Type')['Complaint Type'].count().sort_values(ascending=False).head(1)"
   ]
  },
  {
   "cell_type": "markdown",
   "metadata": {},
   "source": [
    "Make a horizontal bar graph of the **top 5 most frequent complaint types**."
   ]
  },
  {
   "cell_type": "code",
   "execution_count": 48,
   "metadata": {
    "collapsed": false
   },
   "outputs": [
    {
     "data": {
      "image/png": "[encoded data removed]",
      "text/plain": [
       "<matplotlib.figure.Figure at 0x11b7e6438>"
      ]
     },
     "metadata": {},
     "output_type": "display_data"
    }
   ],
   "source": [
    "import matplotlib.pyplot as plt\n",
    "%matplotlib inline\n",
    "freqNYcomplaints = complaint_df.groupby('Complaint Type')['Complaint Type'].count().sort_values(ascending=False).head(5).plot(kind=\"bar\", color = ['#624ea7', '#599ad3', '#f9a65a', '#9e66ab', 'purple'])\n",
    "freqNYcomplaints.set_title('Most Frequent NYC Complaints')\n",
    "freqNYcomplaints.set_xlabel('Type of Complaint')\n",
    "freqNYcomplaints.set_ylabel('Frequency of Complaint')\n",
    "plt.savefig('freqNYcomplaints.png')"
   ]
  },
  {
   "cell_type": "markdown",
   "metadata": {},
   "source": [
    "Which borough has the **most complaints per capita?** Since it's only 5 boroughs, you can do the math manually."
   ]
  },
  {
   "cell_type": "code",
   "execution_count": null,
   "metadata": {
    "collapsed": false
   },
   "outputs": [],
   "source": [
    "complaint_df.head()"
   ]
  },
  {
   "cell_type": "markdown",
   "metadata": {},
   "source": [
    "According to your selection of data, **how many cases were filed in March?** How about May?"
   ]
  },
  {
   "cell_type": "code",
   "execution_count": 56,
   "metadata": {
    "collapsed": false
   },
   "outputs": [],
   "source": [
    "#confirm this is a date type \n",
    "# complaint_df['Created Date']"
   ]
  },
  {
   "cell_type": "code",
   "execution_count": null,
   "metadata": {
    "collapsed": false
   },
   "outputs": [],
   "source": []
  },
  {
   "cell_type": "code",
   "execution_count": 55,
   "metadata": {
    "collapsed": false
   },
   "outputs": [],
   "source": [
    "\n",
    "complaint_df.index = complaint_df['Created Date']\n",
    "# complaint_df.head()"
   ]
  },
  {
   "cell_type": "code",
   "execution_count": 199,
   "metadata": {
    "collapsed": false
   },
   "outputs": [
    {
     "data": {
      "image/png": "[encoded data removed]",
      "text/plain": [
       "<matplotlib.figure.Figure at 0x174548fd0>"
      ]
     },
     "metadata": {},
     "output_type": "display_data"
    }
   ],
   "source": [
    "#complaint_df = complaint_df.set_index(['Created Date'])\n",
    "#complaint_df['Created Date'] = pd.to_datetime(complaint_df['Created Date'])\n",
    "ax = complaint_df['2015-03'].resample('D').count().plot(y='Unique Key')\n",
    "# complaint_df['2015-04']['Complaint Type'].count()\n",
    "ax.set_title('NYC Complaints in March 2015')\n",
    "ax.set_xlabel('Day of the Month')\n",
    "ax.set_ylabel('Number of Complaints')\n",
    "plt.savefig('MarchfreqNYcomplaints.png')"
   ]
  },
  {
   "cell_type": "code",
   "execution_count": 200,
   "metadata": {
    "collapsed": false
   },
   "outputs": [
    {
     "data": {
      "image/png": "[encoded data removed]",
      "text/plain": [
       "<matplotlib.figure.Figure at 0x1694b0400>"
      ]
     },
     "metadata": {},
     "output_type": "display_data"
    }
   ],
   "source": [
    "ax = complaint_df['2015-05'].resample('D').count().plot(y='Unique Key')\n",
    "ax.set_title('NYC Complaints in May 2015')\n",
    "ax.set_xlabel('Day of the Month')\n",
    "ax.set_ylabel('Number of Complaints')\n",
    "plt.savefig('MayfreqNYcomplaints.png')"
   ]
  },
  {
   "cell_type": "code",
   "execution_count": 58,
   "metadata": {
    "collapsed": false
   },
   "outputs": [
    {
     "data": {
      "text/html": [
       "<div>\n",
       "<table border=\"1\" class=\"dataframe\">\n",
       "  <thead>\n",
       "    <tr style=\"text-align: right;\">\n",
       "      <th></th>\n",
       "      <th>Unique Key</th>\n",
       "      <th>Created Date</th>\n",
       "      <th>Closed Date</th>\n",
       "      <th>Agency</th>\n",
       "      <th>Agency Name</th>\n",
       "      <th>Complaint Type</th>\n",
       "      <th>Descriptor</th>\n",
       "      <th>Location Type</th>\n",
       "      <th>Incident Zip</th>\n",
       "      <th>Incident Address</th>\n",
       "      <th>...</th>\n",
       "      <th>Bridge Highway Name</th>\n",
       "      <th>Bridge Highway Direction</th>\n",
       "      <th>Road Ramp</th>\n",
       "      <th>Bridge Highway Segment</th>\n",
       "      <th>Garage Lot Name</th>\n",
       "      <th>Ferry Direction</th>\n",
       "      <th>Ferry Terminal Name</th>\n",
       "      <th>Latitude</th>\n",
       "      <th>Longitude</th>\n",
       "      <th>Location</th>\n",
       "    </tr>\n",
       "    <tr>\n",
       "      <th>Created Date</th>\n",
       "      <th></th>\n",
       "      <th></th>\n",
       "      <th></th>\n",
       "      <th></th>\n",
       "      <th></th>\n",
       "      <th></th>\n",
       "      <th></th>\n",
       "      <th></th>\n",
       "      <th></th>\n",
       "      <th></th>\n",
       "      <th></th>\n",
       "      <th></th>\n",
       "      <th></th>\n",
       "      <th></th>\n",
       "      <th></th>\n",
       "      <th></th>\n",
       "      <th></th>\n",
       "      <th></th>\n",
       "      <th></th>\n",
       "      <th></th>\n",
       "      <th></th>\n",
       "    </tr>\n",
       "  </thead>\n",
       "  <tbody>\n",
       "    <tr>\n",
       "      <th>2015-07-06 10:58:27</th>\n",
       "      <td>31015465</td>\n",
       "      <td>2015-07-06 10:58:27</td>\n",
       "      <td>07/22/2015 01:07:20 AM</td>\n",
       "      <td>DCA</td>\n",
       "      <td>Department of Consumer Affairs</td>\n",
       "      <td>Consumer Complaint</td>\n",
       "      <td>Demand for Cash</td>\n",
       "      <td>NaN</td>\n",
       "      <td>11360</td>\n",
       "      <td>27-16 203 STREET</td>\n",
       "      <td>...</td>\n",
       "      <td>NaN</td>\n",
       "      <td>NaN</td>\n",
       "      <td>NaN</td>\n",
       "      <td>NaN</td>\n",
       "      <td>NaN</td>\n",
       "      <td>NaN</td>\n",
       "      <td>NaN</td>\n",
       "      <td>40.773540</td>\n",
       "      <td>-73.788237</td>\n",
       "      <td>(40.773539552542, -73.78823697228408)</td>\n",
       "    </tr>\n",
       "    <tr>\n",
       "      <th>2015-07-03 13:26:29</th>\n",
       "      <td>30997660</td>\n",
       "      <td>2015-07-03 13:26:29</td>\n",
       "      <td>07/03/2015 02:08:20 PM</td>\n",
       "      <td>NYPD</td>\n",
       "      <td>New York City Police Department</td>\n",
       "      <td>Vending</td>\n",
       "      <td>In Prohibited Area</td>\n",
       "      <td>Residential Building/House</td>\n",
       "      <td>10019</td>\n",
       "      <td>200 CENTRAL PARK SOUTH</td>\n",
       "      <td>...</td>\n",
       "      <td>NaN</td>\n",
       "      <td>NaN</td>\n",
       "      <td>NaN</td>\n",
       "      <td>NaN</td>\n",
       "      <td>NaN</td>\n",
       "      <td>NaN</td>\n",
       "      <td>NaN</td>\n",
       "      <td>40.767021</td>\n",
       "      <td>-73.979448</td>\n",
       "      <td>(40.76702142171206, -73.97944780718524)</td>\n",
       "    </tr>\n",
       "    <tr>\n",
       "      <th>2015-11-09 03:55:09</th>\n",
       "      <td>31950223</td>\n",
       "      <td>2015-11-09 03:55:09</td>\n",
       "      <td>11/09/2015 08:08:57 AM</td>\n",
       "      <td>NYPD</td>\n",
       "      <td>New York City Police Department</td>\n",
       "      <td>Blocked Driveway</td>\n",
       "      <td>No Access</td>\n",
       "      <td>Street/Sidewalk</td>\n",
       "      <td>10453</td>\n",
       "      <td>1993 GRAND AVENUE</td>\n",
       "      <td>...</td>\n",
       "      <td>NaN</td>\n",
       "      <td>NaN</td>\n",
       "      <td>NaN</td>\n",
       "      <td>NaN</td>\n",
       "      <td>NaN</td>\n",
       "      <td>NaN</td>\n",
       "      <td>NaN</td>\n",
       "      <td>40.852671</td>\n",
       "      <td>-73.910608</td>\n",
       "      <td>(40.85267061877697, -73.91060771362552)</td>\n",
       "    </tr>\n",
       "    <tr>\n",
       "      <th>2015-07-03 02:18:32</th>\n",
       "      <td>31000038</td>\n",
       "      <td>2015-07-03 02:18:32</td>\n",
       "      <td>07/03/2015 07:54:48 AM</td>\n",
       "      <td>NYPD</td>\n",
       "      <td>New York City Police Department</td>\n",
       "      <td>Noise - Commercial</td>\n",
       "      <td>Loud Music/Party</td>\n",
       "      <td>Club/Bar/Restaurant</td>\n",
       "      <td>11372</td>\n",
       "      <td>84-16 NORTHERN BOULEVARD</td>\n",
       "      <td>...</td>\n",
       "      <td>NaN</td>\n",
       "      <td>NaN</td>\n",
       "      <td>NaN</td>\n",
       "      <td>NaN</td>\n",
       "      <td>NaN</td>\n",
       "      <td>NaN</td>\n",
       "      <td>NaN</td>\n",
       "      <td>40.755774</td>\n",
       "      <td>-73.883262</td>\n",
       "      <td>(40.755773786469966, -73.88326243225418)</td>\n",
       "    </tr>\n",
       "    <tr>\n",
       "      <th>2015-07-04 00:03:27</th>\n",
       "      <td>30995614</td>\n",
       "      <td>2015-07-04 00:03:27</td>\n",
       "      <td>07/04/2015 03:33:09 AM</td>\n",
       "      <td>NYPD</td>\n",
       "      <td>New York City Police Department</td>\n",
       "      <td>Noise - Street/Sidewalk</td>\n",
       "      <td>Loud Talking</td>\n",
       "      <td>Street/Sidewalk</td>\n",
       "      <td>11216</td>\n",
       "      <td>1057 BERGEN STREET</td>\n",
       "      <td>...</td>\n",
       "      <td>NaN</td>\n",
       "      <td>NaN</td>\n",
       "      <td>NaN</td>\n",
       "      <td>NaN</td>\n",
       "      <td>NaN</td>\n",
       "      <td>NaN</td>\n",
       "      <td>NaN</td>\n",
       "      <td>40.676175</td>\n",
       "      <td>-73.951269</td>\n",
       "      <td>(40.67617516102934, -73.9512690004692)</td>\n",
       "    </tr>\n",
       "  </tbody>\n",
       "</table>\n",
       "<p>5 rows × 53 columns</p>\n",
       "</div>"
      ],
      "text/plain": [
       "                     Unique Key        Created Date             Closed Date  \\\n",
       "Created Date                                                                  \n",
       "2015-07-06 10:58:27    31015465 2015-07-06 10:58:27  07/22/2015 01:07:20 AM   \n",
       "2015-07-03 13:26:29    30997660 2015-07-03 13:26:29  07/03/2015 02:08:20 PM   \n",
       "2015-11-09 03:55:09    31950223 2015-11-09 03:55:09  11/09/2015 08:08:57 AM   \n",
       "2015-07-03 02:18:32    31000038 2015-07-03 02:18:32  07/03/2015 07:54:48 AM   \n",
       "2015-07-04 00:03:27    30995614 2015-07-04 00:03:27  07/04/2015 03:33:09 AM   \n",
       "\n",
       "                    Agency                      Agency Name  \\\n",
       "Created Date                                                  \n",
       "2015-07-06 10:58:27    DCA   Department of Consumer Affairs   \n",
       "2015-07-03 13:26:29   NYPD  New York City Police Department   \n",
       "2015-11-09 03:55:09   NYPD  New York City Police Department   \n",
       "2015-07-03 02:18:32   NYPD  New York City Police Department   \n",
       "2015-07-04 00:03:27   NYPD  New York City Police Department   \n",
       "\n",
       "                              Complaint Type          Descriptor  \\\n",
       "Created Date                                                       \n",
       "2015-07-06 10:58:27       Consumer Complaint     Demand for Cash   \n",
       "2015-07-03 13:26:29                  Vending  In Prohibited Area   \n",
       "2015-11-09 03:55:09         Blocked Driveway           No Access   \n",
       "2015-07-03 02:18:32       Noise - Commercial    Loud Music/Party   \n",
       "2015-07-04 00:03:27  Noise - Street/Sidewalk        Loud Talking   \n",
       "\n",
       "                                  Location Type Incident Zip  \\\n",
       "Created Date                                                   \n",
       "2015-07-06 10:58:27                         NaN        11360   \n",
       "2015-07-03 13:26:29  Residential Building/House        10019   \n",
       "2015-11-09 03:55:09             Street/Sidewalk        10453   \n",
       "2015-07-03 02:18:32         Club/Bar/Restaurant        11372   \n",
       "2015-07-04 00:03:27             Street/Sidewalk        11216   \n",
       "\n",
       "                             Incident Address  \\\n",
       "Created Date                                    \n",
       "2015-07-06 10:58:27          27-16 203 STREET   \n",
       "2015-07-03 13:26:29    200 CENTRAL PARK SOUTH   \n",
       "2015-11-09 03:55:09         1993 GRAND AVENUE   \n",
       "2015-07-03 02:18:32  84-16 NORTHERN BOULEVARD   \n",
       "2015-07-04 00:03:27        1057 BERGEN STREET   \n",
       "\n",
       "                                       ...                     \\\n",
       "Created Date                           ...                      \n",
       "2015-07-06 10:58:27                    ...                      \n",
       "2015-07-03 13:26:29                    ...                      \n",
       "2015-11-09 03:55:09                    ...                      \n",
       "2015-07-03 02:18:32                    ...                      \n",
       "2015-07-04 00:03:27                    ...                      \n",
       "\n",
       "                    Bridge Highway Name Bridge Highway Direction Road Ramp  \\\n",
       "Created Date                                                                 \n",
       "2015-07-06 10:58:27                 NaN                      NaN       NaN   \n",
       "2015-07-03 13:26:29                 NaN                      NaN       NaN   \n",
       "2015-11-09 03:55:09                 NaN                      NaN       NaN   \n",
       "2015-07-03 02:18:32                 NaN                      NaN       NaN   \n",
       "2015-07-04 00:03:27                 NaN                      NaN       NaN   \n",
       "\n",
       "                    Bridge Highway Segment Garage Lot Name Ferry Direction  \\\n",
       "Created Date                                                                 \n",
       "2015-07-06 10:58:27                    NaN             NaN             NaN   \n",
       "2015-07-03 13:26:29                    NaN             NaN             NaN   \n",
       "2015-11-09 03:55:09                    NaN             NaN             NaN   \n",
       "2015-07-03 02:18:32                    NaN             NaN             NaN   \n",
       "2015-07-04 00:03:27                    NaN             NaN             NaN   \n",
       "\n",
       "                    Ferry Terminal Name   Latitude  Longitude  \\\n",
       "Created Date                                                    \n",
       "2015-07-06 10:58:27                 NaN  40.773540 -73.788237   \n",
       "2015-07-03 13:26:29                 NaN  40.767021 -73.979448   \n",
       "2015-11-09 03:55:09                 NaN  40.852671 -73.910608   \n",
       "2015-07-03 02:18:32                 NaN  40.755774 -73.883262   \n",
       "2015-07-04 00:03:27                 NaN  40.676175 -73.951269   \n",
       "\n",
       "                                                     Location  \n",
       "Created Date                                                   \n",
       "2015-07-06 10:58:27     (40.773539552542, -73.78823697228408)  \n",
       "2015-07-03 13:26:29   (40.76702142171206, -73.97944780718524)  \n",
       "2015-11-09 03:55:09   (40.85267061877697, -73.91060771362552)  \n",
       "2015-07-03 02:18:32  (40.755773786469966, -73.88326243225418)  \n",
       "2015-07-04 00:03:27    (40.67617516102934, -73.9512690004692)  \n",
       "\n",
       "[5 rows x 53 columns]"
      ]
     },
     "execution_count": 58,
     "metadata": {},
     "output_type": "execute_result"
    }
   ],
   "source": [
    "complaint_df.head()"
   ]
  },
  {
   "cell_type": "markdown",
   "metadata": {},
   "source": [
    "I'd like to see all of the 311 complaints **called in on April 1st.**\n",
    "\n",
    "> **Surprise!** We couldn't do this in class, but it was just a limitation of our data set"
   ]
  },
  {
   "cell_type": "code",
   "execution_count": 67,
   "metadata": {
    "collapsed": false
   },
   "outputs": [
    {
     "name": "stdout",
     "output_type": "stream",
     "text": [
      "There were 573 complaints on April 1st.\n"
     ]
    }
   ],
   "source": [
    "print(\"There were\", complaint_df['2015-04-01']['Unique Key'].count(), \"complaints on April 1st.\")"
   ]
  },
  {
   "cell_type": "markdown",
   "metadata": {},
   "source": [
    "What was the most popular type of complaint on April 1st?"
   ]
  },
  {
   "cell_type": "markdown",
   "metadata": {},
   "source": [
    "What were the **most popular three types of complaint** on April 1st"
   ]
  },
  {
   "cell_type": "code",
   "execution_count": 71,
   "metadata": {
    "collapsed": false
   },
   "outputs": [
    {
     "data": {
      "text/plain": [
       "Complaint Type\n",
       "Illegal Parking    67\n",
       "Name: Complaint Type, dtype: int64"
      ]
     },
     "execution_count": 71,
     "metadata": {},
     "output_type": "execute_result"
    }
   ],
   "source": [
    "complaint_df['2015-04-01'].groupby('Complaint Type')['Complaint Type'].count().sort_values(ascending=False).head(1)"
   ]
  },
  {
   "cell_type": "code",
   "execution_count": 74,
   "metadata": {
    "collapsed": false
   },
   "outputs": [
    {
     "data": {
      "text/plain": [
       "Complaint Type\n",
       "Illegal Parking     67\n",
       "Street Condition    64\n",
       "Blocked Driveway    58\n",
       "Name: Complaint Type, dtype: int64"
      ]
     },
     "execution_count": 74,
     "metadata": {},
     "output_type": "execute_result"
    }
   ],
   "source": [
    "complaint_df['2015-04-01'].groupby('Complaint Type')['Complaint Type'].count().sort_values(ascending=False).head(3)"
   ]
  },
  {
   "cell_type": "markdown",
   "metadata": {},
   "source": [
    "**What month has the most reports filed?** How many? Graph it."
   ]
  },
  {
   "cell_type": "code",
   "execution_count": 77,
   "metadata": {
    "collapsed": false
   },
   "outputs": [
    {
     "data": {
      "text/plain": [
       "Created Date\n",
       "2015-05-31    49715\n",
       "Name: Complaint Type, dtype: int64"
      ]
     },
     "execution_count": 77,
     "metadata": {},
     "output_type": "execute_result"
    }
   ],
   "source": [
    "complaint_df.resample('M')['Complaint Type'].count().sort_values(ascending=False).head(1)"
   ]
  },
  {
   "cell_type": "code",
   "execution_count": 201,
   "metadata": {
    "collapsed": false
   },
   "outputs": [
    {
     "data": {
      "image/png": "[encoded data removed]",
      "text/plain": [
       "<matplotlib.figure.Figure at 0x169601d30>"
      ]
     },
     "metadata": {},
     "output_type": "display_data"
    }
   ],
   "source": [
    "ax = complaint_df['2015-05'].resample('D').count().plot(y='Unique Key')\n",
    "ax.set_title('NYC Complaints in May 2015')\n",
    "ax.set_xlabel('Day of the Month')\n",
    "ax.set_ylabel('Number of Complaints')\n",
    "plt.savefig('MayfreqNYcomplaints.png')"
   ]
  },
  {
   "cell_type": "markdown",
   "metadata": {},
   "source": [
    "**What week of the year has the most reports filed?** How many? Graph the weekly complaints."
   ]
  },
  {
   "cell_type": "code",
   "execution_count": 97,
   "metadata": {
    "collapsed": false
   },
   "outputs": [
    {
     "data": {
      "text/plain": [
       "Created Date\n",
       "2015-05-10    13559\n",
       "2015-05-17    11683\n",
       "2015-05-24    10351\n",
       "Name: Complaint Type, dtype: int64"
      ]
     },
     "execution_count": 97,
     "metadata": {},
     "output_type": "execute_result"
    }
   ],
   "source": [
    "complaint_df.resample('W')['Complaint Type'].count().sort_values(ascending=False).head(3)"
   ]
  },
  {
   "cell_type": "code",
   "execution_count": 102,
   "metadata": {
    "collapsed": false
   },
   "outputs": [
    {
     "name": "stderr",
     "output_type": "stream",
     "text": [
      "/Users/Monica/.virtualenvs/dataanalysis/lib/python3.5/site-packages/matplotlib/axes/_base.py:2787: UserWarning: Attempting to set identical left==right results\n",
      "in singular transformations; automatically expanding.\n",
      "left=2367.0, right=2367.0\n",
      "  'left=%s, right=%s') % (left, right))\n"
     ]
    },
    {
     "data": {
      "text/plain": [
       "<matplotlib.axes._subplots.AxesSubplot at 0x11cb0fef0>"
      ]
     },
     "execution_count": 102,
     "metadata": {},
     "output_type": "execute_result"
    },
    {
     "data": {
      "image/png": "[encoded data removed]",
      "text/plain": [
       "<matplotlib.figure.Figure at 0x11ce6f978>"
      ]
     },
     "metadata": {},
     "output_type": "display_data"
    }
   ],
   "source": [
    "complaint_df['2015-05-10'].resample('W')['Complaint Type'].count().plot(y='Unique Key')"
   ]
  },
  {
   "cell_type": "markdown",
   "metadata": {},
   "source": [
    "Noise complaints are a big deal. Use `.str.contains` to select noise complaints, and make an chart of when they show up annually. **Then** make a chart about when they show up every day (cyclic)."
   ]
  },
  {
   "cell_type": "code",
   "execution_count": 202,
   "metadata": {
    "collapsed": false
   },
   "outputs": [
    {
     "data": {
      "image/png": "[encoded data removed]",
      "text/plain": [
       "<matplotlib.figure.Figure at 0x16961a6d8>"
      ]
     },
     "metadata": {},
     "output_type": "display_data"
    }
   ],
   "source": [
    "ax = complaint_df['Complaint Type'].str.contains('Noise').resample('W').count().plot(y='Unique Key')\n",
    "ax.set_title('NYC Complaints in 2015')\n",
    "ax.set_xlabel('Month')\n",
    "ax.set_ylabel('Number of Complaints')\n",
    "plt.savefig('AnnualfreqNYcomplaints.png')"
   ]
  },
  {
   "cell_type": "code",
   "execution_count": 210,
   "metadata": {
    "collapsed": false
   },
   "outputs": [
    {
     "data": {
      "image/png": "[encoded data removed]",
      "text/plain": [
       "<matplotlib.figure.Figure at 0x17363bf98>"
      ]
     },
     "metadata": {},
     "output_type": "display_data"
    }
   ],
   "source": [
    "ax = complaint_df['Complaint Type'].str.contains('Noise').groupby(by=complaint_df.index.hour).mean().plot(y='Unique Key')\n",
    "\n",
    "ax.set_title('Daily NYC SoundComplaints in 2015')\n",
    "ax.set_xlabel('Number of Complaints')\n",
    "plt.savefig('DailyfreqNYSoundcomplaints.png')\n",
    "\n",
    "#ax.set_xticks([0, 1, 2, 3, 4, 5, 6, 7, 8, 9, 10, 11, 12, 13, 14, 15, 16, 17, 18, 19, 20, 21, 22, 23])\n",
    "#ax.set_xticklabels([12, 1, 2, 3, 4, 5, 6, 7, 8, 9, 10, 11, 12, 1, 2, 3, 4, 5, 6, 7, 8, 9, 10, 11])"
   ]
  },
  {
   "cell_type": "code",
   "execution_count": null,
   "metadata": {
    "collapsed": true
   },
   "outputs": [],
   "source": []
  },
  {
   "cell_type": "markdown",
   "metadata": {},
   "source": [
    "**Which were the top five days of the year for filing complaints?** How many on each of those days? Graph it."
   ]
  },
  {
   "cell_type": "code",
   "execution_count": 124,
   "metadata": {
    "collapsed": false
   },
   "outputs": [
    {
     "data": {
      "text/plain": [
       "Created Date\n",
       "2015-05-10    13559\n",
       "2015-05-17    11683\n",
       "2015-05-24    10351\n",
       "2015-05-03    10184\n",
       "2015-05-31     9387\n",
       "Name: Complaint Type, dtype: int64"
      ]
     },
     "execution_count": 124,
     "metadata": {},
     "output_type": "execute_result"
    }
   ],
   "source": [
    "complaint_df.resample('W')['Complaint Type'].count().sort_values(ascending=False).head(5)"
   ]
  },
  {
   "cell_type": "code",
   "execution_count": 176,
   "metadata": {
    "collapsed": false,
    "scrolled": true
   },
   "outputs": [],
   "source": [
    "#may_17 = complaint_df['2015-05-17']\n",
    "#ax = may_17.groupby(by=may_17.index.hour).count().plot(y='Unique Key')"
   ]
  },
  {
   "cell_type": "code",
   "execution_count": 183,
   "metadata": {
    "collapsed": false
   },
   "outputs": [
    {
     "data": {
      "text/plain": [
       "[<matplotlib.text.Text at 0x17332efd0>,\n",
       " <matplotlib.text.Text at 0x173333080>,\n",
       " <matplotlib.text.Text at 0x173364080>,\n",
       " <matplotlib.text.Text at 0x17335cd68>,\n",
       " <matplotlib.text.Text at 0x173369320>,\n",
       " <matplotlib.text.Text at 0x173369d68>,\n",
       " <matplotlib.text.Text at 0x1733746a0>,\n",
       " <matplotlib.text.Text at 0x173369908>,\n",
       " <matplotlib.text.Text at 0x173355978>,\n",
       " <matplotlib.text.Text at 0x17338d2b0>,\n",
       " <matplotlib.text.Text at 0x17335c5f8>,\n",
       " <matplotlib.text.Text at 0x1733170b8>,\n",
       " <matplotlib.text.Text at 0x173322ef0>,\n",
       " <matplotlib.text.Text at 0x173325160>,\n",
       " <matplotlib.text.Text at 0x1733a9748>,\n",
       " <matplotlib.text.Text at 0x1733a9f60>,\n",
       " <matplotlib.text.Text at 0x1733ad7b8>,\n",
       " <matplotlib.text.Text at 0x1733ae1d0>,\n",
       " <matplotlib.text.Text at 0x1733aec18>,\n",
       " <matplotlib.text.Text at 0x1733b26a0>,\n",
       " <matplotlib.text.Text at 0x1733b5128>,\n",
       " <matplotlib.text.Text at 0x1733b5b70>,\n",
       " <matplotlib.text.Text at 0x1733ba5f8>,\n",
       " <matplotlib.text.Text at 0x1733bc080>]"
      ]
     },
     "execution_count": 183,
     "metadata": {},
     "output_type": "execute_result"
    },
    {
     "data": {
      "image/png": "[encoded data removed]",
      "text/plain": [
       "<matplotlib.figure.Figure at 0x1730a55c0>"
      ]
     },
     "metadata": {},
     "output_type": "display_data"
    }
   ],
   "source": [
    "may_17 = complaint_df['2015-05-17']\n",
    "ax = may_17.groupby(by=may_17.index.hour).count().plot(y='Unique Key', label=\"May 17th\")\n",
    "may_24 = complaint_df['2015-05-24']\n",
    "may_24.groupby(by=may_24.index.hour).count().plot(y='Unique Key', ax=ax, label = \"May 24th\")\n",
    "may_03 = complaint_df['2015-05-03']\n",
    "may_03.groupby(by=may_03.index.hour).count().plot(y='Unique Key', ax=ax, label = \"May 3rd\")\n",
    "may_10 = complaint_df['2015-05-10']\n",
    "may_10.groupby(by=may_10.index.hour).count().plot(y='Unique Key', ax=ax, label = \"May 10th\")\n",
    "may_31 = complaint_df['2015-05-31']\n",
    "may_31.groupby(by=may_31.index.hour).count().plot(y='Unique Key', ax=ax, label = \"May 31st\")\n",
    "ax.set_xticks([0, 1, 2, 3, 4, 5, 6, 7, 8, 9, 10, 11, 12, 13, 14, 15, 16, 17, 18, 19, 20, 21, 22, 23])\n",
    "ax.set_xticklabels([12, 1, 2, 3, 4, 5, 6, 7, 8, 9, 10, 11, 12, 1, 2, 3, 4, 5, 6, 7, 8, 9, 10, 11])"
   ]
  },
  {
   "cell_type": "code",
   "execution_count": 174,
   "metadata": {
    "collapsed": false
   },
   "outputs": [
    {
     "data": {
      "text/plain": [
       "<matplotlib.axes._subplots.AxesSubplot at 0x171ae2198>"
      ]
     },
     "execution_count": 174,
     "metadata": {},
     "output_type": "execute_result"
    }
   ],
   "source": [
    "ax"
   ]
  },
  {
   "cell_type": "code",
   "execution_count": 182,
   "metadata": {
    "collapsed": false,
    "scrolled": true
   },
   "outputs": [],
   "source": [
    "# ax = complaint_df['2015-05-10'].resample('H').count().plot(y='Unique Key')\n",
    "#ax = complaint_df['2015-05-17'].groupby(by=complaint_df.index.hour).count().plot(y='Unique Key', label = \"May 17th\")\n",
    "# complaint_df['2015-05-24'].resample('H')['Complaint Type'].count().plot(y='Unique Key', ax=ax, label = \"May 24th\")\n",
    "# complaint_df['2015-05-03'].resample('H')['Complaint Type'].count().plot(y='Unique Key', ax=ax, label = \"May 3rd\")\n",
    "# complaint_df['2015-05-31'].resample('H')['Complaint Type'].count().plot(y='Unique Key', ax=ax, label = \"May 31st\")\n",
    "# # the least sold in a month (e.g., the worst January ever , the worst July ever, etc)\n",
    "# complaint_df['2015-05-17'].resample('H')['Complaint Type'].count().plot(y='Unique Key', ax=ax, label = 'May 17th')\n",
    "\n",
    "# the most sold in a month (e.g., the best January ever , the best July ever, etc)\n",
    "#df.groupby(by=df.index.month).max().plot(y='val', ax=ax, label = 'Most Sold')"
   ]
  },
  {
   "cell_type": "markdown",
   "metadata": {},
   "source": [
    "**What hour of the day are the most complaints?** Graph a day of complaints."
   ]
  },
  {
   "cell_type": "code",
   "execution_count": 197,
   "metadata": {
    "collapsed": false
   },
   "outputs": [
    {
     "data": {
      "image/png": "[encoded data removed]",
      "text/plain": [
       "<matplotlib.figure.Figure at 0x1744390f0>"
      ]
     },
     "metadata": {},
     "output_type": "display_data"
    }
   ],
   "source": [
    "#make a graph of the average \n",
    "ax = complaint_df.groupby(by=complaint_df.index.hour).mean().plot(y='Unique Key', label='Average')\n",
    "#x_values = complaint_df.groupby(by=complaint_df.index.hour).median().index\n",
    "# get the minimum\n",
    "#min_values = complaint_df.groupby(by=complaint_df.index.hour)['Unique Key'].min()\n",
    "#get maxs\n",
    "#max_values = complaint_df.groupby(by=complaint_df.index.hour)['Unique Key'].max()\n",
    "#ax.fill_between(x_values, min_values, max_values, alpha=0.3)\n",
    "#ax.set_title(\"Fluctuation of House Sales\")"
   ]
  },
  {
   "cell_type": "code",
   "execution_count": 192,
   "metadata": {
    "collapsed": false
   },
   "outputs": [
    {
     "data": {
      "text/plain": [
       "0     30614734\n",
       "1     30867364\n",
       "2     30793150\n",
       "3     30785415\n",
       "4     31058530\n",
       "5     30853700\n",
       "6     31021120\n",
       "7     30812242\n",
       "8     30782634\n",
       "9     30776134\n",
       "10    30766641\n",
       "11    30774043\n",
       "12    30780706\n",
       "13    30775608\n",
       "14    30766844\n",
       "15    30747919\n",
       "16    30746354\n",
       "17    30800853\n",
       "18    30752702\n",
       "19    30804272\n",
       "20    30945024\n",
       "21    30924831\n",
       "22    30893587\n",
       "23    30857818\n",
       "Name: Unique Key, dtype: int64"
      ]
     },
     "execution_count": 192,
     "metadata": {},
     "output_type": "execute_result"
    }
   ],
   "source": [
    " complaint_df.groupby(by=complaint_df.index.hour)['Unique Key'].median()"
   ]
  },
  {
   "cell_type": "markdown",
   "metadata": {},
   "source": [
    "One of the hours has an odd number of complaints. What are the most common complaints at that hour, and what are the most common complaints the hour before and after?"
   ]
  },
  {
   "cell_type": "code",
   "execution_count": 214,
   "metadata": {
    "collapsed": false
   },
   "outputs": [
    {
     "data": {
      "image/png": "[encoded data removed]",
      "text/plain": [
       "<matplotlib.figure.Figure at 0x1755d1b00>"
      ]
     },
     "metadata": {},
     "output_type": "display_data"
    }
   ],
   "source": [
    "ax = complaint_df['Complaint Type'].str.contains('04:').resample('T').count().plot(y='Unique Key')"
   ]
  },
  {
   "cell_type": "code",
   "execution_count": null,
   "metadata": {
    "collapsed": false
   },
   "outputs": [],
   "source": []
  },
  {
   "cell_type": "code",
   "execution_count": null,
   "metadata": {
    "collapsed": false
   },
   "outputs": [],
   "source": []
  },
  {
   "cell_type": "markdown",
   "metadata": {},
   "source": [
    "So odd. What's the **per-minute breakdown** of complaints between 12am and 1am? You don't need to include 1am."
   ]
  },
  {
   "cell_type": "code",
   "execution_count": null,
   "metadata": {
    "collapsed": false
   },
   "outputs": [],
   "source": []
  },
  {
   "cell_type": "markdown",
   "metadata": {},
   "source": [
    "Looks like midnight is a little bit of an outlier. Why might that be? Take the 5 most common agencies and graph the times they file reports at (all day, not just midnight)."
   ]
  },
  {
   "cell_type": "code",
   "execution_count": null,
   "metadata": {
    "collapsed": false
   },
   "outputs": [],
   "source": []
  },
  {
   "cell_type": "markdown",
   "metadata": {},
   "source": [
    "Graph those same agencies on an annual basis - make it **weekly**. When do people like to complain? When does the NYPD have an odd number of complaints?"
   ]
  },
  {
   "cell_type": "code",
   "execution_count": null,
   "metadata": {
    "collapsed": false
   },
   "outputs": [],
   "source": []
  },
  {
   "cell_type": "markdown",
   "metadata": {},
   "source": [
    "Maybe the NYPD deals with different issues at different times? Check the most popular complaints in July and August vs the month of May. Also check the most common complaints for the Housing Preservation Bureau (HPD) in winter vs. summer."
   ]
  },
  {
   "cell_type": "code",
   "execution_count": null,
   "metadata": {
    "collapsed": false
   },
   "outputs": [],
   "source": []
  },
  {
   "cell_type": "code",
   "execution_count": null,
   "metadata": {
    "collapsed": false
   },
   "outputs": [],
   "source": []
  },
  {
   "cell_type": "code",
   "execution_count": null,
   "metadata": {
    "collapsed": false
   },
   "outputs": [],
   "source": []
  },
  {
   "cell_type": "code",
   "execution_count": null,
   "metadata": {
    "collapsed": false
   },
   "outputs": [],
   "source": []
  },
  {
   "cell_type": "code",
   "execution_count": null,
   "metadata": {
    "collapsed": true
   },
   "outputs": [],
   "source": []
  }
 ],
 "metadata": {
  "kernelspec": {
   "display_name": "Python 3",
   "language": "python",
   "name": "python3"
  },
  "language_info": {
   "codemirror_mode": {
    "name": "ipython",
    "version": 3
   },
   "file_extension": ".py",
   "mimetype": "text/x-python",
   "name": "python",
   "nbconvert_exporter": "python",
   "pygments_lexer": "ipython3",
   "version": "3.5.1"
  }
 },
 "nbformat": 4,
 "nbformat_minor": 0
}
