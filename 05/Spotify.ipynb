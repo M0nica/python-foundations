{
 "cells": [
  {
   "cell_type": "code",
   "execution_count": 60,
   "metadata": {
    "collapsed": false
   },
   "outputs": [
    {
     "name": "stdout",
     "output_type": "stream",
     "text": [
      "Lil Wayne 86\n",
      "Lil Yachty 72\n",
      "Lil Uzi Vert 72\n",
      "Lil Dicky 68\n",
      "Boosie Badazz 67\n",
      "Lil Jon 72\n",
      "King Lil G 61\n",
      "Lil Durk 60\n",
      "Lil Jon & The East Side Boyz 60\n",
      "Lil Bibby 54\n",
      "G Herbo 53\n",
      "Lil Rob 50\n",
      "Lil Reese 50\n",
      "Lil Keke 48\n",
      "Bow Wow 57\n",
      "Lil Scrappy 49\n",
      "Lil Wyte 50\n",
      "Lil Blood 45\n",
      "Lil Snupe 45\n",
      "Lil Mama 45\n",
      "Lil B 44\n",
      "Lil' Kim 62\n",
      "Lil Cuete 40\n",
      "Lil Phat 39\n",
      "Lil Debbie 43\n",
      "Lil Twist 39\n",
      "Lil Trill 37\n",
      "Lil Twon 38\n",
      "Lil AJ 37\n",
      "Lil Lonnie 36\n",
      "Lil Goofy 35\n",
      "Mr. Lil One 36\n",
      "Lil Flash 38\n",
      "Lil Kesh 39\n",
      "Lil Haiti 35\n",
      "Lil Silva 43\n",
      "Lil Rue 34\n",
      "Lil Cray 35\n",
      "Lil Eddie 41\n",
      "Lil Wayne, DJ Drama 35\n",
      "Lil Yase 33\n",
      "Lil Suzy 34\n",
      "Lil Mouse 34\n",
      "Lil C 33\n",
      "Lil Rick 38\n",
      "Lil Boom 33\n",
      "Lil June 32\n",
      "Lil E 34\n",
      "Lil Fate 34\n",
      "Lil' Flip 49\n"
     ]
    }
   ],
   "source": [
    "#1) With \"Lil Wayne\" and \"Lil Kim\" there are a lot of \"Lil\" musicians. \n",
    "#Do a search and print a list of 50 that are playable in the USA\n",
    "#(or the country of your choice), along with their popularity score.\n",
    "\n",
    "import requests\n",
    "response = requests.get('https://api.spotify.com/v1/search?query=lil&type=artist&limit=50&market=US')\n",
    "data = response.json()\n",
    "# print(data)\n",
    "lil_artists = data['artists']['items']\n",
    "for artist in lil_artists:\n",
    "    print(artist['name'], artist['popularity'])"
   ]
  },
  {
   "cell_type": "code",
   "execution_count": 24,
   "metadata": {
    "collapsed": false
   },
   "outputs": [
    {
     "name": "stdout",
     "output_type": "stream",
     "text": [
      "Lil Wayne 86\n",
      "['dirty south rap', 'pop rap', 'southern hip hop', 'trap music']\n",
      "Lil Yachty 72\n",
      "No genres listed.\n",
      "Lil Uzi Vert 72\n",
      "No genres listed.\n",
      "Lil Dicky 68\n",
      "No genres listed.\n",
      "Boosie Badazz 67\n",
      "No genres listed.\n",
      "Lil Jon 72\n",
      "['crunk', 'dirty south rap', 'southern hip hop']\n",
      "King Lil G 61\n",
      "No genres listed.\n",
      "Lil Durk 60\n",
      "No genres listed.\n",
      "Lil Jon & The East Side Boyz 60\n",
      "No genres listed.\n",
      "Lil Bibby 54\n",
      "No genres listed.\n",
      "G Herbo 53\n",
      "No genres listed.\n",
      "Lil Rob 50\n",
      "['chicano rap', 'latin hip hop']\n",
      "Lil Reese 50\n",
      "No genres listed.\n",
      "Lil Keke 48\n",
      "No genres listed.\n",
      "Bow Wow 57\n",
      "['hip pop', 'pop rap']\n",
      "Lil Scrappy 49\n",
      "['crunk', 'dirty south rap', 'southern hip hop', 'trap music']\n",
      "Lil Wyte 50\n",
      "['juggalo']\n",
      "Lil Blood 45\n",
      "No genres listed.\n",
      "Lil Snupe 45\n",
      "No genres listed.\n",
      "Lil Mama 45\n",
      "['hip pop']\n",
      "Lil B 44\n",
      "No genres listed.\n",
      "Lil' Kim 62\n",
      "['hip pop']\n",
      "Lil Cuete 40\n",
      "['chicano rap']\n",
      "Lil Phat 39\n",
      "No genres listed.\n",
      "Lil Debbie 43\n",
      "No genres listed.\n",
      "Lil Twist 39\n",
      "['jerk']\n",
      "Lil Trill 37\n",
      "['deep trap']\n",
      "Lil Twon 38\n",
      "No genres listed.\n",
      "Lil AJ 37\n",
      "No genres listed.\n",
      "Lil Lonnie 36\n",
      "No genres listed.\n",
      "Lil Goofy 35\n",
      "No genres listed.\n",
      "Mr. Lil One 36\n",
      "['chicano rap']\n",
      "Lil Flash 38\n",
      "No genres listed.\n",
      "Lil Kesh 39\n",
      "No genres listed.\n",
      "Lil Haiti 35\n",
      "No genres listed.\n",
      "Lil Silva 43\n",
      "No genres listed.\n",
      "Lil Rue 34\n",
      "No genres listed.\n",
      "Lil Cray 35\n",
      "No genres listed.\n",
      "Lil Eddie 41\n",
      "No genres listed.\n",
      "Lil Wayne, DJ Drama 35\n",
      "No genres listed.\n",
      "Lil Yase 33\n",
      "No genres listed.\n",
      "Lil Suzy 34\n",
      "['freestyle']\n",
      "Lil Mouse 34\n",
      "No genres listed.\n",
      "Lil C 33\n",
      "No genres listed.\n",
      "Lil Rick 38\n",
      "['soca']\n",
      "Lil Boom 33\n",
      "No genres listed.\n",
      "Lil June 32\n",
      "No genres listed.\n",
      "Lil E 34\n",
      "No genres listed.\n",
      "Lil Fate 34\n",
      "No genres listed.\n",
      "Lil' Flip 49\n",
      "['crunk', 'dirty south rap']\n"
     ]
    }
   ],
   "source": [
    "# 2) What genres are most represented in the search results? \n",
    "#Edit your previous printout to also display a list of their genres \n",
    "#in the format \"GENRE_1, GENRE_2, GENRE_3\". If there are no genres, \n",
    "#print \"No genres listed\".\n",
    "# Tip: \"how to join a list Python\" might be a helpful search\n",
    "\n",
    "\n",
    "import requests\n",
    "response = requests.get('https://api.spotify.com/v1/search?query=lil&type=artist&limit=50&market=US')\n",
    "data = response.json()\n",
    "# print(data)\n",
    "lil_artists = data['artists']['items']\n",
    "for artist in lil_artists:\n",
    "    print(artist['name'], artist['popularity'])\n",
    "    if len(artist['genres']) > 0:\n",
    "           print(artist['genres'])\n",
    "        #s = ',';\n",
    "        # print s.join(artist['genres'])\n",
    "    else: \n",
    "           print(\"No genres listed.\")"
   ]
  },
  {
   "cell_type": "code",
   "execution_count": 57,
   "metadata": {
    "collapsed": false
   },
   "outputs": [
    {
     "name": "stdout",
     "output_type": "stream",
     "text": [
      "The most popular artist (not including Lil Wayne) is Lil Yachty\n"
     ]
    }
   ],
   "source": [
    "# 3)  Use a for loop to determine who BESIDES Lil Wayne has\n",
    "#the highest popularity rating. Is it the same artist who has \n",
    "# the largest number of followers?\n",
    "\n",
    "\n",
    "import requests\n",
    "response = requests.get('https://api.spotify.com/v1/search?query=lil&type=artist&limit=50&market=US')\n",
    "data = response.json()\n",
    "# print(data)\n",
    "max_popularity = 0;\n",
    "lil_artists = data['artists']['items']\n",
    "for artist in lil_artists:\n",
    "    if not artist['name'] == 'Lil Wayne':\n",
    "        # print(artist['name'], artist['popularity'])\n",
    "        if artist['popularity'] > max_popularity:\n",
    "          #  print(\"Now\",artist['name'], \"is the most popular.\")\n",
    "            max_popularity = artist['popularity']\n",
    "            most_popular = artist['name']\n",
    "            \n",
    "print(\"The most popular artist (not including Lil Wayne) is\", most_popular )\n",
    "    \n",
    "   "
   ]
  },
  {
   "cell_type": "code",
   "execution_count": 48,
   "metadata": {
    "collapsed": false
   },
   "outputs": [],
   "source": [
    "# lilkim_id = '5tth2a3v0sWwV1C7bApBdX'\n",
    "# lilkimresponse = requests.get('https://api.spotify.com/v1/artists/' + lilkim_id)\n",
    "\n",
    "# lilkimresponse.keys()"
   ]
  },
  {
   "cell_type": "code",
   "execution_count": 42,
   "metadata": {
    "collapsed": false
   },
   "outputs": [
    {
     "name": "stdout",
     "output_type": "stream",
     "text": [
      "Lil Kim has a popularity of 62\n",
      "Lil Wayne is more popular than Lil Kim.\n",
      "Lil Yachty is more popular than Lil Kim.\n",
      "Lil Uzi Vert is more popular than Lil Kim.\n",
      "Lil Dicky is more popular than Lil Kim.\n",
      "Boosie Badazz is more popular than Lil Kim.\n",
      "Lil Jon is more popular than Lil Kim.\n",
      "The most popular artist (not including Lil Wayne) is Lil Yachty\n"
     ]
    }
   ],
   "source": [
    "# 4) Print a list of Lil's that are more popular than Lil' Kim.\n",
    "\n",
    "\n",
    "import requests\n",
    "response = requests.get('https://api.spotify.com/v1/search?query=lil&type=artist&limit=50&market=US')\n",
    "data = response.json()\n",
    "# print(data)\n",
    "\n",
    "lil_artists = data['artists']['items']\n",
    "\n",
    "lilkim_id = '5tth2a3v0sWwV1C7bApBdX'\n",
    "lilkimresponse = requests.get('https://api.spotify.com/v1/artists/' + lilkim_id)\n",
    "lilkimresponse = lilkimresponse.json()\n",
    "# print(lilkimresponse.keys())\n",
    "\n",
    "lilkim_pop = lilkimresponse['popularity']\n",
    "print(\"Lil Kim has a popularity of\", lilkim_pop)\n",
    "\n",
    "\n",
    "for artist in lil_artists:\n",
    "       # print(artist['name'], artist['popularity'], artist['id'])\n",
    "        if artist['popularity'] > lilkim_pop:\n",
    "           print(artist['name'], \"is more popular than Lil Kim.\")\n",
    "          \n",
    "            \n",
    "print(\"The most popular artist (not including Lil Wayne) is\", most_popular )\n",
    "    \n",
    "   "
   ]
  },
  {
   "cell_type": "code",
   "execution_count": 95,
   "metadata": {
    "collapsed": false
   },
   "outputs": [
    {
     "name": "stdout",
     "output_type": "stream",
     "text": [
      "Lil Jon's top tracks are:\n",
      "Turn Down for What\n",
      "Gasolina - DJ Buddah Remix\n",
      "Snap Yo Fingers\n",
      "Bend Ova\n",
      "Turn Down for What - Official Remix\n",
      "Culo\n",
      "Get Loose\n",
      "The Anthem\n",
      "Prison Riot\n",
      "Outta Your Mind\n",
      "Lil Wayne's top tracks are:\n",
      "Forever\n",
      "Nothing But Trouble - Instagram Models\n",
      "6 Foot 7 Foot\n",
      "A Milli\n",
      "Right Above It\n",
      "Lollipop\n",
      "Love Me\n",
      "Rich As Fuck\n",
      "Mirror\n",
      "Believe Me\n"
     ]
    }
   ],
   "source": [
    "#5) Pick two of your favorite Lils to fight it out, \n",
    "# and use their IDs to print out their top tracks.\n",
    "#Tip: You're going to be making two separate requests, \n",
    "#be sure you DO NOT save them into the same variable.\n",
    "\n",
    "lil_jon_id = '7sfl4Xt5KmfyDs2T3SVSMK'\n",
    "\n",
    "liljonresponse = requests.get('https://api.spotify.com/v1/artists/'+ lil_jon_id+'/top-tracks?country=US')\n",
    "liljondata = liljonresponse.json()\n",
    "#liljontracks = liljondata['items']['tracks']\n",
    "# print(liljondata.keys())\n",
    "\n",
    "# print(liljondata)\n",
    "\n",
    "liljontracks = liljondata['tracks']\n",
    "\n",
    "print('Lil Jon\\'s top tracks are:')\n",
    "for track in liljontracks:\n",
    "    print(track['name'])\n",
    "# print(type(liljondata['items']))\n",
    "\n",
    "\n",
    "print('Lil Wayne\\'s top tracks are:')\n",
    "lil_wayne_id = '55Aa2cqylxrFIXC767Z865'\n",
    "lilwayneresponse = requests.get('https://api.spotify.com/v1/artists/'+ lil_wayne_id+'/top-tracks?country=US')\n",
    "lilwaynedata = lilwayneresponse.json()\n",
    "\n",
    "lilwaynetracks = lilwaynedata['tracks']\n",
    "\n",
    "for track in lilwaynetracks:\n",
    "    print(track['name'])\n",
    "#lilwayne = lilwaynedata['tracks']"
   ]
  },
  {
   "cell_type": "markdown",
   "metadata": {},
   "source": [
    "6) Will the world explode if a musicians swears? Get an average popularity for their explicit songs vs. their non-explicit songs. How many minutes of explicit songs do they have? Non-explicit?"
   ]
  },
  {
   "cell_type": "code",
   "execution_count": 103,
   "metadata": {
    "collapsed": false
   },
   "outputs": [
    {
     "name": "stdout",
     "output_type": "stream",
     "text": [
      "Turn Down for What\n",
      "this track is clean\n",
      "Gasolina - DJ Buddah Remix\n",
      "this track is clean\n",
      "Snap Yo Fingers\n",
      "this track is clean\n",
      "Bend Ova\n",
      "this track is explicit\n",
      "Turn Down for What - Official Remix\n",
      "this track is explicit\n",
      "Culo\n",
      "this track is explicit\n",
      "Get Loose\n",
      "this track is explicit\n",
      "The Anthem\n",
      "this track is explicit\n",
      "Prison Riot\n",
      "this track is explicit\n",
      "Outta Your Mind\n",
      "this track is explicit\n",
      "Overall the clean popularity for Lil Jon was 71.66666666666667 and the explicit popularity was 55.857142857142854\n"
     ]
    }
   ],
   "source": [
    "lj_clean_popularity = 0;\n",
    "clean_count = 0;\n",
    "\n",
    "lj_explicit_popularity = 0;\n",
    "explicit_count =0;\n",
    "\n",
    "for track in liljontracks:\n",
    "    print(track['name'])\n",
    "    if track['explicit']:\n",
    "        print(\"this track is explicit\")\n",
    "        explicit_count = explicit_count + 1;\n",
    "        lj_explicit_popularity = lj_explicit_popularity + track['popularity']\n",
    "    else:\n",
    "        print(\"this track is clean\")\n",
    "        clean_count = clean_count + 1;\n",
    "        lj_clean_popularity = lj_clean_popularity + track['popularity']\n",
    "            \n",
    "print(\"Overall the clean popularity for Lil Jon was\",lj_clean_popularity/clean_count,\"and the explicit popularity was\",lj_explicit_popularity/explicit_count)"
   ]
  },
  {
   "cell_type": "code",
   "execution_count": 112,
   "metadata": {
    "collapsed": false
   },
   "outputs": [
    {
     "name": "stdout",
     "output_type": "stream",
     "text": [
      "Forever\n",
      "this track is explicit\n",
      "Nothing But Trouble - Instagram Models\n",
      "this track is explicit\n",
      "6 Foot 7 Foot\n",
      "this track is explicit\n",
      "A Milli\n",
      "this track is explicit\n",
      "Right Above It\n",
      "this track is explicit\n",
      "Lollipop\n",
      "this track is explicit\n",
      "Love Me\n",
      "this track is explicit\n",
      "Rich As Fuck\n",
      "this track is explicit\n",
      "Mirror\n",
      "this track is explicit\n",
      "Believe Me\n",
      "this track is explicit\n",
      "Overall Lil wayne had zero clean songs and the explicit popularity was 69.5 %\n"
     ]
    }
   ],
   "source": [
    "lw_clean_popularity = 0;\n",
    "clean_count = 0;\n",
    "\n",
    "lw_explicit_popularity = 0;\n",
    "explicit_count =0;\n",
    "\n",
    "for track in lilwaynetracks:\n",
    "    print(track['name'])\n",
    "    if track['explicit']:\n",
    "        print(\"this track is explicit\")\n",
    "        explicit_count = explicit_count + 1;\n",
    "        lw_explicit_popularity = lw_explicit_popularity + track['popularity']\n",
    "    else:\n",
    "        print(\"this track is clean\")\n",
    "        clean_count = clean_count + 1;\n",
    "        lw_clean_popularity = lw_clean_popularity + track['popularity']\n",
    "\n",
    "if clean_count > 1 and explicit_count > 1:\n",
    "    print(\"Overall the clean popularity for Lil Wayne was\",lw_clean_popularity/clean_count,\"and the explicit popularity was\",lw_explicit_popularity/explicit_count)\n",
    "elif clean_count == 0 and explicit_count >1:\n",
    "    print(\"Overall Lil wayne had zero clean songs and the explicit popularity was\",lw_explicit_popularity/explicit_count, '%')\n",
    "            "
   ]
  },
  {
   "cell_type": "markdown",
   "metadata": {},
   "source": [
    "7) Since we're talking about Lils, what about Biggies? How many total \"Biggie\" artists are there? How many total \"Lil\"s? If you made 1 request every 5 seconds, how long would it take to download information on all the Lils vs the Biggies?\n"
   ]
  },
  {
   "cell_type": "code",
   "execution_count": 132,
   "metadata": {
    "collapsed": false
   },
   "outputs": [
    {
     "name": "stdout",
     "output_type": "stream",
     "text": [
      "There are 49 Biggie artists.\n",
      "There are 50 lil artists.\n",
      "It would take 49 seconds to get all of the data about Biggie artists and 50 seconds to get all the information about lil artists\n"
     ]
    }
   ],
   "source": [
    "import requests\n",
    "biggieResponse = requests.get('https://api.spotify.com/v1/search?query=biggie&type=artist&limit=50&market=US')\n",
    "biggieData = biggieResponse.json()\n",
    "# print(biggieData.keys())\n",
    "biggie_count = 0\n",
    "# print(len(biggieData['artists']))\n",
    "\n",
    "for artist in biggieData['artists']['items']:\n",
    "    biggie_count = biggie_count + 1\n",
    "\n",
    "print(\"There are\",biggie_count,\"Biggie artists.\")\n",
    "\n",
    "\n",
    "lilResponse = requests.get('https://api.spotify.com/v1/search?query=lil&type=artist&limit=50&market=US')\n",
    "lilData = lilResponse.json()\n",
    "\n",
    "# print(lilData['artists'].keys())\n",
    "\n",
    "lil_count = 0\n",
    "\n",
    "# print(lilData['artists'])\n",
    "for artist in lilData['artists']['items']:\n",
    "    lil_count = lil_count + 1\n",
    "\n",
    "print(\"There are\",lil_count,\"lil artists.\")\n",
    "\n",
    "print(\"It would take\", biggie_count,\"seconds to get all of the data about Biggie artists and\", lil_count,\"seconds to get all the information about lil artists\")"
   ]
  },
  {
   "cell_type": "markdown",
   "metadata": {},
   "source": [
    "8) Out of the top 50 \"Lil\"s and the top 50 \"Biggie\"s, who is more popular on average?"
   ]
  },
  {
   "cell_type": "code",
   "execution_count": null,
   "metadata": {
    "collapsed": true
   },
   "outputs": [],
   "source": [
    "\n",
    "import requests\n",
    "lilResponse = requests.get('https://api.spotify.com/v1/search?query=lil&type=artist&limit=50&market=US')\n",
    "lilData = lilResponse.json()\n",
    "# print(data)\n",
    "max_popularity = 0;\n",
    "lil_artists = data['artists']['items']\n",
    "for artist in lil_artists:\n",
    "        # print(artist['name'], artist['popularity'])\n",
    "        if artist['popularity'] > max_popularity:\n",
    "          #  print(\"Now\",artist['name'], \"is the most popular.\")\n",
    "            max_popularity = artist['popularity']\n",
    "            most_popular = artist['name']\n",
    "\n",
    "import requests\n",
    "bigResponse = requests.get('https://api.spotify.com/v1/search?query=lil&type=artist&limit=50&market=US')\n",
    "bigData = bigResponse.json()\n",
    "# print(data)\n",
    "big_artists = data['artists']['items']\n",
    "for artist in big_artists:\n",
    "        if artist['popularity'] > max_popularity:\n",
    "            max_popularity = artist['popularity']\n",
    "            most_popular = artist['name']\n",
    "\n",
    "   "
   ]
  }
 ],
 "metadata": {
  "kernelspec": {
   "display_name": "Python 3",
   "language": "python",
   "name": "python3"
  },
  "language_info": {
   "codemirror_mode": {
    "name": "ipython",
    "version": 3
   },
   "file_extension": ".py",
   "mimetype": "text/x-python",
   "name": "python",
   "nbconvert_exporter": "python",
   "pygments_lexer": "ipython3",
   "version": "3.5.1"
  }
 },
 "nbformat": 4,
 "nbformat_minor": 0
}
