{
 "cells": [
  {
   "cell_type": "markdown",
   "metadata": {
    "collapsed": true
   },
   "source": [
    "NYT\n",
    "\n",
    "All API's: http://developer.nytimes.com/\n",
    "Article search API: http://developer.nytimes.com/article_search_v2.json\n",
    "Best-seller API: http://developer.nytimes.com/books_api.json#/Documentation\n",
    "Test/build queries: http://developer.nytimes.com/\n",
    "\n",
    "Tip: Remember to include your API key in all requests! And their interactive web thing is pretty bad. You'll need to register for the API key.\n"
   ]
  },
  {
   "cell_type": "code",
   "execution_count": 16,
   "metadata": {
    "collapsed": false,
    "scrolled": false
   },
   "outputs": [],
   "source": [
    "import config\n",
    "import requests\n",
    "\n",
    "#imports key from config file\n",
    "nyt_articles_api = config.nyt_articles_api\n",
    "nyt_books_api = config.nyt_books_api\n",
    "\n",
    "response = requests.get('https://api.nytimes.com/svc/search/v2/articlesearch.json?api-key=' + nyt_articles_api)\n",
    "data = response.json()\n",
    "# print(data)\n"
   ]
  },
  {
   "cell_type": "markdown",
   "metadata": {},
   "source": [
    "1) What books topped the Hardcover Fiction NYT best-sellers list on Mother's Day in 2009 and 2010? How about Father's Day?"
   ]
  },
  {
   "cell_type": "code",
   "execution_count": 61,
   "metadata": {
    "collapsed": false
   },
   "outputs": [
    {
     "name": "stdout",
     "output_type": "stream",
     "text": [
      "The best selling book on 2009-05-10 was FIRST FAMILY\n",
      "The best selling book on 2010-05-09 was DELIVER US FROM EVIL\n",
      "The best selling book on 2009-06-21 was SKIN TRADE\n",
      "The best selling book on 2010-06-20 was THE GIRL WHO KICKED THE HORNET’S NEST\n"
     ]
    }
   ],
   "source": [
    "published = \"\";\n",
    "\n",
    "# response = requests.get('https://api.nytimes.com/svc/books/v3/lists//.json?api-key=' + nyt_books_api + \"&list-name=hardcover-fiction&published-date=2009-10-05\")\n",
    "\n",
    "#mother's day 2009 - 10 - 05\n",
    "# mother's day 2010 2010-09-05\n",
    "# father's day 2009 -21-06\n",
    "# father day 2010 - 20 -06\n",
    "\n",
    "dates = ['2009-05-10', '2010-05-09', '2009-06-21', '2010-06-20']\n",
    "for date in dates: \n",
    "    response = requests.get('https://api.nytimes.com/svc/books/v3/lists//.json?api-key=' + nyt_books_api + \"&list-name=hardcover-fiction&published-date=\" + date)\n",
    "    bestseller_data = response.json()\n",
    "    bestseller_data['results']\n",
    "    results = bestseller_data['results'][0]\n",
    "    # print(type(results))\n",
    "    \n",
    "    print(\"The best selling book on\", date, \"was\", results['book_details'][0]['title'])\n",
    "    \n",
    "\n",
    "\n",
    "# print(bestseller_data)\n",
    "\n",
    "\n",
    "\n",
    "\n",
    "\n",
    "#print(results['book_details'])\n",
    "\n"
   ]
  },
  {
   "cell_type": "markdown",
   "metadata": {},
   "source": [
    "\n",
    "2) What are all the different book categories the NYT ranked in June 6, 2009? How about June 6, 2015?\n"
   ]
  },
  {
   "cell_type": "code",
   "execution_count": 85,
   "metadata": {
    "collapsed": false,
    "scrolled": true
   },
   "outputs": [
    {
     "name": "stdout",
     "output_type": "stream",
     "text": [
      "On June, 6th, 2009 the NYT published the following bestsellers lists:\n",
      "Hardcover Fiction\n",
      "Hardcover Nonfiction\n",
      "Paperback Trade Fiction\n",
      "Paperback Mass-Market Fiction\n",
      "Paperback Nonfiction\n",
      "Hardcover Advice & Misc.\n",
      "Paperback Advice & Misc.\n",
      "Children’s Chapter Books\n",
      "Children’s Paperback Books\n",
      "Children’s Picture Books\n",
      "Children’s Series\n",
      "Hardcover Graphic Books\n",
      "Paperback Graphic Books\n",
      "Manga\n",
      "\n",
      "On June, 6th, 2015 the NYT published the following bestsellers lists:\n",
      "Combined Print & E-Book Fiction\n",
      "Combined Print & E-Book Nonfiction\n",
      "Hardcover Fiction\n",
      "Hardcover Nonfiction\n",
      "Paperback Trade Fiction\n",
      "Paperback Mass-Market Fiction\n",
      "Paperback Nonfiction\n",
      "E-Book Fiction\n",
      "E-Book Nonfiction\n",
      "Advice, How-To & Miscellaneous\n",
      "Children’s Middle Grade\n",
      "Children’s Picture Books\n",
      "Children’s Series\n",
      "Young Adult\n",
      "Hardcover Graphic Books\n",
      "Paperback Graphic Books\n",
      "Manga\n",
      "Animals\n",
      "Business\n",
      "Celebrities\n",
      "Crime and Punishment\n",
      "Culture\n",
      "Education\n",
      "Espionage\n",
      "Expeditions\n",
      "Fashion, Manners and Customs\n",
      "Food and Diet\n",
      "Games and Activities\n",
      "Health\n",
      "Humor\n",
      "Indigenous Americans\n",
      "Love and Relationships\n",
      "Parenthood and Family\n",
      "Politics and American History\n",
      "Race and Civil Rights\n",
      "Religion, Spirituality and Faith\n",
      "Science\n",
      "Sports and Fitness\n",
      "Travel\n"
     ]
    }
   ],
   "source": [
    "response = requests.get('https://api.nytimes.com/svc/books/v3/lists/names.json?api-key=' + nyt_books_api)\n",
    "bestseller_ldata = response.json()\n",
    "bestseller_ldata['results'] \n",
    "\n",
    "# print(bestseller_ldata['results'][0])\n",
    "\n",
    "#The lists \n",
    "\n",
    "print(\"On June, 6th, 2009 the NYT published the following bestsellers lists:\")\n",
    "for book in bestseller_ldata['results']:\n",
    "    if book['oldest_published_date'] < '2009-06-06' and book['newest_published_date'] >= '2009-06-06':\n",
    "        print(book['display_name'])\n",
    "    else:\n",
    "        pass\n",
    "    \n",
    "    \n",
    "print(\"\\nOn June, 6th, 2015 the NYT published the following bestsellers lists:\")\n",
    "for book in bestseller_ldata['results']:\n",
    "    if book['oldest_published_date'] < '2015-06-06' and book['newest_published_date'] >= '2015-06-06':\n",
    "        print(book['display_name'])\n",
    "    else:\n",
    "        pass\n",
    "    # print(\"Too young\")\n",
    "# for book in bestseller_ldata:\n",
    "    "
   ]
  },
  {
   "cell_type": "markdown",
   "metadata": {},
   "source": [
    "3) Muammar Gaddafi's name can be transliterated many many ways. His last name is often a source of a million and one versions - Gadafi, Gaddafi, Kadafi, and Qaddafi to name a few. How many times has the New York Times referred to him by each of those names?\n",
    "\n",
    "Tip: Add \"Libya\" to your search to make sure (-ish) you're talking about the right guy.\n"
   ]
  },
  {
   "cell_type": "code",
   "execution_count": 239,
   "metadata": {
    "collapsed": false
   },
   "outputs": [
    {
     "name": "stdout",
     "output_type": "stream",
     "text": [
      "Muammar was referred to as  Gaddafi 1027 times in the New York Times.\n",
      "Muammar was referred to as  Gadafi 0 times in the New York Times.\n",
      "Muammar was referred to as  Kadafi 4 times in the New York Times.\n",
      "Muammar was referred to as  Qaddafi 5687 times in the New York Times.\n"
     ]
    }
   ],
   "source": [
    "\n",
    "ppl = ['Gaddafi','Gadafi', 'Kadafi','Qaddafi']\n",
    "\n",
    "for person in ppl:\n",
    "    # fq yields a lot more results than just q need to figure out difference b/w hits and times \n",
    "    # response = requests.get('https://api.nytimes.com/svc/search/v2/articlesearch.json?api-key=' + nyt_articles_api + '&fq=' + person + ' Libya')\n",
    "    response = requests.get('https://api.nytimes.com/svc/search/v2/articlesearch.json?api-key=' + nyt_articles_api + '&q=' + person + ' Libya')\n",
    "    muammar_data = response.json()\n",
    "    print(\"Muammar was referred to as \", person, muammar_data['response']['meta']['hits'], \"times in the New York Times.\")\n",
    "# print(muammar_data)\n",
    "\n",
    "\n",
    "# print(muammar_data['response']['docs'])\n",
    "\n",
    "# print(muammar_data['response']['docs'][0]['keywords'])\n",
    "# print(muammar_data['response']['docs'][0])\n",
    "\n",
    "# keywords = []\n",
    "# ppl = ['Gaddafi','Gadafi', 'Kadafi','Qaddafi']\n",
    "#for article in muammar_data['response']['docs']:\n",
    " #   for keyword in article['keywords']:\n",
    "      #  print(keyword['value'])\n",
    "  #      for person in ppl:\n",
    "            #print(x)\n",
    "   #         if person in keyword:\n",
    "    #            print(\"print\", keyword['value'], \"was found\")\n",
    "     #           print(keyword['value'])\n",
    "      #          keywords.append(keyword['value'])\n",
    "        \n",
    "#from collections import Counter \n",
    "#counts = Counter(keywords)  \n",
    "#print(counts)\n"
   ]
  },
  {
   "cell_type": "code",
   "execution_count": 189,
   "metadata": {
    "collapsed": false
   },
   "outputs": [],
   "source": [
    "#for article in muammar_data['response']['docs']:\n",
    " #   print(article[\"keywords\"])"
   ]
  },
  {
   "cell_type": "code",
   "execution_count": 190,
   "metadata": {
    "collapsed": false
   },
   "outputs": [],
   "source": [
    "# len(muammar_data['response']['docs'])"
   ]
  },
  {
   "cell_type": "markdown",
   "metadata": {},
   "source": [
    "\n",
    "\n",
    "4) What's the title of the first story to mention the word 'hipster' in 1995? What's the first paragraph?\n"
   ]
  },
  {
   "cell_type": "code",
   "execution_count": 224,
   "metadata": {
    "collapsed": false
   },
   "outputs": [
    {
     "name": "stdout",
     "output_type": "stream",
     "text": [
      "The first story to mention the word 'hipster' in 1995 was titled SURFACING; SOUND\n"
     ]
    }
   ],
   "source": [
    "response = requests.get('https://api.nytimes.com/svc/search/v2/articlesearch.json?api-key=' + nyt_articles_api + '&q=hipster&begin_date=19950101&end_date=19951231&sort=oldest')\n",
    "hipster_data = response.json()\n",
    "# print(hipster_data['response']['docs'])\n",
    "\n",
    "hippie = hipster_data['response']['docs']\n",
    "\n",
    "print(\"The first story to mention the word 'hipster' in 1995 was titled\", hippie[0]['headline']['kicker'] + \"; \" + hippie[0]['headline']['main'])"
   ]
  },
  {
   "cell_type": "markdown",
   "metadata": {
    "collapsed": true
   },
   "source": [
    "\n",
    "\n",
    "5) How many times was gay marriage mentioned in the NYT between 1950-1959, 1960-1969, 1970-1978, 1980-1989, 1990-2099, 2000-2009, and 2010-present?\n",
    "\n",
    "Tip: You'll want to put quotes around the search term so it isn't just looking for \"gay\" and \"marriage\" in the same article.\n",
    "\n",
    "Tip: Write code to find the number of mentions between Jan 1, 1950 and Dec 31, 1959."
   ]
  },
  {
   "cell_type": "markdown",
   "metadata": {
    "collapsed": true
   },
   "source": [
    "\n",
    "6) What section talks about motorcycles the most?\n",
    "\n",
    "Tip: You'll be using facets\n",
    "\n",
    "\n",
    "\n"
   ]
  },
  {
   "cell_type": "code",
   "execution_count": 243,
   "metadata": {
    "collapsed": false
   },
   "outputs": [
    {
     "name": "stdout",
     "output_type": "stream",
     "text": [
      "The section that mentions motorcycles the most is World which mentions motorcycles 1738 times.\n"
     ]
    }
   ],
   "source": [
    "response = requests.get('https://api.nytimes.com/svc/search/v2/articlesearch.json?api-key=' + nyt_articles_api + '&q=motorcycle&facet_field=section_name')\n",
    "\n",
    "moto_data = response.json()\n",
    "# print(moto_data['response']['facets']['section_name']['terms'])\n",
    "\n",
    "moto_sections = moto_data['response']['facets']['section_name']['terms']\n",
    "\n",
    "moto_count = 0\n",
    "most_motos = \"\"\n",
    "\n",
    "for section in moto_sections:\n",
    "    if section['count'] > moto_count:\n",
    "        moto_count = section['count']\n",
    "        most_motos = section['term']\n",
    "        \n",
    "print(\"The section that mentions motorcycles the most is\", most_motos, \"which mentions motorcycles\", moto_count, \"times.\")\n",
    "    \n"
   ]
  },
  {
   "cell_type": "markdown",
   "metadata": {
    "collapsed": true
   },
   "source": [
    "7) How many of the last 20 movies reviewed by the NYT were Critics' Picks? How about the last 40? The last 60?\n",
    "\n",
    "Tip: You really don't want to do this 3 separate times (1-20, 21-40 and 41-60) and add them together. What if, perhaps, you were able to figure out how to combine two lists? Then you could have a 1-20 list, a 1-40 list, and a 1-60 list, and then just run similar code for each of them.\n",
    "\n"
   ]
  },
  {
   "cell_type": "markdown",
   "metadata": {
    "collapsed": true
   },
   "source": [
    "8) Out of the last 40 movie reviews from the NYT, which critic has written the most reviews?"
   ]
  }
 ],
 "metadata": {
  "kernelspec": {
   "display_name": "Python 3",
   "language": "python",
   "name": "python3"
  },
  "language_info": {
   "codemirror_mode": {
    "name": "ipython",
    "version": 3
   },
   "file_extension": ".py",
   "mimetype": "text/x-python",
   "name": "python",
   "nbconvert_exporter": "python",
   "pygments_lexer": "ipython3",
   "version": "3.5.1"
  }
 },
 "nbformat": 4,
 "nbformat_minor": 0
}
