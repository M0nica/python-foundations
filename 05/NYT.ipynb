{
 "cells": [
  {
   "cell_type": "markdown",
   "metadata": {
    "collapsed": true
   },
   "source": [
    "NYT\n",
    "\n",
    "All API's: http://developer.nytimes.com/\n",
    "Article search API: http://developer.nytimes.com/article_search_v2.json\n",
    "Best-seller API: http://developer.nytimes.com/books_api.json#/Documentation\n",
    "Test/build queries: http://developer.nytimes.com/\n",
    "\n",
    "Tip: Remember to include your API key in all requests! And their interactive web thing is pretty bad. You'll need to register for the API key.\n",
    "\n",
    "1) What books topped the Hardcover Fiction NYT best-sellers list on Mother's Day in 2009 and 2010? How about Father's Day?\n",
    "\n",
    "2) What are all the different book categories the NYT ranked in June 6, 2009? How about June 6, 2015?\n",
    "\n",
    "3) Muammar Gaddafi's name can be transliterated many many ways. His last name is often a source of a million and one versions - Gadafi, Gaddafi, Kadafi, and Qaddafi to name a few. How many times has the New York Times referred to him by each of those names?\n",
    "\n",
    "Tip: Add \"Libya\" to your search to make sure (-ish) you're talking about the right guy.\n",
    "\n",
    "4) What's the title of the first story to mention the word 'hipster' in 1995? What's the first paragraph?\n",
    "\n",
    "5) How many times was gay marriage mentioned in the NYT between 1950-1959, 1960-1969, 1970-1978, 1980-1989, 1990-2099, 2000-2009, and 2010-present?\n",
    "\n",
    "Tip: You'll want to put quotes around the search term so it isn't just looking for \"gay\" and \"marriage\" in the same article.\n",
    "\n",
    "Tip: Write code to find the number of mentions between Jan 1, 1950 and Dec 31, 1959.\n",
    "\n",
    "6) What section talks about motorcycles the most?\n",
    "\n",
    "Tip: You'll be using facets\n",
    "\n",
    "7) How many of the last 20 movies reviewed by the NYT were Critics' Picks? How about the last 40? The last 60?\n",
    "\n",
    "Tip: You really don't want to do this 3 separate times (1-20, 21-40 and 41-60) and add them together. What if, perhaps, you were able to figure out how to combine two lists? Then you could have a 1-20 list, a 1-40 list, and a 1-60 list, and then just run similar code for each of them.\n",
    "\n",
    "8) Out of the last 40 movie reviews from the NYT, which critic has written the most reviews?\n"
   ]
  },
  {
   "cell_type": "code",
   "execution_count": 16,
   "metadata": {
    "collapsed": false,
    "scrolled": false
   },
   "outputs": [],
   "source": [
    "import config\n",
    "import requests\n",
    "\n",
    "#imports key from config file\n",
    "nyt_articles_api = config.nyt_articles_api\n",
    "nyt_books_api = config.nyt_books_api\n",
    "\n",
    "response = requests.get('https://api.nytimes.com/svc/search/v2/articlesearch.json?api-key=' + nyt_articles_api)\n",
    "data = response.json()\n",
    "# print(data)\n"
   ]
  },
  {
   "cell_type": "markdown",
   "metadata": {},
   "source": [
    "1) What books topped the Hardcover Fiction NYT best-sellers list on Mother's Day in 2009 and 2010? How about Father's Day?"
   ]
  },
  {
   "cell_type": "code",
   "execution_count": 60,
   "metadata": {
    "collapsed": false
   },
   "outputs": [
    {
     "name": "stdout",
     "output_type": "stream",
     "text": [
      "The best selling book on 2009-10-05 was THE LOST SYMBOL\n",
      "The best selling book on 2010-09-05 was THE POSTCARD KILLERS\n"
     ]
    },
    {
     "ename": "IndexError",
     "evalue": "list index out of range",
     "output_type": "error",
     "traceback": [
      "\u001b[0;31m---------------------------------------------------------------------------\u001b[0m",
      "\u001b[0;31mIndexError\u001b[0m                                Traceback (most recent call last)",
      "\u001b[0;32m<ipython-input-60-ecea319eb57e>\u001b[0m in \u001b[0;36m<module>\u001b[0;34m()\u001b[0m\n\u001b[1;32m     13\u001b[0m     \u001b[0mbestseller_data\u001b[0m \u001b[0;34m=\u001b[0m \u001b[0mresponse\u001b[0m\u001b[0;34m.\u001b[0m\u001b[0mjson\u001b[0m\u001b[0;34m(\u001b[0m\u001b[0;34m)\u001b[0m\u001b[0;34m\u001b[0m\u001b[0m\n\u001b[1;32m     14\u001b[0m     \u001b[0mbestseller_data\u001b[0m\u001b[0;34m[\u001b[0m\u001b[0;34m'results'\u001b[0m\u001b[0;34m]\u001b[0m\u001b[0;34m\u001b[0m\u001b[0m\n\u001b[0;32m---> 15\u001b[0;31m     \u001b[0mresults\u001b[0m \u001b[0;34m=\u001b[0m \u001b[0mbestseller_data\u001b[0m\u001b[0;34m[\u001b[0m\u001b[0;34m'results'\u001b[0m\u001b[0;34m]\u001b[0m\u001b[0;34m[\u001b[0m\u001b[0;36m0\u001b[0m\u001b[0;34m]\u001b[0m\u001b[0;34m\u001b[0m\u001b[0m\n\u001b[0m\u001b[1;32m     16\u001b[0m     \u001b[0;31m# print(type(results))\u001b[0m\u001b[0;34m\u001b[0m\u001b[0;34m\u001b[0m\u001b[0m\n\u001b[1;32m     17\u001b[0m     \u001b[0mprint\u001b[0m\u001b[0;34m(\u001b[0m\u001b[0;34m\"The best selling book on\"\u001b[0m\u001b[0;34m,\u001b[0m \u001b[0mdate\u001b[0m\u001b[0;34m,\u001b[0m \u001b[0;34m\"was\"\u001b[0m\u001b[0;34m,\u001b[0m \u001b[0mresults\u001b[0m\u001b[0;34m[\u001b[0m\u001b[0;34m'book_details'\u001b[0m\u001b[0;34m]\u001b[0m\u001b[0;34m[\u001b[0m\u001b[0;36m0\u001b[0m\u001b[0;34m]\u001b[0m\u001b[0;34m[\u001b[0m\u001b[0;34m'title'\u001b[0m\u001b[0;34m]\u001b[0m\u001b[0;34m)\u001b[0m\u001b[0;34m\u001b[0m\u001b[0m\n",
      "\u001b[0;31mIndexError\u001b[0m: list index out of range"
     ]
    }
   ],
   "source": [
    "published = \"\";\n",
    "\n",
    "# response = requests.get('https://api.nytimes.com/svc/books/v3/lists//.json?api-key=' + nyt_books_api + \"&list-name=hardcover-fiction&published-date=2009-10-05\")\n",
    "\n",
    "#mother's day 2009 - 10 - 05\n",
    "# mother's day 2010 2010-09-05\n",
    "# father's day 2009 -21-06\n",
    "# father day 2010 - 20 -06\n",
    "\n",
    "dates = ['2009-10-05', '2010-09-05', '2009-21-06', '2010-20-06']\n",
    "for date in dates: \n",
    "    response = requests.get('https://api.nytimes.com/svc/books/v3/lists//.json?api-key=' + nyt_books_api + \"&list-name=hardcover-fiction&published-date=\" + date)\n",
    "    bestseller_data = response.json()\n",
    "    bestseller_data['results']\n",
    "    results = bestseller_data['results'][0]\n",
    "    # print(type(results))\n",
    "    print(\"The best selling book on\", date, \"was\", results['book_details'][0]['title'])\n",
    "    \n",
    "\n",
    "\n",
    "# print(bestseller_data)\n",
    "\n",
    "\n",
    "\n",
    "\n",
    "\n",
    "#print(results['book_details'])\n",
    "\n"
   ]
  },
  {
   "cell_type": "code",
   "execution_count": null,
   "metadata": {
    "collapsed": true
   },
   "outputs": [],
   "source": []
  }
 ],
 "metadata": {
  "kernelspec": {
   "display_name": "Python 3",
   "language": "python",
   "name": "python3"
  },
  "language_info": {
   "codemirror_mode": {
    "name": "ipython",
    "version": 3
   },
   "file_extension": ".py",
   "mimetype": "text/x-python",
   "name": "python",
   "nbconvert_exporter": "python",
   "pygments_lexer": "ipython3",
   "version": "3.5.1"
  }
 },
 "nbformat": 4,
 "nbformat_minor": 0
}
