{
 "cells": [
  {
   "cell_type": "code",
   "execution_count": 2,
   "metadata": {
    "collapsed": false
   },
   "outputs": [
    {
     "ename": "NameError",
     "evalue": "name 'smalldata' is not defined",
     "output_type": "error",
     "traceback": [
      "\u001b[0;31m---------------------------------------------------------------------------\u001b[0m",
      "\u001b[0;31mNameError\u001b[0m                                 Traceback (most recent call last)",
      "\u001b[0;32m<ipython-input-2-dc336689678c>\u001b[0m in \u001b[0;36m<module>\u001b[0;34m()\u001b[0m\n\u001b[1;32m     12\u001b[0m \u001b[0;34m\u001b[0m\u001b[0m\n\u001b[1;32m     13\u001b[0m \u001b[0;31m# total numer of artists\u001b[0m\u001b[0;34m\u001b[0m\u001b[0;34m\u001b[0m\u001b[0m\n\u001b[0;32m---> 14\u001b[0;31m \u001b[0mtotal_artists\u001b[0m \u001b[0;34m=\u001b[0m \u001b[0msmalldata\u001b[0m\u001b[0;34m[\u001b[0m\u001b[0;34m'artists'\u001b[0m\u001b[0;34m]\u001b[0m\u001b[0;34m[\u001b[0m\u001b[0;34m'total'\u001b[0m\u001b[0;34m]\u001b[0m\u001b[0;34m\u001b[0m\u001b[0m\n\u001b[0m\u001b[1;32m     15\u001b[0m \u001b[0mtotal_pages\u001b[0m \u001b[0;34m=\u001b[0m \u001b[0mtotal_artists\u001b[0m\u001b[0;34m/\u001b[0m\u001b[0;36m50\u001b[0m\u001b[0;34m\u001b[0m\u001b[0m\n\u001b[1;32m     16\u001b[0m \u001b[0;34m\u001b[0m\u001b[0m\n",
      "\u001b[0;31mNameError\u001b[0m: name 'smalldata' is not defined"
     ]
    }
   ],
   "source": [
    "import requests\n",
    "smallresponse = requests.get('https://api.spotify.com/v1/search?query=lil&type=artist&limit=50&market=US&offset=50')\n",
    "\n",
    "\n",
    "# https://api.spotify.com/v1/search?query=lil&type=artist&limit=50&market=US\n",
    "# https://api.spotify.com/v1/search?query=lil&type=artist&limit=50&market=US&offset=50\n",
    "# https://api.spotify.com/v1/search?query=lil&type=artist&limit=50&market=US&offset=100\n",
    "# https://api.spotify.com/v1/search?query=lil&type=artist&limit=50&market=US&offset=150\n",
    "\n",
    "# offset = 0\n",
    "smalldata = response.json()\n",
    "\n",
    "# total numer of artists \n",
    "total_artists = smalldata['artists']['total']\n",
    "total_pages = total_artists/50\n",
    "\n",
    "import math\n",
    "page_count = math.ceil(total_pages)\n",
    "\n",
    "print(\"total pages\", page_count)\n",
    "\n",
    "for page in range(page_count):\n",
    "    offset = (page) * 50\n",
    "    print(\"We are on page\", page + 1 , \"with an offset of\", offset)\n",
    "    # make the request with a changed ?offset={offset}\n",
    "    # data = response.json()\n",
    "    # add our new artists to our list of existing artists\n",
    "    # all_artists = all_artists + data['artists]['items']\n",
    "smalldata = response.json()\n",
    "\n",
    "\n",
    "\n",
    "# print(smalldata['artists'])\n",
    "\n",
    "\n",
    "\n",
    "# smalldata['artists']\n",
    "# print(smalldata['artists']['items'])"
   ]
  },
  {
   "cell_type": "code",
   "execution_count": 8,
   "metadata": {
    "collapsed": false
   },
   "outputs": [
    {
     "name": "stdout",
     "output_type": "stream",
     "text": [
      "Lil Wayne 86\n",
      "Lil Yachty 72\n",
      "Lil Uzi Vert 72\n",
      "Lil Dicky 68\n",
      "Boosie Badazz 67\n",
      "Lil Jon 72\n",
      "King Lil G 61\n",
      "Lil Durk 60\n",
      "Lil Jon & The East Side Boyz 60\n",
      "Lil Bibby 54\n",
      "G Herbo 53\n",
      "Lil Rob 50\n",
      "Lil Reese 50\n",
      "Lil Keke 48\n",
      "Bow Wow 57\n",
      "Lil Scrappy 48\n",
      "Lil Wyte 50\n",
      "Lil Blood 45\n",
      "Lil Snupe 45\n",
      "Lil Mama 45\n",
      "Lil B 44\n",
      "Lil' Kim 62\n",
      "Lil Cuete 40\n",
      "Lil Phat 39\n",
      "Lil Debbie 43\n",
      "Lil Twist 39\n",
      "Lil Trill 37\n",
      "Lil Twon 38\n",
      "Lil AJ 37\n",
      "Lil Lonnie 37\n",
      "Lil Boom 35\n",
      "Lil Goofy 35\n",
      "Mr. Lil One 36\n",
      "Lil Haiti 36\n",
      "Lil Flash 38\n",
      "Lil Kesh 39\n",
      "Lil Cray 35\n",
      "Lil Silva 43\n",
      "Lil Rue 34\n",
      "Lil Eddie 41\n",
      "Lil Yase 33\n",
      "Lil Wayne, DJ Drama 35\n",
      "Lil Suzy 34\n",
      "Lil Mouse 34\n",
      "Lil C 33\n",
      "Lil Rick 39\n",
      "Lil June 32\n",
      "Lil E 34\n",
      "Lil Fate 34\n",
      "Lil' Flip 49\n"
     ]
    }
   ],
   "source": [
    "#http://google.com/search ? q = cats & lang = US (without spaces)\n",
    "# URL                      PARAMETER   MORE PARAMETERS\n",
    "\n",
    "#1) With \"Lil Wayne\" and \"Lil Kim\" there are a lot of \"Lil\" musicians. \n",
    "#Do a search and print a list of 50 that are playable in the USA\n",
    "#(or the country of your choice), along with their popularity score.\n",
    "\n",
    "import requests\n",
    "response = requests.get('https://api.spotify.com/v1/search?query=lil&type=artist&limit=50&market=US')\n",
    "data = response.json()\n",
    "# print(data)\n",
    "lil_artists = data['artists']['items']\n",
    "for artist in lil_artists:\n",
    "    print(artist['name'], artist['popularity'])\n",
    "# for artist in lil_artists:\n",
    "    # print(artist['popularity'])"
   ]
  },
  {
   "cell_type": "code",
   "execution_count": 9,
   "metadata": {
    "collapsed": false
   },
   "outputs": [
    {
     "name": "stdout",
     "output_type": "stream",
     "text": [
      "Lil Wayne 86\n",
      "dirty south rap, pop rap, southern hip hop, trap music\n",
      "Lil Yachty 72\n",
      "No genres listed.\n",
      "Lil Uzi Vert 72\n",
      "No genres listed.\n",
      "Lil Dicky 68\n",
      "No genres listed.\n",
      "Boosie Badazz 67\n",
      "No genres listed.\n",
      "Lil Jon 72\n",
      "crunk, dirty south rap, southern hip hop\n",
      "King Lil G 61\n",
      "No genres listed.\n",
      "Lil Durk 60\n",
      "No genres listed.\n",
      "Lil Jon & The East Side Boyz 60\n",
      "No genres listed.\n",
      "Lil Bibby 54\n",
      "No genres listed.\n",
      "G Herbo 53\n",
      "No genres listed.\n",
      "Lil Rob 50\n",
      "chicano rap, latin hip hop\n",
      "Lil Reese 50\n",
      "No genres listed.\n",
      "Lil Keke 48\n",
      "No genres listed.\n",
      "Bow Wow 57\n",
      "hip pop, pop rap\n",
      "Lil Scrappy 48\n",
      "crunk, dirty south rap, southern hip hop, trap music\n",
      "Lil Wyte 50\n",
      "juggalo\n",
      "Lil Blood 45\n",
      "No genres listed.\n",
      "Lil Snupe 45\n",
      "No genres listed.\n",
      "Lil Mama 45\n",
      "hip pop\n",
      "Lil B 44\n",
      "No genres listed.\n",
      "Lil' Kim 62\n",
      "hip pop\n",
      "Lil Cuete 40\n",
      "chicano rap\n",
      "Lil Phat 39\n",
      "No genres listed.\n",
      "Lil Debbie 43\n",
      "No genres listed.\n",
      "Lil Twist 39\n",
      "jerk\n",
      "Lil Trill 37\n",
      "deep trap\n",
      "Lil Twon 38\n",
      "No genres listed.\n",
      "Lil AJ 37\n",
      "No genres listed.\n",
      "Lil Lonnie 37\n",
      "No genres listed.\n",
      "Lil Boom 35\n",
      "No genres listed.\n",
      "Lil Goofy 35\n",
      "No genres listed.\n",
      "Mr. Lil One 36\n",
      "chicano rap\n",
      "Lil Haiti 36\n",
      "No genres listed.\n",
      "Lil Flash 38\n",
      "No genres listed.\n",
      "Lil Kesh 39\n",
      "No genres listed.\n",
      "Lil Cray 35\n",
      "No genres listed.\n",
      "Lil Silva 43\n",
      "No genres listed.\n",
      "Lil Rue 34\n",
      "No genres listed.\n",
      "Lil Eddie 41\n",
      "No genres listed.\n",
      "Lil Yase 33\n",
      "No genres listed.\n",
      "Lil Wayne, DJ Drama 35\n",
      "No genres listed.\n",
      "Lil Suzy 34\n",
      "freestyle\n",
      "Lil Mouse 34\n",
      "No genres listed.\n",
      "Lil C 33\n",
      "No genres listed.\n",
      "Lil Rick 39\n",
      "soca\n",
      "Lil June 32\n",
      "No genres listed.\n",
      "Lil E 34\n",
      "No genres listed.\n",
      "Lil Fate 34\n",
      "No genres listed.\n",
      "Lil' Flip 49\n",
      "crunk, dirty south rap\n"
     ]
    }
   ],
   "source": [
    "# 2) What genres are most represented in the search results? \n",
    "#Edit your previous printout to also display a list of their genres \n",
    "#in the format \"GENRE_1, GENRE_2, GENRE_3\". If there are no genres, \n",
    "#print \"No genres listed\".\n",
    "# Tip: \"how to join a list Python\" might be a helpful search\n",
    "\n",
    "\n",
    "import requests\n",
    "response = requests.get('https://api.spotify.com/v1/search?query=lil&type=artist&limit=50&market=US')\n",
    "data = response.json()\n",
    "# print(data)\n",
    "lil_artists = data['artists']['items']\n",
    "for artist in lil_artists:\n",
    "    print(artist['name'], artist['popularity'])\n",
    "    if len(artist['genres']) > 0:\n",
    "            s = ', '\n",
    "            # prints without brackets! woohoo -- unlike print(artists['genres'])\n",
    "            print(s.join(artist['genres']))\n",
    "            \n",
    "    else: \n",
    "           print(\"No genres listed.\")"
   ]
  },
  {
   "cell_type": "code",
   "execution_count": 25,
   "metadata": {
    "collapsed": false
   },
   "outputs": [
    {
     "name": "stdout",
     "output_type": "stream",
     "text": [
      "dirty south rap shows up 4 times.\n",
      "pop rap shows up 2 times.\n",
      "southern hip hop shows up 3 times.\n",
      "trap music shows up 2 times.\n",
      "crunk shows up 3 times.\n",
      "dirty south rap shows up 4 times.\n",
      "southern hip hop shows up 3 times.\n",
      "chicano rap shows up 3 times.\n",
      "latin hip hop shows up 1 times.\n",
      "hip pop shows up 3 times.\n",
      "pop rap shows up 2 times.\n",
      "crunk shows up 3 times.\n",
      "dirty south rap shows up 4 times.\n",
      "southern hip hop shows up 3 times.\n",
      "trap music shows up 2 times.\n",
      "juggalo shows up 1 times.\n",
      "hip pop shows up 3 times.\n",
      "hip pop shows up 3 times.\n",
      "chicano rap shows up 3 times.\n",
      "jerk shows up 1 times.\n",
      "deep trap shows up 1 times.\n",
      "chicano rap shows up 3 times.\n",
      "freestyle shows up 1 times.\n",
      "soca shows up 1 times.\n",
      "crunk shows up 3 times.\n",
      "dirty south rap shows up 4 times.\n"
     ]
    }
   ],
   "source": [
    "all_genres = []\n",
    "\n",
    "for artist in lil_artists:\n",
    "    #print(\"All genres we've heard of:\", all_genres)\n",
    "    #the conditional none\n",
    "    # print(\"Current artist has:\", artist['genres'])\n",
    "    all_genres = all_genres + artist['genres']\n",
    "    \n",
    "for item in all_genres:\n",
    "    # repeats dirty south 4 times ! \n",
    "     print(item, \"shows up\", all_genres.count(item), \"times.\")"
   ]
  },
  {
   "cell_type": "code",
   "execution_count": 48,
   "metadata": {
    "collapsed": false
   },
   "outputs": [
    {
     "data": {
      "text/plain": [
       "[('dirty south rap', 4),\n",
       " ('chicano rap', 3),\n",
       " ('southern hip hop', 3),\n",
       " ('crunk', 3)]"
      ]
     },
     "execution_count": 48,
     "metadata": {},
     "output_type": "execute_result"
    }
   ],
   "source": [
    "#import collections -- imports entire library \n",
    "from collections import Counter # -- only imports Counter \n",
    "\n",
    "\n",
    "\n",
    "all_genres = []\n",
    "\n",
    "for artist in lil_artists:\n",
    "    #print(\"All genres we've heard of:\", all_genres)\n",
    "    #the conditional none\n",
    "    # print(\"Current artist has:\", artist['genres'])\n",
    "    all_genres = all_genres + artist['genres']\n",
    "    \n",
    "    # collections.Counter\n",
    "counts = Counter(all_genres) # counts the occurence of each object # it looks like a dictionary\n",
    "\n",
    "\n",
    "counts.most_common(2)\n",
    "\n",
    "counts.most_common(1)\n",
    "\n",
    "counts.most_common(4)\n"
   ]
  },
  {
   "cell_type": "code",
   "execution_count": 10,
   "metadata": {
    "collapsed": false
   },
   "outputs": [
    {
     "name": "stdout",
     "output_type": "stream",
     "text": [
      "The most popular artist (not including Lil Wayne) is Lil Yachty\n"
     ]
    }
   ],
   "source": [
    "# 3)  Use a for loop to determine who BESIDES Lil Wayne has\n",
    "#the highest popularity rating. Is it the same artist who has \n",
    "# the largest number of followers?\n",
    "\n",
    "\n",
    "import requests\n",
    "response = requests.get('https://api.spotify.com/v1/search?query=lil&type=artist&limit=50&market=US')\n",
    "data = response.json()\n",
    "# print(data)\n",
    "max_popularity = 0;\n",
    "lil_artists = data['artists']['items']\n",
    "for artist in lil_artists:\n",
    "    if not artist['name'] == 'Lil Wayne':\n",
    "        # print(artist['name'], artist['popularity'])\n",
    "        if artist['popularity'] > max_popularity:\n",
    "          #  print(\"Now\",artist['name'], \"is the most popular.\")\n",
    "            max_popularity = artist['popularity']\n",
    "            most_popular = artist['name']\n",
    "            \n",
    "print(\"The most popular artist (not including Lil Wayne) is\", most_popular )\n",
    "    \n",
    "   "
   ]
  },
  {
   "cell_type": "code",
   "execution_count": 11,
   "metadata": {
    "collapsed": false
   },
   "outputs": [],
   "source": [
    "# lilkim_id = '5tth2a3v0sWwV1C7bApBdX'\n",
    "# lilkimresponse = requests.get('https://api.spotify.com/v1/artists/' + lilkim_id)\n",
    "\n",
    "# lilkimresponse.keys()"
   ]
  },
  {
   "cell_type": "code",
   "execution_count": 14,
   "metadata": {
    "collapsed": false
   },
   "outputs": [
    {
     "name": "stdout",
     "output_type": "stream",
     "text": [
      "Lil Kim has a popularity of 62\n",
      "Lil Wayne is more popular than Lil Kim.\n",
      "Lil Yachty is more popular than Lil Kim.\n",
      "Lil Uzi Vert is more popular than Lil Kim.\n",
      "Lil Dicky is more popular than Lil Kim.\n",
      "Boosie Badazz is more popular than Lil Kim.\n",
      "Lil Jon is more popular than Lil Kim.\n",
      "6 Lil artists are more popular than Lil Kim.\n",
      "The most popular artist (not including Lil Wayne) is Lil Yachty\n"
     ]
    }
   ],
   "source": [
    "# 4) Print a list of Lil's that are more popular than Lil' Kim.\n",
    "\n",
    "\n",
    "import requests\n",
    "response = requests.get('https://api.spotify.com/v1/search?query=lil&type=artist&limit=50&market=US')\n",
    "data = response.json()\n",
    "# print(data)\n",
    "\n",
    "lil_artists = data['artists']['items']\n",
    "\n",
    "lilkim_id = '5tth2a3v0sWwV1C7bApBdX'\n",
    "lilkimresponse = requests.get('https://api.spotify.com/v1/artists/' + lilkim_id)\n",
    "lilkimresponse = lilkimresponse.json()\n",
    "# print(lilkimresponse.keys())\n",
    "\n",
    "lilkim_pop = lilkimresponse['popularity']\n",
    "morepopularthankim = 0;\n",
    "print(\"Lil Kim has a popularity of\", lilkim_pop)\n",
    "\n",
    "\n",
    "for artist in lil_artists:\n",
    "       # print(artist['name'], artist['popularity'], artist['id'])\n",
    "        if artist['popularity'] > lilkim_pop:\n",
    "           print(artist['name'], \"is more popular than Lil Kim.\")\n",
    "           morepopularthankim = morepopularthankim + 1\n",
    "            \n",
    "print(morepopularthankim, \"Lil artists are more popular than Lil Kim.\")\n",
    "            \n",
    "print(\"The most popular artist (not including Lil Wayne) is\", most_popular )\n",
    "    \n",
    "   "
   ]
  },
  {
   "cell_type": "code",
   "execution_count": 95,
   "metadata": {
    "collapsed": false
   },
   "outputs": [
    {
     "name": "stdout",
     "output_type": "stream",
     "text": [
      "Lil Jon's top tracks are:\n",
      "Turn Down for What\n",
      "Gasolina - DJ Buddah Remix\n",
      "Snap Yo Fingers\n",
      "Bend Ova\n",
      "Turn Down for What - Official Remix\n",
      "Culo\n",
      "Get Loose\n",
      "The Anthem\n",
      "Prison Riot\n",
      "Outta Your Mind\n",
      "Lil Wayne's top tracks are:\n",
      "Forever\n",
      "Nothing But Trouble - Instagram Models\n",
      "6 Foot 7 Foot\n",
      "A Milli\n",
      "Right Above It\n",
      "Lollipop\n",
      "Love Me\n",
      "Rich As Fuck\n",
      "Mirror\n",
      "Believe Me\n"
     ]
    }
   ],
   "source": [
    "#5) Pick two of your favorite Lils to fight it out, \n",
    "# and use their IDs to print out their top tracks.\n",
    "#Tip: You're going to be making two separate requests, \n",
    "#be sure you DO NOT save them into the same variable.\n",
    "\n",
    "lil_jon_id = '7sfl4Xt5KmfyDs2T3SVSMK'\n",
    "\n",
    "liljonresponse = requests.get('https://api.spotify.com/v1/artists/'+ lil_jon_id+'/top-tracks?country=US')\n",
    "liljondata = liljonresponse.json()\n",
    "#liljontracks = liljondata['items']['tracks']\n",
    "# print(liljondata.keys())\n",
    "\n",
    "# print(liljondata)\n",
    "\n",
    "liljontracks = liljondata['tracks']\n",
    "\n",
    "print('Lil Jon\\'s top tracks are:')\n",
    "for track in liljontracks:\n",
    "    print(track['name'])\n",
    "# print(type(liljondata['items']))\n",
    "\n",
    "\n",
    "print('Lil Wayne\\'s top tracks are:')\n",
    "lil_wayne_id = '55Aa2cqylxrFIXC767Z865'\n",
    "lilwayneresponse = requests.get('https://api.spotify.com/v1/artists/'+ lil_wayne_id+'/top-tracks?country=US')\n",
    "lilwaynedata = lilwayneresponse.json()\n",
    "\n",
    "lilwaynetracks = lilwaynedata['tracks']\n",
    "\n",
    "for track in lilwaynetracks:\n",
    "    print(track['name'])\n",
    "#lilwayne = lilwaynedata['tracks']"
   ]
  },
  {
   "cell_type": "markdown",
   "metadata": {},
   "source": [
    "6) Will the world explode if a musicians swears? Get an average popularity for their explicit songs vs. their non-explicit songs. How many minutes of explicit songs do they have? Non-explicit?"
   ]
  },
  {
   "cell_type": "code",
   "execution_count": 103,
   "metadata": {
    "collapsed": false
   },
   "outputs": [
    {
     "name": "stdout",
     "output_type": "stream",
     "text": [
      "Turn Down for What\n",
      "this track is clean\n",
      "Gasolina - DJ Buddah Remix\n",
      "this track is clean\n",
      "Snap Yo Fingers\n",
      "this track is clean\n",
      "Bend Ova\n",
      "this track is explicit\n",
      "Turn Down for What - Official Remix\n",
      "this track is explicit\n",
      "Culo\n",
      "this track is explicit\n",
      "Get Loose\n",
      "this track is explicit\n",
      "The Anthem\n",
      "this track is explicit\n",
      "Prison Riot\n",
      "this track is explicit\n",
      "Outta Your Mind\n",
      "this track is explicit\n",
      "Overall the clean popularity for Lil Jon was 71.66666666666667 and the explicit popularity was 55.857142857142854\n"
     ]
    }
   ],
   "source": [
    "lj_clean_popularity = 0;\n",
    "clean_count = 0;\n",
    "\n",
    "lj_explicit_popularity = 0;\n",
    "explicit_count =0;\n",
    "\n",
    "for track in liljontracks:\n",
    "    print(track['name'])\n",
    "    if track['explicit']:\n",
    "        print(\"this track is explicit\")\n",
    "        explicit_count = explicit_count + 1;\n",
    "        lj_explicit_popularity = lj_explicit_popularity + track['popularity']\n",
    "    else:\n",
    "        print(\"this track is clean\")\n",
    "        clean_count = clean_count + 1;\n",
    "        lj_clean_popularity = lj_clean_popularity + track['popularity']\n",
    "            \n",
    "print(\"Overall the clean popularity for Lil Jon was\",lj_clean_popularity/clean_count,\"and the explicit popularity was\",lj_explicit_popularity/explicit_count)"
   ]
  },
  {
   "cell_type": "code",
   "execution_count": 112,
   "metadata": {
    "collapsed": false
   },
   "outputs": [
    {
     "name": "stdout",
     "output_type": "stream",
     "text": [
      "Forever\n",
      "this track is explicit\n",
      "Nothing But Trouble - Instagram Models\n",
      "this track is explicit\n",
      "6 Foot 7 Foot\n",
      "this track is explicit\n",
      "A Milli\n",
      "this track is explicit\n",
      "Right Above It\n",
      "this track is explicit\n",
      "Lollipop\n",
      "this track is explicit\n",
      "Love Me\n",
      "this track is explicit\n",
      "Rich As Fuck\n",
      "this track is explicit\n",
      "Mirror\n",
      "this track is explicit\n",
      "Believe Me\n",
      "this track is explicit\n",
      "Overall Lil wayne had zero clean songs and the explicit popularity was 69.5 %\n"
     ]
    }
   ],
   "source": [
    "lw_clean_popularity = 0;\n",
    "clean_count = 0;\n",
    "\n",
    "lw_explicit_popularity = 0;\n",
    "explicit_count =0;\n",
    "\n",
    "for track in lilwaynetracks:\n",
    "    print(track['name'])\n",
    "    if track['explicit']:\n",
    "        print(\"this track is explicit\")\n",
    "        explicit_count = explicit_count + 1;\n",
    "        lw_explicit_popularity = lw_explicit_popularity + track['popularity']\n",
    "    else:\n",
    "        print(\"this track is clean\")\n",
    "        clean_count = clean_count + 1;\n",
    "        lw_clean_popularity = lw_clean_popularity + track['popularity']\n",
    "\n",
    "if clean_count > 1 and explicit_count > 1:\n",
    "    print(\"Overall the clean popularity for Lil Wayne was\",lw_clean_popularity/clean_count,\"and the explicit popularity was\",lw_explicit_popularity/explicit_count)\n",
    "elif clean_count == 0 and explicit_count >1:\n",
    "    print(\"Overall Lil wayne had zero clean songs and the explicit popularity was\",lw_explicit_popularity/explicit_count, '%')\n",
    "            "
   ]
  },
  {
   "cell_type": "markdown",
   "metadata": {},
   "source": [
    "7) Since we're talking about Lils, what about Biggies? How many total \"Biggie\" artists are there? How many total \"Lil\"s? If you made 1 request every 5 seconds, how long would it take to download information on all the Lils vs the Biggies?\n"
   ]
  },
  {
   "cell_type": "code",
   "execution_count": 132,
   "metadata": {
    "collapsed": false
   },
   "outputs": [
    {
     "name": "stdout",
     "output_type": "stream",
     "text": [
      "There are 49 Biggie artists.\n",
      "There are 50 lil artists.\n",
      "It would take 49 seconds to get all of the data about Biggie artists and 50 seconds to get all the information about lil artists\n"
     ]
    }
   ],
   "source": [
    "import requests\n",
    "biggieResponse = requests.get('https://api.spotify.com/v1/search?query=biggie&type=artist&limit=50&market=US')\n",
    "biggieData = biggieResponse.json()\n",
    "# print(biggieData.keys())\n",
    "biggie_count = 0\n",
    "# print(len(biggieData['artists']))\n",
    "\n",
    "for artist in biggieData['artists']['items']:\n",
    "    biggie_count = biggie_count + 1\n",
    "\n",
    "print(\"There are\",biggie_count,\"Biggie artists.\")\n",
    "\n",
    "\n",
    "lilResponse = requests.get('https://api.spotify.com/v1/search?query=lil&type=artist&limit=50&market=US')\n",
    "lilData = lilResponse.json()\n",
    "\n",
    "# print(lilData['artists'].keys())\n",
    "\n",
    "lil_count = 0\n",
    "\n",
    "# print(lilData['artists'])\n",
    "for artist in lilData['artists']['items']:\n",
    "    lil_count = lil_count + 1\n",
    "\n",
    "print(\"There are\",lil_count,\"lil artists.\")\n",
    "\n",
    "print(\"It would take\", biggie_count,\"seconds to get all of the data about Biggie artists and\", lil_count,\"seconds to get all the information about lil artists\")"
   ]
  },
  {
   "cell_type": "markdown",
   "metadata": {},
   "source": [
    "8) Out of the top 50 \"Lil\"s and the top 50 \"Biggie\"s, who is more popular on average?"
   ]
  },
  {
   "cell_type": "code",
   "execution_count": 134,
   "metadata": {
    "collapsed": false
   },
   "outputs": [
    {
     "name": "stdout",
     "output_type": "stream",
     "text": [
      "The most popular artist of all of these artists is Lil Wayne\n"
     ]
    }
   ],
   "source": [
    "\n",
    "import requests\n",
    "lilResponse = requests.get('https://api.spotify.com/v1/search?query=lil&type=artist&limit=50&market=US')\n",
    "lilData = lilResponse.json()\n",
    "# print(data)\n",
    "max_popularity = 0;\n",
    "lil_artists = data['artists']['items']\n",
    "for artist in lil_artists:\n",
    "        # print(artist['name'], artist['popularity'])\n",
    "        if artist['popularity'] > max_popularity:\n",
    "            max_popularity = artist['popularity']\n",
    "            most_popular = artist['name']\n",
    "\n",
    "import requests\n",
    "bigResponse = requests.get('https://api.spotify.com/v1/search?query=lil&type=artist&limit=50&market=US')\n",
    "bigData = bigResponse.json()\n",
    "# print(data)\n",
    "big_artists = data['artists']['items']\n",
    "for artist in big_artists:\n",
    "        if artist['popularity'] > max_popularity:\n",
    "            max_popularity = artist['popularity']\n",
    "            most_popular = artist['name']\n",
    "print(\"The most popular artist of all of these artists is\", most_popular)\n",
    "   "
   ]
  },
  {
   "cell_type": "code",
   "execution_count": null,
   "metadata": {
    "collapsed": true
   },
   "outputs": [],
   "source": []
  }
 ],
 "metadata": {
  "kernelspec": {
   "display_name": "Python 3",
   "language": "python",
   "name": "python3"
  },
  "language_info": {
   "codemirror_mode": {
    "name": "ipython",
    "version": 3
   },
   "file_extension": ".py",
   "mimetype": "text/x-python",
   "name": "python",
   "nbconvert_exporter": "python",
   "pygments_lexer": "ipython3",
   "version": "3.5.1"
  }
 },
 "nbformat": 4,
 "nbformat_minor": 0
}
