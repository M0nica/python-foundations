{
 "cells": [
  {
   "cell_type": "code",
   "execution_count": 61,
   "metadata": {
    "collapsed": false
   },
   "outputs": [],
   "source": [
    "import pandas as pd"
   ]
  },
  {
   "cell_type": "code",
   "execution_count": 77,
   "metadata": {
    "collapsed": false
   },
   "outputs": [
    {
     "name": "stderr",
     "output_type": "stream",
     "text": [
      "/Users/Monica/.virtualenvs/dataanalysis/lib/python3.5/site-packages/IPython/core/interactiveshell.py:2723: DtypeWarning: Columns (17,18,20,21,22,23,29,30,31,32,36,38,39) have mixed types. Specify dtype option on import or set low_memory=False.\n",
      "  interactivity=interactivity, compiler=compiler, result=result)\n"
     ]
    }
   ],
   "source": [
    "violations_df = pd.read_csv(\"violations.csv\")"
   ]
  },
  {
   "cell_type": "code",
   "execution_count": null,
   "metadata": {
    "collapsed": false
   },
   "outputs": [],
   "source": [
    "# 1. I want to make sure my Plate ID is a string. Can't lose the leading zeroes!\n",
    "\n",
    "#3. I want the dates to be dates! Read the read_csv documentation to find out how to make pandas automatically parse dates.\n",
    "col_types = { 'Plate ID': 'str'}\n",
    "dof_violations_df = pd.read_csv(\"DOF_Parking_Violation_Codes.csv\", dtype=col_types, parse_dates=True)"
   ]
  },
  {
   "cell_type": "code",
   "execution_count": null,
   "metadata": {
    "collapsed": false
   },
   "outputs": [],
   "source": [
    "print(violations_df.columns)"
   ]
  },
  {
   "cell_type": "code",
   "execution_count": 7,
   "metadata": {
    "collapsed": false
   },
   "outputs": [],
   "source": [
    "# violations_df.describe"
   ]
  },
  {
   "cell_type": "code",
   "execution_count": 79,
   "metadata": {
    "collapsed": false
   },
   "outputs": [
    {
     "name": "stdout",
     "output_type": "stream",
     "text": [
      "  CODE                                         DEFINITION  \\\n",
      "0   10  Stopping, standing or parking where a sign, st...   \n",
      "1   11  Hotel Loading/Unloading: Standing or parking w...   \n",
      "2   12  Snow Emergency: Standing or parking where stan...   \n",
      "3   13  Taxi Stand: Standing or parking where standing...   \n",
      "4   14  General No Standing: Standing or parking where...   \n",
      "\n",
      "  Manhattan  96th St. & below All Other Areas  \n",
      "0                       $115            $115   \n",
      "1                       $115            $115   \n",
      "2                        $95             $95   \n",
      "3                       $115            $115   \n",
      "4                       $115            $115   \n"
     ]
    }
   ],
   "source": [
    "print(dof_violations_df.head())"
   ]
  },
  {
   "cell_type": "markdown",
   "metadata": {},
   "source": [
    "2. I don't think anyone's car was built in 0AD. Discard the '0's as NaN."
   ]
  },
  {
   "cell_type": "code",
   "execution_count": 9,
   "metadata": {
    "collapsed": false
   },
   "outputs": [
    {
     "name": "stdout",
     "output_type": "stream",
     "text": [
      "0    2013\n",
      "1    2012\n",
      "3    2010\n",
      "4    2012\n",
      "6    2011\n",
      "Name: Vehicle Year, dtype: int64\n"
     ]
    }
   ],
   "source": [
    "violations_df = violations_df[violations_df['Vehicle Year'] != 0]\n",
    "print(violations_df['Vehicle Year'].head())"
   ]
  },
  {
   "cell_type": "markdown",
   "metadata": {},
   "source": [
    "4. \"Date first observed\" is a pretty weird column, but it seems like it has a date hiding inside. Using a function with .apply, transform the string (e.g. \"20140324\") into a Python date. Make the 0's show up as NaN.\n"
   ]
  },
  {
   "cell_type": "code",
   "execution_count": 26,
   "metadata": {
    "collapsed": false
   },
   "outputs": [
    {
     "name": "stdout",
     "output_type": "stream",
     "text": [
      "0    0\n",
      "1    0\n",
      "2    0\n",
      "3    0\n",
      "4    0\n",
      "Name: Date First Observed, dtype: int64\n"
     ]
    }
   ],
   "source": [
    "print(violations_df['Date First Observed'].head())"
   ]
  },
  {
   "cell_type": "markdown",
   "metadata": {},
   "source": [
    "\n",
    "\n",
    "5. \"Violation time\" is... not a time. Make it a time.\n",
    "\n",
    "7. Join the data with the Parking Violations Code dataset from the NYC Open Data site.\n",
    "8. How much money did NYC make off of parking violations?\n",
    "9. What's the most lucrative kind of parking violation? The most frequent?\n",
    "10. New Jersey has bad drivers, but does it have bad parkers, too? How much money does NYC make off of all non-New York vehicles?\n",
    "11. Make a chart of the top few.\n",
    "12. What time of day do people usually get their tickets? You can break the day up into several blocks - for example 12am-6am, 6am-12pm, 12pm-6pm, 6pm-12am.\n",
    "13. What's the average ticket cost in NYC?\n",
    "14. Make a graph of the number of tickets per day.\n",
    "15. Make a graph of the amount of revenue collected per day.\n",
    "16. Manually construct a dataframe out of https://dmv.ny.gov/statistic/2015licinforce-web.pdf (only NYC boroughts - bronx, queens, manhattan, staten island, brooklyn), having columns for borough name, abbreviation, and number of licensed drivers.\n",
    "17. What's the parking-ticket-$-per-licensed-driver in each borough of NYC? Do this with pandas and the dataframe you just made, not with your head!"
   ]
  },
  {
   "cell_type": "code",
   "execution_count": 30,
   "metadata": {
    "collapsed": false
   },
   "outputs": [
    {
     "data": {
      "text/plain": [
       "0    08/04/2013\n",
       "1    08/04/2013\n",
       "2    08/05/2013\n",
       "3    08/05/2013\n",
       "4    08/08/2013\n",
       "Name: Issue Date, dtype: object"
      ]
     },
     "execution_count": 30,
     "metadata": {},
     "output_type": "execute_result"
    }
   ],
   "source": [
    "violations_df.head()['Issue Date'].astype(datetime.datetime)"
   ]
  },
  {
   "cell_type": "code",
   "execution_count": 33,
   "metadata": {
    "collapsed": false
   },
   "outputs": [
    {
     "data": {
      "text/plain": [
       "0    08/04/2013\n",
       "1    08/04/2013\n",
       "2    08/05/2013\n",
       "3    08/05/2013\n",
       "4    08/08/2013\n",
       "Name: Issue Date, dtype: object"
      ]
     },
     "execution_count": 33,
     "metadata": {},
     "output_type": "execute_result"
    }
   ],
   "source": [
    "import datetime\n",
    "violations_df.head()['Issue Date'].astype(datetime.datetime)\n",
    "\n",
    "#violations_df['Issue Date'] = violations_df['Issue Date'].astype('datetime64[ns]')\n"
   ]
  },
  {
   "cell_type": "code",
   "execution_count": 25,
   "metadata": {
    "collapsed": false
   },
   "outputs": [
    {
     "data": {
      "text/plain": [
       "Summons Number                         int64\n",
       "Plate ID                              object\n",
       "Registration State                    object\n",
       "Plate Type                            object\n",
       "Issue Date                            object\n",
       "Violation Code                         int64\n",
       "Vehicle Body Type                     object\n",
       "Vehicle Make                          object\n",
       "Issuing Agency                        object\n",
       "Street Code1                           int64\n",
       "Street Code2                           int64\n",
       "Street Code3                           int64\n",
       "Vehicle Expiration Date                int64\n",
       "Violation Location                   float64\n",
       "Violation Precinct                     int64\n",
       "Issuer Precinct                        int64\n",
       "Issuer Code                            int64\n",
       "Issuer Command                        object\n",
       "Issuer Squad                          object\n",
       "Violation Time                        object\n",
       "Time First Observed                   object\n",
       "Violation County                      object\n",
       "Violation In Front Of Or Opposite     object\n",
       "House Number                          object\n",
       "Street Name                           object\n",
       "Intersecting Street                   object\n",
       "Date First Observed                    int64\n",
       "Law Section                            int64\n",
       "Sub Division                          object\n",
       "Violation Legal Code                  object\n",
       "Days Parking In Effect                object\n",
       "From Hours In Effect                  object\n",
       "To Hours In Effect                    object\n",
       "Vehicle Color                         object\n",
       "Unregistered Vehicle?                float64\n",
       "Vehicle Year                           int64\n",
       "Meter Number                          object\n",
       "Feet From Curb                         int64\n",
       "Violation Post Code                   object\n",
       "Violation Description                 object\n",
       "No Standing or Stopping Violation    float64\n",
       "Hydrant Violation                    float64\n",
       "Double Parking Violation             float64\n",
       "dtype: object"
      ]
     },
     "execution_count": 25,
     "metadata": {},
     "output_type": "execute_result"
    }
   ],
   "source": [
    "violations_df.dtypes"
   ]
  },
  {
   "cell_type": "code",
   "execution_count": 11,
   "metadata": {
    "collapsed": false
   },
   "outputs": [
    {
     "data": {
      "text/plain": [
       "0    0752A\n",
       "1    1240P\n",
       "3    0232P\n",
       "4    1239P\n",
       "6    0741P\n",
       "Name: Violation Time, dtype: object"
      ]
     },
     "execution_count": 11,
     "metadata": {},
     "output_type": "execute_result"
    }
   ],
   "source": [
    "import re\n",
    "violations_df['Violation Time'].head()"
   ]
  },
  {
   "cell_type": "code",
   "execution_count": 53,
   "metadata": {
    "collapsed": false
   },
   "outputs": [
    {
     "name": "stdout",
     "output_type": "stream",
     "text": [
      "hi AM\n"
     ]
    }
   ],
   "source": [
    "test = violations_df['Violation Time'][0]\n",
    "test = test.replace(\"A\", \" AM\")\n",
    "test = re.sub('^0', '', test)\n",
    "test = re.sub('\\d\\d\\S', 'hi', test)\n",
    "print(test)\n",
    "#if re.search(r'\\d\\d\\d\\d', src): # looking for 4 digits in a row\n",
    " #   print('yes')\n",
    "#else:\n",
    " #   print(\"nope\")"
   ]
  },
  {
   "cell_type": "markdown",
   "metadata": {},
   "source": [
    "6.  There sure are a lot of colors of cars, too bad so many of them are the same. Make \"BLK\" and \"BLACK\", \"WT\" and \"WHITE\", and any other combinations that you notice."
   ]
  },
  {
   "cell_type": "code",
   "execution_count": 76,
   "metadata": {
    "collapsed": false,
    "scrolled": true
   },
   "outputs": [],
   "source": [
    "import re"
   ]
  },
  {
   "cell_type": "code",
   "execution_count": 80,
   "metadata": {
    "collapsed": false
   },
   "outputs": [
    {
     "data": {
      "text/plain": [
       "0              GREY\n",
       "1             WHITE\n",
       "2               NaN\n",
       "3             WHITE\n",
       "4             BROWN\n",
       "5               RED\n",
       "6                GN\n",
       "7          WHITEITE\n",
       "8          WHITEITE\n",
       "9          BLACKACK\n",
       "10          BLACKUE\n",
       "11              TAN\n",
       "12             GOLD\n",
       "13         WHITEITE\n",
       "14            GREEN\n",
       "15         WHITEITE\n",
       "16             GRAY\n",
       "17            GREEN\n",
       "18            WHITE\n",
       "19         WHITEITE\n",
       "20              TAN\n",
       "21             GREY\n",
       "22             GRAY\n",
       "23              TAN\n",
       "24            BLACK\n",
       "25           WHITET\n",
       "26            WHITE\n",
       "27               GR\n",
       "28              RED\n",
       "29             GREY\n",
       "             ...   \n",
       "4999969       BLACK\n",
       "4999970       BLACK\n",
       "4999971       BLACK\n",
       "4999972        GREY\n",
       "4999973         NaN\n",
       "4999974        GREY\n",
       "4999975         GRY\n",
       "4999976       BLACK\n",
       "4999977      BLACKU\n",
       "4999978       BLACK\n",
       "4999979      BLACKU\n",
       "4999980        GREY\n",
       "4999981       BLACK\n",
       "4999982        GREY\n",
       "4999983        GREY\n",
       "4999984       BLACK\n",
       "4999985        GREY\n",
       "4999986      YELLOW\n",
       "4999987       BLACK\n",
       "4999988         RED\n",
       "4999989        GREY\n",
       "4999990       WHITE\n",
       "4999991        GREY\n",
       "4999992         NaN\n",
       "4999993        GREY\n",
       "4999994        GREY\n",
       "4999995          GR\n",
       "4999996       BLACK\n",
       "4999997         RED\n",
       "4999998       BLACK\n",
       "Name: Vehicle Color, dtype: object"
      ]
     },
     "execution_count": 80,
     "metadata": {},
     "output_type": "execute_result"
    }
   ],
   "source": [
    "def vehicle_colors(vehicle):\n",
    "    if isinstance(vehicle, str):\n",
    "        # print(vehicle)\n",
    "        vehicle = vehicle.replace(\"GY\", \"GREY\")\n",
    "        vehicle = vehicle.replace(\"WH\",\"WHITE\")\n",
    "        vehicle = vehicle.replace(\"BR\",\"BROWN\")\n",
    "        vehicle = vehicle.replace(\"RD\",\"RED\")\n",
    "        vehicle = vehicle.replace(\"BL\",\"BLACK\")\n",
    "        vehicle = vehicle.replace(\"BK\",\"BLACK\")\n",
    "        vehicle = vehicle.replace(\"TN\",\"TAN\")\n",
    "        vehicle = vehicle.replace(\"YW\",\"YELLOW\")\n",
    "        vehicle = re.sub('SIL$', 'SILVER', vehicle)\n",
    "        vehicle = vehicle.replace(\"SILVR\",\"SILVER\")\n",
    "        vehicle = vehicle.replace(\"SIL\",\"SILVER\")\n",
    "    return vehicle\n",
    "\n",
    "violations_df['Vehicle Color'].apply(vehicle_colors)"
   ]
  },
  {
   "cell_type": "code",
   "execution_count": null,
   "metadata": {
    "collapsed": true
   },
   "outputs": [],
   "source": []
  }
 ],
 "metadata": {
  "kernelspec": {
   "display_name": "Python 3",
   "language": "python",
   "name": "python3"
  },
  "language_info": {
   "codemirror_mode": {
    "name": "ipython",
    "version": 3
   },
   "file_extension": ".py",
   "mimetype": "text/x-python",
   "name": "python",
   "nbconvert_exporter": "python",
   "pygments_lexer": "ipython3",
   "version": "3.5.1"
  }
 },
 "nbformat": 4,
 "nbformat_minor": 0
}
