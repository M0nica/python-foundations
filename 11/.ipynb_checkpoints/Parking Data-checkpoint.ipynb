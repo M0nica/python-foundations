{
 "cells": [
  {
   "cell_type": "code",
   "execution_count": 1,
   "metadata": {
    "collapsed": false
   },
   "outputs": [
    {
     "name": "stderr",
     "output_type": "stream",
     "text": [
      "/Users/Monica/.virtualenvs/dataanalysis/lib/python3.5/site-packages/matplotlib/__init__.py:1035: UserWarning: Duplicate key in file \"/Users/Monica/.matplotlib/matplotlibrc\", line #2\n",
      "  (fname, cnt))\n"
     ]
    }
   ],
   "source": [
    "import pandas as pd"
   ]
  },
  {
   "cell_type": "code",
   "execution_count": 2,
   "metadata": {
    "collapsed": false
   },
   "outputs": [
    {
     "name": "stderr",
     "output_type": "stream",
     "text": [
      "/Users/Monica/.virtualenvs/dataanalysis/lib/python3.5/site-packages/IPython/core/interactiveshell.py:2723: DtypeWarning: Columns (17,18,20,21,22,23,29,30,31,32,36,38,39) have mixed types. Specify dtype option on import or set low_memory=False.\n",
      "  interactivity=interactivity, compiler=compiler, result=result)\n"
     ]
    }
   ],
   "source": [
    "violations_df = pd.read_csv(\"violations.csv\")"
   ]
  },
  {
   "cell_type": "code",
   "execution_count": 9,
   "metadata": {
    "collapsed": false
   },
   "outputs": [],
   "source": [
    "# 1. I want to make sure my Plate ID is a string. Can't lose the leading zeroes!\n",
    "\n",
    "#3. I want the dates to be dates! Read the read_csv documentation to find out how to make pandas automatically parse dates.\n",
    "col_types = { 'Plate ID': 'str'}\n",
    "dof_violations_df = pd.read_csv(\"DOF_Parking_Violation_Codes.csv\", dtype=col_types, parse_dates=True)"
   ]
  },
  {
   "cell_type": "code",
   "execution_count": 4,
   "metadata": {
    "collapsed": false
   },
   "outputs": [
    {
     "name": "stdout",
     "output_type": "stream",
     "text": [
      "Index(['Summons Number', 'Plate ID', 'Registration State', 'Plate Type',\n",
      "       'Issue Date', 'Violation Code', 'Vehicle Body Type', 'Vehicle Make',\n",
      "       'Issuing Agency', 'Street Code1', 'Street Code2', 'Street Code3',\n",
      "       'Vehicle Expiration Date', 'Violation Location', 'Violation Precinct',\n",
      "       'Issuer Precinct', 'Issuer Code', 'Issuer Command', 'Issuer Squad',\n",
      "       'Violation Time', 'Time First Observed', 'Violation County',\n",
      "       'Violation In Front Of Or Opposite', 'House Number', 'Street Name',\n",
      "       'Intersecting Street', 'Date First Observed', 'Law Section',\n",
      "       'Sub Division', 'Violation Legal Code', 'Days Parking In Effect    ',\n",
      "       'From Hours In Effect', 'To Hours In Effect', 'Vehicle Color',\n",
      "       'Unregistered Vehicle?', 'Vehicle Year', 'Meter Number',\n",
      "       'Feet From Curb', 'Violation Post Code', 'Violation Description',\n",
      "       'No Standing or Stopping Violation', 'Hydrant Violation',\n",
      "       'Double Parking Violation'],\n",
      "      dtype='object')\n"
     ]
    }
   ],
   "source": [
    "print(violations_df.columns)"
   ]
  },
  {
   "cell_type": "code",
   "execution_count": null,
   "metadata": {
    "collapsed": false
   },
   "outputs": [],
   "source": [
    "# violations_df.describe"
   ]
  },
  {
   "cell_type": "code",
   "execution_count": 5,
   "metadata": {
    "collapsed": false
   },
   "outputs": [
    {
     "name": "stdout",
     "output_type": "stream",
     "text": [
      "  CODE                                         DEFINITION  \\\n",
      "0   10  Stopping, standing or parking where a sign, st...   \n",
      "1   11  Hotel Loading/Unloading: Standing or parking w...   \n",
      "2   12  Snow Emergency: Standing or parking where stan...   \n",
      "3   13  Taxi Stand: Standing or parking where standing...   \n",
      "4   14  General No Standing: Standing or parking where...   \n",
      "\n",
      "  Manhattan  96th St. & below All Other Areas  \n",
      "0                       $115            $115   \n",
      "1                       $115            $115   \n",
      "2                        $95             $95   \n",
      "3                       $115            $115   \n",
      "4                       $115            $115   \n"
     ]
    }
   ],
   "source": [
    "print(dof_violations_df.head())"
   ]
  },
  {
   "cell_type": "markdown",
   "metadata": {},
   "source": [
    "2. I don't think anyone's car was built in 0AD. Discard the '0's as NaN."
   ]
  },
  {
   "cell_type": "code",
   "execution_count": 6,
   "metadata": {
    "collapsed": false
   },
   "outputs": [
    {
     "name": "stdout",
     "output_type": "stream",
     "text": [
      "0          2013\n",
      "1          2012\n",
      "3          2010\n",
      "4          2012\n",
      "6          2011\n",
      "8          2001\n",
      "9          2005\n",
      "10         2010\n",
      "11         1998\n",
      "13         2012\n",
      "14         1995\n",
      "15         2012\n",
      "16         2010\n",
      "18         2013\n",
      "21         2012\n",
      "23         2003\n",
      "25         2013\n",
      "26         2001\n",
      "28         2003\n",
      "29         2013\n",
      "35         2013\n",
      "36         2004\n",
      "38         2007\n",
      "39         2002\n",
      "40         1996\n",
      "41         2012\n",
      "47         2011\n",
      "48         2012\n",
      "49         2013\n",
      "50         2013\n",
      "           ... \n",
      "4999968    2011\n",
      "4999969    2010\n",
      "4999970    2006\n",
      "4999971    1999\n",
      "4999972    2008\n",
      "4999973    2011\n",
      "4999974    2008\n",
      "4999975    2011\n",
      "4999976    2005\n",
      "4999977    2013\n",
      "4999978    2010\n",
      "4999980    2003\n",
      "4999981    2013\n",
      "4999982    2003\n",
      "4999983    2010\n",
      "4999984    2013\n",
      "4999985    2011\n",
      "4999986    2013\n",
      "4999987    2005\n",
      "4999988    2001\n",
      "4999989    2010\n",
      "4999990    2006\n",
      "4999991    2006\n",
      "4999992    2007\n",
      "4999993    2001\n",
      "4999994    2008\n",
      "4999995    1998\n",
      "4999996    2014\n",
      "4999997    1991\n",
      "4999998    2009\n",
      "Name: Vehicle Year, dtype: int64\n"
     ]
    }
   ],
   "source": [
    "violations_df = violations_df[violations_df['Vehicle Year'] != 0]\n",
    "print(violations_df['Vehicle Year'])"
   ]
  },
  {
   "cell_type": "markdown",
   "metadata": {},
   "source": [
    "4. \"Date first observed\" is a pretty weird column, but it seems like it has a date hiding inside. Using a function with .apply, transform the string (e.g. \"20140324\") into a Python date. Make the 0's show up as NaN.\n"
   ]
  },
  {
   "cell_type": "code",
   "execution_count": 14,
   "metadata": {
    "collapsed": false
   },
   "outputs": [
    {
     "name": "stdout",
     "output_type": "stream",
     "text": [
      "0          0\n",
      "1          0\n",
      "3          0\n",
      "4          0\n",
      "6          0\n",
      "8          0\n",
      "9          0\n",
      "10         0\n",
      "11         0\n",
      "13         0\n",
      "14         0\n",
      "15         0\n",
      "16         0\n",
      "18         0\n",
      "21         0\n",
      "23         0\n",
      "25         0\n",
      "26         0\n",
      "28         0\n",
      "29         0\n",
      "35         0\n",
      "36         0\n",
      "38         0\n",
      "39         0\n",
      "40         0\n",
      "41         0\n",
      "47         0\n",
      "48         0\n",
      "49         0\n",
      "50         0\n",
      "          ..\n",
      "4999968    0\n",
      "4999969    0\n",
      "4999970    0\n",
      "4999971    0\n",
      "4999972    0\n",
      "4999973    0\n",
      "4999974    0\n",
      "4999975    0\n",
      "4999976    0\n",
      "4999977    0\n",
      "4999978    0\n",
      "4999980    0\n",
      "4999981    0\n",
      "4999982    0\n",
      "4999983    0\n",
      "4999984    0\n",
      "4999985    0\n",
      "4999986    0\n",
      "4999987    0\n",
      "4999988    0\n",
      "4999989    0\n",
      "4999990    0\n",
      "4999991    0\n",
      "4999992    0\n",
      "4999993    0\n",
      "4999994    0\n",
      "4999995    0\n",
      "4999996    0\n",
      "4999997    0\n",
      "4999998    0\n",
      "Name: Date First Observed, dtype: int64\n"
     ]
    }
   ],
   "source": [
    "print(violations_df['Date First Observed'])"
   ]
  },
  {
   "cell_type": "markdown",
   "metadata": {},
   "source": [
    "\n",
    "\n",
    "5. \"Violation time\" is... not a time. Make it a time.\n",
    "6.  There sure are a lot of colors of cars, too bad so many of them are the same. Make \"BLK\" and \"BLACK\", \"WT\" and \"WHITE\", and any other combinations that you notice.\n",
    "7. Join the data with the Parking Violations Code dataset from the NYC Open Data site.\n",
    "8. How much money did NYC make off of parking violations?\n",
    "9. What's the most lucrative kind of parking violation? The most frequent?\n",
    "10. New Jersey has bad drivers, but does it have bad parkers, too? How much money does NYC make off of all non-New York vehicles?\n",
    "11. Make a chart of the top few.\n",
    "12. What time of day do people usually get their tickets? You can break the day up into several blocks - for example 12am-6am, 6am-12pm, 12pm-6pm, 6pm-12am.\n",
    "13. What's the average ticket cost in NYC?\n",
    "14. Make a graph of the number of tickets per day.\n",
    "15. Make a graph of the amount of revenue collected per day.\n",
    "16. Manually construct a dataframe out of https://dmv.ny.gov/statistic/2015licinforce-web.pdf (only NYC boroughts - bronx, queens, manhattan, staten island, brooklyn), having columns for borough name, abbreviation, and number of licensed drivers.\n",
    "17. What's the parking-ticket-$-per-licensed-driver in each borough of NYC? Do this with pandas and the dataframe you just made, not with your head!"
   ]
  },
  {
   "cell_type": "code",
   "execution_count": null,
   "metadata": {
    "collapsed": true
   },
   "outputs": [],
   "source": []
  }
 ],
 "metadata": {
  "kernelspec": {
   "display_name": "Python 3",
   "language": "python",
   "name": "python3"
  },
  "language_info": {
   "codemirror_mode": {
    "name": "ipython",
    "version": 3
   },
   "file_extension": ".py",
   "mimetype": "text/x-python",
   "name": "python",
   "nbconvert_exporter": "python",
   "pygments_lexer": "ipython3",
   "version": "3.5.1"
  }
 },
 "nbformat": 4,
 "nbformat_minor": 0
}
