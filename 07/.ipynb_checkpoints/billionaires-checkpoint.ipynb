{
 "cells": [
  {
   "cell_type": "code",
   "execution_count": 7,
   "metadata": {
    "collapsed": false
   },
   "outputs": [],
   "source": [
    "import pandas as pd\n",
    "df = pd.read_excel(\"richpeople.xlsx\")"
   ]
  },
  {
   "cell_type": "markdown",
   "metadata": {},
   "source": [
    "What country are most billionaires from? For the top ones, how many billionaires per billion people?"
   ]
  },
  {
   "cell_type": "code",
   "execution_count": 12,
   "metadata": {
    "collapsed": false
   },
   "outputs": [
    {
     "data": {
      "text/plain": [
       "United States    903\n",
       "Germany          160\n",
       "China            153\n",
       "Russia           119\n",
       "Japan             96\n",
       "Name: citizenship, dtype: int64"
      ]
     },
     "execution_count": 12,
     "metadata": {},
     "output_type": "execute_result"
    }
   ],
   "source": [
    "df['citizenship'].value_counts().head()"
   ]
  },
  {
   "cell_type": "code",
   "execution_count": 34,
   "metadata": {
    "collapsed": false
   },
   "outputs": [
    {
     "name": "stdout",
     "output_type": "stream",
     "text": [
      "There are 0.35315614617940194 billionaires per billion people in the United States.\n"
     ]
    }
   ],
   "source": [
    "us_pop = 318.9 #billion (2014)\n",
    "us_bill = df[df['citizenship'] == 'United States']\n",
    "print(\"There are\",  us_pop/len(us_bill), \"billionaires per billion people in the United States.\")\n"
   ]
  },
  {
   "cell_type": "code",
   "execution_count": 35,
   "metadata": {
    "collapsed": false
   },
   "outputs": [
    {
     "name": "stdout",
     "output_type": "stream",
     "text": [
      "There are 0.000503875 billionaires per billion people in Germany.\n"
     ]
    }
   ],
   "source": [
    "germ_pop = 0.08062 #(2013)\n",
    "germ_bill = df[df['citizenship'] == 'Germany']\n",
    "print(\"There are\",  germ_pop/len(germ_bill), \"billionaires per billion people in Germany.\")\n"
   ]
  },
  {
   "cell_type": "code",
   "execution_count": 36,
   "metadata": {
    "collapsed": false
   },
   "outputs": [
    {
     "name": "stdout",
     "output_type": "stream",
     "text": [
      "There are 0.008869281045751633 billionaires per billion people in China.\n"
     ]
    }
   ],
   "source": [
    "china_pop = 1.357 #(2013)\n",
    "china_bill = df[df['citizenship'] == 'China']\n",
    "print(\"There are\",  china_pop/len(china_bill), \"billionaires per billion people in China.\")\n"
   ]
  },
  {
   "cell_type": "code",
   "execution_count": 37,
   "metadata": {
    "collapsed": false
   },
   "outputs": [
    {
     "name": "stdout",
     "output_type": "stream",
     "text": [
      "There are 0.0012058823529411764 billionaires per billion people in Russia.\n"
     ]
    }
   ],
   "source": [
    "russia_pop = 0.1435 #(2013)\n",
    "russia_bill = df[df['citizenship'] == 'Russia']\n",
    "print(\"There are\",  russia_pop/len(russia_bill), \"billionaires per billion people in Russia.\")"
   ]
  },
  {
   "cell_type": "code",
   "execution_count": 38,
   "metadata": {
    "collapsed": false
   },
   "outputs": [
    {
     "name": "stdout",
     "output_type": "stream",
     "text": [
      "There are 0.0013260416666666666 billionaires per billion people in Japan.\n"
     ]
    }
   ],
   "source": [
    "japan_pop = 0.1273 # 2013 \n",
    "japan_bill = df[df['citizenship'] == 'Japan']\n",
    "print(\"There are\",  japan_pop/len(japan_bill), \"billionaires per billion people in Japan.\")"
   ]
  },
  {
   "cell_type": "code",
   "execution_count": 8,
   "metadata": {
    "collapsed": false
   },
   "outputs": [
    {
     "name": "stdout",
     "output_type": "stream",
     "text": [
      "Index(['year', 'name', 'rank', 'citizenship', 'countrycode',\n",
      "       'networthusbillion', 'selfmade', 'typeofwealth', 'gender', 'age',\n",
      "       'industry', 'IndustryAggregates', 'region', 'north',\n",
      "       'politicalconnection', 'founder', 'generationofinheritance', 'sector',\n",
      "       'company', 'companytype', 'relationshiptocompany', 'foundingdate',\n",
      "       'gdpcurrentus', 'sourceofwealth', 'notes', 'notes2', 'source',\n",
      "       'source_2', 'source_3', 'source_4'],\n",
      "      dtype='object')\n"
     ]
    }
   ],
   "source": [
    "print(df.columns)"
   ]
  },
  {
   "cell_type": "markdown",
   "metadata": {},
   "source": [
    "Who are the top 10 richest billionaires?"
   ]
  },
  {
   "cell_type": "code",
   "execution_count": 42,
   "metadata": {
    "collapsed": false
   },
   "outputs": [
    {
     "data": {
      "text/html": [
       "<div>\n",
       "<table border=\"1\" class=\"dataframe\">\n",
       "  <thead>\n",
       "    <tr style=\"text-align: right;\">\n",
       "      <th></th>\n",
       "      <th>year</th>\n",
       "      <th>name</th>\n",
       "      <th>rank</th>\n",
       "      <th>citizenship</th>\n",
       "      <th>countrycode</th>\n",
       "      <th>networthusbillion</th>\n",
       "      <th>selfmade</th>\n",
       "      <th>typeofwealth</th>\n",
       "      <th>gender</th>\n",
       "      <th>age</th>\n",
       "      <th>...</th>\n",
       "      <th>relationshiptocompany</th>\n",
       "      <th>foundingdate</th>\n",
       "      <th>gdpcurrentus</th>\n",
       "      <th>sourceofwealth</th>\n",
       "      <th>notes</th>\n",
       "      <th>notes2</th>\n",
       "      <th>source</th>\n",
       "      <th>source_2</th>\n",
       "      <th>source_3</th>\n",
       "      <th>source_4</th>\n",
       "    </tr>\n",
       "  </thead>\n",
       "  <tbody>\n",
       "    <tr>\n",
       "      <th>284</th>\n",
       "      <td>2014</td>\n",
       "      <td>Bill Gates</td>\n",
       "      <td>1</td>\n",
       "      <td>United States</td>\n",
       "      <td>USA</td>\n",
       "      <td>76.0</td>\n",
       "      <td>self-made</td>\n",
       "      <td>founder non-finance</td>\n",
       "      <td>male</td>\n",
       "      <td>58.0</td>\n",
       "      <td>...</td>\n",
       "      <td>founder</td>\n",
       "      <td>1975.0</td>\n",
       "      <td>NaN</td>\n",
       "      <td>Microsoft</td>\n",
       "      <td>NaN</td>\n",
       "      <td>NaN</td>\n",
       "      <td>http://www.forbes.com/profile/bill-gates/</td>\n",
       "      <td>NaN</td>\n",
       "      <td>NaN</td>\n",
       "      <td>NaN</td>\n",
       "    </tr>\n",
       "    <tr>\n",
       "      <th>348</th>\n",
       "      <td>2014</td>\n",
       "      <td>Carlos Slim Helu</td>\n",
       "      <td>2</td>\n",
       "      <td>Mexico</td>\n",
       "      <td>MEX</td>\n",
       "      <td>72.0</td>\n",
       "      <td>self-made</td>\n",
       "      <td>privatized and resources</td>\n",
       "      <td>male</td>\n",
       "      <td>74.0</td>\n",
       "      <td>...</td>\n",
       "      <td>founder</td>\n",
       "      <td>1990.0</td>\n",
       "      <td>NaN</td>\n",
       "      <td>telecom</td>\n",
       "      <td>NaN</td>\n",
       "      <td>NaN</td>\n",
       "      <td>http://www.ozy.com/provocateurs/carlos-slims-w...</td>\n",
       "      <td>NaN</td>\n",
       "      <td>NaN</td>\n",
       "      <td>NaN</td>\n",
       "    </tr>\n",
       "    <tr>\n",
       "      <th>124</th>\n",
       "      <td>2014</td>\n",
       "      <td>Amancio Ortega</td>\n",
       "      <td>3</td>\n",
       "      <td>Spain</td>\n",
       "      <td>ESP</td>\n",
       "      <td>64.0</td>\n",
       "      <td>self-made</td>\n",
       "      <td>founder non-finance</td>\n",
       "      <td>male</td>\n",
       "      <td>77.0</td>\n",
       "      <td>...</td>\n",
       "      <td>founder</td>\n",
       "      <td>1975.0</td>\n",
       "      <td>NaN</td>\n",
       "      <td>retail</td>\n",
       "      <td>NaN</td>\n",
       "      <td>NaN</td>\n",
       "      <td>http://www.forbes.com/profile/amancio-ortega/</td>\n",
       "      <td>NaN</td>\n",
       "      <td>NaN</td>\n",
       "      <td>NaN</td>\n",
       "    </tr>\n",
       "    <tr>\n",
       "      <th>2491</th>\n",
       "      <td>2014</td>\n",
       "      <td>Warren Buffett</td>\n",
       "      <td>4</td>\n",
       "      <td>United States</td>\n",
       "      <td>USA</td>\n",
       "      <td>58.2</td>\n",
       "      <td>self-made</td>\n",
       "      <td>founder non-finance</td>\n",
       "      <td>male</td>\n",
       "      <td>83.0</td>\n",
       "      <td>...</td>\n",
       "      <td>founder</td>\n",
       "      <td>1839.0</td>\n",
       "      <td>NaN</td>\n",
       "      <td>Berkshire Hathaway</td>\n",
       "      <td>NaN</td>\n",
       "      <td>NaN</td>\n",
       "      <td>http://www.forbes.com/lists/2009/10/billionair...</td>\n",
       "      <td>http://www.forbes.com/companies/berkshire-hath...</td>\n",
       "      <td>NaN</td>\n",
       "      <td>NaN</td>\n",
       "    </tr>\n",
       "    <tr>\n",
       "      <th>1377</th>\n",
       "      <td>2014</td>\n",
       "      <td>Larry Ellison</td>\n",
       "      <td>5</td>\n",
       "      <td>United States</td>\n",
       "      <td>USA</td>\n",
       "      <td>48.0</td>\n",
       "      <td>self-made</td>\n",
       "      <td>founder non-finance</td>\n",
       "      <td>male</td>\n",
       "      <td>69.0</td>\n",
       "      <td>...</td>\n",
       "      <td>founder</td>\n",
       "      <td>1977.0</td>\n",
       "      <td>NaN</td>\n",
       "      <td>Oracle</td>\n",
       "      <td>NaN</td>\n",
       "      <td>NaN</td>\n",
       "      <td>http://www.forbes.com/profile/larry-ellison/</td>\n",
       "      <td>http://www.businessinsider.com/how-larry-ellis...</td>\n",
       "      <td>NaN</td>\n",
       "      <td>NaN</td>\n",
       "    </tr>\n",
       "    <tr>\n",
       "      <th>509</th>\n",
       "      <td>2014</td>\n",
       "      <td>David Koch</td>\n",
       "      <td>6</td>\n",
       "      <td>United States</td>\n",
       "      <td>USA</td>\n",
       "      <td>40.0</td>\n",
       "      <td>inherited</td>\n",
       "      <td>inherited</td>\n",
       "      <td>male</td>\n",
       "      <td>73.0</td>\n",
       "      <td>...</td>\n",
       "      <td>relation</td>\n",
       "      <td>1940.0</td>\n",
       "      <td>NaN</td>\n",
       "      <td>diversified</td>\n",
       "      <td>inherited from father</td>\n",
       "      <td>NaN</td>\n",
       "      <td>http://www.kochind.com/About_Koch/History_Time...</td>\n",
       "      <td>NaN</td>\n",
       "      <td>NaN</td>\n",
       "      <td>NaN</td>\n",
       "    </tr>\n",
       "    <tr>\n",
       "      <th>381</th>\n",
       "      <td>2014</td>\n",
       "      <td>Charles Koch</td>\n",
       "      <td>6</td>\n",
       "      <td>United States</td>\n",
       "      <td>USA</td>\n",
       "      <td>40.0</td>\n",
       "      <td>inherited</td>\n",
       "      <td>inherited</td>\n",
       "      <td>male</td>\n",
       "      <td>78.0</td>\n",
       "      <td>...</td>\n",
       "      <td>relation</td>\n",
       "      <td>1940.0</td>\n",
       "      <td>NaN</td>\n",
       "      <td>diversified</td>\n",
       "      <td>inherited from father</td>\n",
       "      <td>NaN</td>\n",
       "      <td>http://www.kochind.com/About_Koch/History_Time...</td>\n",
       "      <td>NaN</td>\n",
       "      <td>NaN</td>\n",
       "      <td>NaN</td>\n",
       "    </tr>\n",
       "    <tr>\n",
       "      <th>2185</th>\n",
       "      <td>2014</td>\n",
       "      <td>Sheldon Adelson</td>\n",
       "      <td>8</td>\n",
       "      <td>United States</td>\n",
       "      <td>USA</td>\n",
       "      <td>38.0</td>\n",
       "      <td>self-made</td>\n",
       "      <td>self-made finance</td>\n",
       "      <td>male</td>\n",
       "      <td>80.0</td>\n",
       "      <td>...</td>\n",
       "      <td>founder</td>\n",
       "      <td>1952.0</td>\n",
       "      <td>NaN</td>\n",
       "      <td>casinos</td>\n",
       "      <td>NaN</td>\n",
       "      <td>NaN</td>\n",
       "      <td>http://www.forbes.com/profile/sheldon-adelson/</td>\n",
       "      <td>http://lasvegassun.com/news/1996/nov/26/rat-pa...</td>\n",
       "      <td>NaN</td>\n",
       "      <td>NaN</td>\n",
       "    </tr>\n",
       "    <tr>\n",
       "      <th>429</th>\n",
       "      <td>2014</td>\n",
       "      <td>Christy Walton</td>\n",
       "      <td>9</td>\n",
       "      <td>United States</td>\n",
       "      <td>USA</td>\n",
       "      <td>36.7</td>\n",
       "      <td>inherited</td>\n",
       "      <td>inherited</td>\n",
       "      <td>female</td>\n",
       "      <td>59.0</td>\n",
       "      <td>...</td>\n",
       "      <td>relation</td>\n",
       "      <td>1962.0</td>\n",
       "      <td>NaN</td>\n",
       "      <td>Wal-Mart</td>\n",
       "      <td>widow</td>\n",
       "      <td>NaN</td>\n",
       "      <td>http://www.forbes.com/profile/christy-walton/</td>\n",
       "      <td>NaN</td>\n",
       "      <td>NaN</td>\n",
       "      <td>NaN</td>\n",
       "    </tr>\n",
       "    <tr>\n",
       "      <th>1128</th>\n",
       "      <td>2014</td>\n",
       "      <td>Jim Walton</td>\n",
       "      <td>10</td>\n",
       "      <td>United States</td>\n",
       "      <td>USA</td>\n",
       "      <td>34.7</td>\n",
       "      <td>inherited</td>\n",
       "      <td>inherited</td>\n",
       "      <td>male</td>\n",
       "      <td>66.0</td>\n",
       "      <td>...</td>\n",
       "      <td>relation</td>\n",
       "      <td>1962.0</td>\n",
       "      <td>NaN</td>\n",
       "      <td>Wal-Mart</td>\n",
       "      <td>inherited from father</td>\n",
       "      <td>NaN</td>\n",
       "      <td>http://www.forbes.com/profile/jim-walton/</td>\n",
       "      <td>NaN</td>\n",
       "      <td>NaN</td>\n",
       "      <td>NaN</td>\n",
       "    </tr>\n",
       "  </tbody>\n",
       "</table>\n",
       "<p>10 rows × 30 columns</p>\n",
       "</div>"
      ],
      "text/plain": [
       "      year              name  rank    citizenship countrycode  \\\n",
       "284   2014        Bill Gates     1  United States         USA   \n",
       "348   2014  Carlos Slim Helu     2         Mexico         MEX   \n",
       "124   2014    Amancio Ortega     3          Spain         ESP   \n",
       "2491  2014    Warren Buffett     4  United States         USA   \n",
       "1377  2014     Larry Ellison     5  United States         USA   \n",
       "509   2014        David Koch     6  United States         USA   \n",
       "381   2014      Charles Koch     6  United States         USA   \n",
       "2185  2014   Sheldon Adelson     8  United States         USA   \n",
       "429   2014    Christy Walton     9  United States         USA   \n",
       "1128  2014        Jim Walton    10  United States         USA   \n",
       "\n",
       "      networthusbillion   selfmade              typeofwealth  gender   age  \\\n",
       "284                76.0  self-made       founder non-finance    male  58.0   \n",
       "348                72.0  self-made  privatized and resources    male  74.0   \n",
       "124                64.0  self-made       founder non-finance    male  77.0   \n",
       "2491               58.2  self-made       founder non-finance    male  83.0   \n",
       "1377               48.0  self-made       founder non-finance    male  69.0   \n",
       "509                40.0  inherited                 inherited    male  73.0   \n",
       "381                40.0  inherited                 inherited    male  78.0   \n",
       "2185               38.0  self-made         self-made finance    male  80.0   \n",
       "429                36.7  inherited                 inherited  female  59.0   \n",
       "1128               34.7  inherited                 inherited    male  66.0   \n",
       "\n",
       "       ...    relationshiptocompany foundingdate gdpcurrentus  \\\n",
       "284    ...                  founder       1975.0          NaN   \n",
       "348    ...                  founder       1990.0          NaN   \n",
       "124    ...                  founder       1975.0          NaN   \n",
       "2491   ...                  founder       1839.0          NaN   \n",
       "1377   ...                  founder       1977.0          NaN   \n",
       "509    ...                 relation       1940.0          NaN   \n",
       "381    ...                 relation       1940.0          NaN   \n",
       "2185   ...                  founder       1952.0          NaN   \n",
       "429    ...                 relation       1962.0          NaN   \n",
       "1128   ...                 relation       1962.0          NaN   \n",
       "\n",
       "          sourceofwealth                  notes  notes2  \\\n",
       "284            Microsoft                    NaN     NaN   \n",
       "348              telecom                    NaN     NaN   \n",
       "124               retail                    NaN     NaN   \n",
       "2491  Berkshire Hathaway                    NaN     NaN   \n",
       "1377              Oracle                    NaN     NaN   \n",
       "509          diversified  inherited from father     NaN   \n",
       "381          diversified  inherited from father     NaN   \n",
       "2185             casinos                    NaN     NaN   \n",
       "429             Wal-Mart                  widow     NaN   \n",
       "1128            Wal-Mart  inherited from father     NaN   \n",
       "\n",
       "                                                 source  \\\n",
       "284           http://www.forbes.com/profile/bill-gates/   \n",
       "348   http://www.ozy.com/provocateurs/carlos-slims-w...   \n",
       "124       http://www.forbes.com/profile/amancio-ortega/   \n",
       "2491  http://www.forbes.com/lists/2009/10/billionair...   \n",
       "1377       http://www.forbes.com/profile/larry-ellison/   \n",
       "509   http://www.kochind.com/About_Koch/History_Time...   \n",
       "381   http://www.kochind.com/About_Koch/History_Time...   \n",
       "2185     http://www.forbes.com/profile/sheldon-adelson/   \n",
       "429       http://www.forbes.com/profile/christy-walton/   \n",
       "1128          http://www.forbes.com/profile/jim-walton/   \n",
       "\n",
       "                                               source_2 source_3 source_4  \n",
       "284                                                 NaN      NaN      NaN  \n",
       "348                                                 NaN      NaN      NaN  \n",
       "124                                                 NaN      NaN      NaN  \n",
       "2491  http://www.forbes.com/companies/berkshire-hath...      NaN      NaN  \n",
       "1377  http://www.businessinsider.com/how-larry-ellis...      NaN      NaN  \n",
       "509                                                 NaN      NaN      NaN  \n",
       "381                                                 NaN      NaN      NaN  \n",
       "2185  http://lasvegassun.com/news/1996/nov/26/rat-pa...      NaN      NaN  \n",
       "429                                                 NaN      NaN      NaN  \n",
       "1128                                                NaN      NaN      NaN  \n",
       "\n",
       "[10 rows x 30 columns]"
      ]
     },
     "execution_count": 42,
     "metadata": {},
     "output_type": "execute_result"
    }
   ],
   "source": [
    "recent = df[df['year'] == 2014]\n",
    "# if it is not recent then there are duplicates for diff years\n",
    "recent.sort_values('rank').head(10)"
   ]
  },
  {
   "cell_type": "code",
   "execution_count": null,
   "metadata": {
    "collapsed": true
   },
   "outputs": [],
   "source": [
    "What's the average wealth of a billionaire? Male? Female?"
   ]
  },
  {
   "cell_type": "code",
   "execution_count": 67,
   "metadata": {
    "collapsed": false
   },
   "outputs": [
    {
     "name": "stdout",
     "output_type": "stream",
     "text": [
      "The average wealth of a billionaire is 3.90465819722 billion dollars\n",
      "The average wealth of a male billionaire is 3.9027155465 billion dollars\n",
      "The average wealth of a female billionaire is 3.92055555556 billion dollars\n"
     ]
    }
   ],
   "source": [
    "print(\"The average wealth of a billionaire is\", recent['networthusbillion'].mean(), \"billion dollars\")\n",
    "\n",
    "male = recent[(recent['gender'] == 'male')]\n",
    "female = recent[(recent['gender'] == 'female')]\n",
    "\n",
    "\n",
    "print(\"The average wealth of a male billionaire is\", male['networthusbillion'].mean(), \"billion dollars\")\n",
    "print(\"The average wealth of a female billionaire is\", female['networthusbillion'].mean(), \"billion dollars\")\n"
   ]
  },
  {
   "cell_type": "code",
   "execution_count": null,
   "metadata": {
    "collapsed": true
   },
   "outputs": [],
   "source": [
    "Who is the poorest billionaire? "
   ]
  },
  {
   "cell_type": "code",
   "execution_count": 69,
   "metadata": {
    "collapsed": false
   },
   "outputs": [
    {
     "data": {
      "text/html": [
       "<div>\n",
       "<table border=\"1\" class=\"dataframe\">\n",
       "  <thead>\n",
       "    <tr style=\"text-align: right;\">\n",
       "      <th></th>\n",
       "      <th>year</th>\n",
       "      <th>name</th>\n",
       "      <th>rank</th>\n",
       "      <th>citizenship</th>\n",
       "      <th>countrycode</th>\n",
       "      <th>networthusbillion</th>\n",
       "      <th>selfmade</th>\n",
       "      <th>typeofwealth</th>\n",
       "      <th>gender</th>\n",
       "      <th>age</th>\n",
       "      <th>...</th>\n",
       "      <th>relationshiptocompany</th>\n",
       "      <th>foundingdate</th>\n",
       "      <th>gdpcurrentus</th>\n",
       "      <th>sourceofwealth</th>\n",
       "      <th>notes</th>\n",
       "      <th>notes2</th>\n",
       "      <th>source</th>\n",
       "      <th>source_2</th>\n",
       "      <th>source_3</th>\n",
       "      <th>source_4</th>\n",
       "    </tr>\n",
       "  </thead>\n",
       "  <tbody>\n",
       "    <tr>\n",
       "      <th>234</th>\n",
       "      <td>2014</td>\n",
       "      <td>B.R. Shetty</td>\n",
       "      <td>1565</td>\n",
       "      <td>India</td>\n",
       "      <td>IND</td>\n",
       "      <td>1.0</td>\n",
       "      <td>self-made</td>\n",
       "      <td>founder non-finance</td>\n",
       "      <td>male</td>\n",
       "      <td>72.0</td>\n",
       "      <td>...</td>\n",
       "      <td>founder</td>\n",
       "      <td>1975.0</td>\n",
       "      <td>NaN</td>\n",
       "      <td>healthcare</td>\n",
       "      <td>NaN</td>\n",
       "      <td>NaN</td>\n",
       "      <td>http://en.wikipedia.org/wiki/B._R._Shetty</td>\n",
       "      <td>http://www.nmchealth.com/dr-br-shetty/</td>\n",
       "      <td>NaN</td>\n",
       "      <td>NaN</td>\n",
       "    </tr>\n",
       "  </tbody>\n",
       "</table>\n",
       "<p>1 rows × 30 columns</p>\n",
       "</div>"
      ],
      "text/plain": [
       "     year         name  rank citizenship countrycode  networthusbillion  \\\n",
       "234  2014  B.R. Shetty  1565       India         IND                1.0   \n",
       "\n",
       "      selfmade         typeofwealth gender   age   ...     \\\n",
       "234  self-made  founder non-finance   male  72.0   ...      \n",
       "\n",
       "    relationshiptocompany foundingdate gdpcurrentus  sourceofwealth  notes  \\\n",
       "234               founder       1975.0          NaN      healthcare    NaN   \n",
       "\n",
       "     notes2                                     source  \\\n",
       "234     NaN  http://en.wikipedia.org/wiki/B._R._Shetty   \n",
       "\n",
       "                                   source_2 source_3 source_4  \n",
       "234  http://www.nmchealth.com/dr-br-shetty/      NaN      NaN  \n",
       "\n",
       "[1 rows x 30 columns]"
      ]
     },
     "execution_count": 69,
     "metadata": {},
     "output_type": "execute_result"
    }
   ],
   "source": [
    "recent.sort_values('networthusbillion').head(1)"
   ]
  },
  {
   "cell_type": "code",
   "execution_count": 71,
   "metadata": {
    "collapsed": false
   },
   "outputs": [
    {
     "name": "stdout",
     "output_type": "stream",
     "text": [
      "Object `billionaires` not found.\n"
     ]
    }
   ],
   "source": [
    "Who are the top 10 poorest billionaires?"
   ]
  },
  {
   "cell_type": "code",
   "execution_count": null,
   "metadata": {
    "collapsed": true
   },
   "outputs": [],
   "source": [
    "Who are the top 10 poorest billionaires"
   ]
  },
  {
   "cell_type": "code",
   "execution_count": 72,
   "metadata": {
    "collapsed": false
   },
   "outputs": [
    {
     "data": {
      "text/html": [
       "<div>\n",
       "<table border=\"1\" class=\"dataframe\">\n",
       "  <thead>\n",
       "    <tr style=\"text-align: right;\">\n",
       "      <th></th>\n",
       "      <th>year</th>\n",
       "      <th>name</th>\n",
       "      <th>rank</th>\n",
       "      <th>citizenship</th>\n",
       "      <th>countrycode</th>\n",
       "      <th>networthusbillion</th>\n",
       "      <th>selfmade</th>\n",
       "      <th>typeofwealth</th>\n",
       "      <th>gender</th>\n",
       "      <th>age</th>\n",
       "      <th>...</th>\n",
       "      <th>relationshiptocompany</th>\n",
       "      <th>foundingdate</th>\n",
       "      <th>gdpcurrentus</th>\n",
       "      <th>sourceofwealth</th>\n",
       "      <th>notes</th>\n",
       "      <th>notes2</th>\n",
       "      <th>source</th>\n",
       "      <th>source_2</th>\n",
       "      <th>source_3</th>\n",
       "      <th>source_4</th>\n",
       "    </tr>\n",
       "  </thead>\n",
       "  <tbody>\n",
       "    <tr>\n",
       "      <th>234</th>\n",
       "      <td>2014</td>\n",
       "      <td>B.R. Shetty</td>\n",
       "      <td>1565</td>\n",
       "      <td>India</td>\n",
       "      <td>IND</td>\n",
       "      <td>1.0</td>\n",
       "      <td>self-made</td>\n",
       "      <td>founder non-finance</td>\n",
       "      <td>male</td>\n",
       "      <td>72.0</td>\n",
       "      <td>...</td>\n",
       "      <td>founder</td>\n",
       "      <td>1975.0</td>\n",
       "      <td>NaN</td>\n",
       "      <td>healthcare</td>\n",
       "      <td>NaN</td>\n",
       "      <td>NaN</td>\n",
       "      <td>http://en.wikipedia.org/wiki/B._R._Shetty</td>\n",
       "      <td>http://www.nmchealth.com/dr-br-shetty/</td>\n",
       "      <td>NaN</td>\n",
       "      <td>NaN</td>\n",
       "    </tr>\n",
       "    <tr>\n",
       "      <th>2092</th>\n",
       "      <td>2014</td>\n",
       "      <td>Rostam Azizi</td>\n",
       "      <td>1565</td>\n",
       "      <td>Tanzania</td>\n",
       "      <td>TZA</td>\n",
       "      <td>1.0</td>\n",
       "      <td>self-made</td>\n",
       "      <td>executive</td>\n",
       "      <td>male</td>\n",
       "      <td>49.0</td>\n",
       "      <td>...</td>\n",
       "      <td>investor</td>\n",
       "      <td>1999.0</td>\n",
       "      <td>NaN</td>\n",
       "      <td>telecom, investments</td>\n",
       "      <td>NaN</td>\n",
       "      <td>NaN</td>\n",
       "      <td>http://www.forbes.com/profile/rostam-azizi/</td>\n",
       "      <td>http://en.wikipedia.org/wiki/Vodacom_Tanzania</td>\n",
       "      <td>http://www.thecitizen.co.tz/News/Rostam--Dewji...</td>\n",
       "      <td>NaN</td>\n",
       "    </tr>\n",
       "    <tr>\n",
       "      <th>2401</th>\n",
       "      <td>2014</td>\n",
       "      <td>Tory Burch</td>\n",
       "      <td>1565</td>\n",
       "      <td>United States</td>\n",
       "      <td>USA</td>\n",
       "      <td>1.0</td>\n",
       "      <td>self-made</td>\n",
       "      <td>founder non-finance</td>\n",
       "      <td>female</td>\n",
       "      <td>47.0</td>\n",
       "      <td>...</td>\n",
       "      <td>founder</td>\n",
       "      <td>2004.0</td>\n",
       "      <td>NaN</td>\n",
       "      <td>fashion</td>\n",
       "      <td>NaN</td>\n",
       "      <td>NaN</td>\n",
       "      <td>http://en.wikipedia.org/wiki/J._Christopher_Burch</td>\n",
       "      <td>http://www.vanityfair.com/news/2007/02/tory-bu...</td>\n",
       "      <td>NaN</td>\n",
       "      <td>NaN</td>\n",
       "    </tr>\n",
       "    <tr>\n",
       "      <th>734</th>\n",
       "      <td>2014</td>\n",
       "      <td>Fred Chang</td>\n",
       "      <td>1565</td>\n",
       "      <td>United States</td>\n",
       "      <td>USA</td>\n",
       "      <td>1.0</td>\n",
       "      <td>self-made</td>\n",
       "      <td>founder non-finance</td>\n",
       "      <td>male</td>\n",
       "      <td>57.0</td>\n",
       "      <td>...</td>\n",
       "      <td>founder</td>\n",
       "      <td>2001.0</td>\n",
       "      <td>NaN</td>\n",
       "      <td>online retailing</td>\n",
       "      <td>NaN</td>\n",
       "      <td>NaN</td>\n",
       "      <td>http://en.wikipedia.org/wiki/Newegg</td>\n",
       "      <td>http://www.newegg.com/Info/FactSheet.aspx</td>\n",
       "      <td>http://www.forbes.com/sites/andreanavarro/2014...</td>\n",
       "      <td>NaN</td>\n",
       "    </tr>\n",
       "    <tr>\n",
       "      <th>171</th>\n",
       "      <td>2014</td>\n",
       "      <td>Angela Bennett</td>\n",
       "      <td>1565</td>\n",
       "      <td>Australia</td>\n",
       "      <td>AUS</td>\n",
       "      <td>1.0</td>\n",
       "      <td>inherited</td>\n",
       "      <td>inherited</td>\n",
       "      <td>female</td>\n",
       "      <td>69.0</td>\n",
       "      <td>...</td>\n",
       "      <td>relation</td>\n",
       "      <td>1955.0</td>\n",
       "      <td>NaN</td>\n",
       "      <td>mining</td>\n",
       "      <td>inherited from father</td>\n",
       "      <td>shared fortune with brother</td>\n",
       "      <td>http://www.forbes.com/profile/angela-bennett/</td>\n",
       "      <td>NaN</td>\n",
       "      <td>NaN</td>\n",
       "      <td>NaN</td>\n",
       "    </tr>\n",
       "    <tr>\n",
       "      <th>748</th>\n",
       "      <td>2014</td>\n",
       "      <td>Fu Kwan</td>\n",
       "      <td>1565</td>\n",
       "      <td>China</td>\n",
       "      <td>CHN</td>\n",
       "      <td>1.0</td>\n",
       "      <td>self-made</td>\n",
       "      <td>self-made finance</td>\n",
       "      <td>male</td>\n",
       "      <td>56.0</td>\n",
       "      <td>...</td>\n",
       "      <td>chairman</td>\n",
       "      <td>1990.0</td>\n",
       "      <td>NaN</td>\n",
       "      <td>diversified</td>\n",
       "      <td>NaN</td>\n",
       "      <td>NaN</td>\n",
       "      <td>http://www.forbes.com/profile/fu-kwan/</td>\n",
       "      <td>http://www.macrolink.com.cn/en/AboutBig.aspx</td>\n",
       "      <td>NaN</td>\n",
       "      <td>NaN</td>\n",
       "    </tr>\n",
       "    <tr>\n",
       "      <th>2107</th>\n",
       "      <td>2014</td>\n",
       "      <td>Ryan Kavanaugh</td>\n",
       "      <td>1565</td>\n",
       "      <td>United States</td>\n",
       "      <td>USA</td>\n",
       "      <td>1.0</td>\n",
       "      <td>self-made</td>\n",
       "      <td>founder non-finance</td>\n",
       "      <td>male</td>\n",
       "      <td>39.0</td>\n",
       "      <td>...</td>\n",
       "      <td>founder</td>\n",
       "      <td>2004.0</td>\n",
       "      <td>NaN</td>\n",
       "      <td>Movies</td>\n",
       "      <td>NaN</td>\n",
       "      <td>NaN</td>\n",
       "      <td>http://en.wikipedia.org/wiki/Ryan_Kavanaugh</td>\n",
       "      <td>http://en.wikipedia.org/wiki/Relativity_Media</td>\n",
       "      <td>http://www.vanityfair.com/news/2010/03/kavanau...</td>\n",
       "      <td>NaN</td>\n",
       "    </tr>\n",
       "    <tr>\n",
       "      <th>1783</th>\n",
       "      <td>2014</td>\n",
       "      <td>O. Francis Biondi</td>\n",
       "      <td>1565</td>\n",
       "      <td>United States</td>\n",
       "      <td>USA</td>\n",
       "      <td>1.0</td>\n",
       "      <td>self-made</td>\n",
       "      <td>self-made finance</td>\n",
       "      <td>male</td>\n",
       "      <td>49.0</td>\n",
       "      <td>...</td>\n",
       "      <td>founder</td>\n",
       "      <td>1995.0</td>\n",
       "      <td>NaN</td>\n",
       "      <td>hedge fund</td>\n",
       "      <td>NaN</td>\n",
       "      <td>NaN</td>\n",
       "      <td>http://www.forbes.com/profile/o-francis-biondi/</td>\n",
       "      <td>http://www.forbes.com/sites/nathanvardi/2014/0...</td>\n",
       "      <td>NaN</td>\n",
       "      <td>NaN</td>\n",
       "    </tr>\n",
       "    <tr>\n",
       "      <th>1371</th>\n",
       "      <td>2014</td>\n",
       "      <td>Lam Fong Ngo</td>\n",
       "      <td>1565</td>\n",
       "      <td>Macau</td>\n",
       "      <td>MAC</td>\n",
       "      <td>1.0</td>\n",
       "      <td>self-made</td>\n",
       "      <td>self-made finance</td>\n",
       "      <td>female</td>\n",
       "      <td>NaN</td>\n",
       "      <td>...</td>\n",
       "      <td>Vice Chairman</td>\n",
       "      <td>1997.0</td>\n",
       "      <td>NaN</td>\n",
       "      <td>casinos</td>\n",
       "      <td>NaN</td>\n",
       "      <td>NaN</td>\n",
       "      <td>http://www.forbes.com/profile/david-chow-1/</td>\n",
       "      <td>http://www.macaulegend.com/html/about_mileston...</td>\n",
       "      <td>Macau Legend to roll the dice on HK IPO; But l...</td>\n",
       "      <td>NaN</td>\n",
       "    </tr>\n",
       "    <tr>\n",
       "      <th>702</th>\n",
       "      <td>2014</td>\n",
       "      <td>Feng Hailiang</td>\n",
       "      <td>1565</td>\n",
       "      <td>China</td>\n",
       "      <td>CHN</td>\n",
       "      <td>1.0</td>\n",
       "      <td>self-made</td>\n",
       "      <td>founder non-finance</td>\n",
       "      <td>male</td>\n",
       "      <td>53.0</td>\n",
       "      <td>...</td>\n",
       "      <td>founder</td>\n",
       "      <td>1989.0</td>\n",
       "      <td>NaN</td>\n",
       "      <td>copper processing &amp; real estate</td>\n",
       "      <td>NaN</td>\n",
       "      <td>NaN</td>\n",
       "      <td>http://www.forbes.com/profile/feng-hailiang/</td>\n",
       "      <td>http://www.hailiang.com/en/about_int.php</td>\n",
       "      <td>NaN</td>\n",
       "      <td>NaN</td>\n",
       "    </tr>\n",
       "  </tbody>\n",
       "</table>\n",
       "<p>10 rows × 30 columns</p>\n",
       "</div>"
      ],
      "text/plain": [
       "      year               name  rank    citizenship countrycode  \\\n",
       "234   2014        B.R. Shetty  1565          India         IND   \n",
       "2092  2014       Rostam Azizi  1565       Tanzania         TZA   \n",
       "2401  2014         Tory Burch  1565  United States         USA   \n",
       "734   2014         Fred Chang  1565  United States         USA   \n",
       "171   2014     Angela Bennett  1565      Australia         AUS   \n",
       "748   2014            Fu Kwan  1565          China         CHN   \n",
       "2107  2014     Ryan Kavanaugh  1565  United States         USA   \n",
       "1783  2014  O. Francis Biondi  1565  United States         USA   \n",
       "1371  2014       Lam Fong Ngo  1565          Macau         MAC   \n",
       "702   2014      Feng Hailiang  1565          China         CHN   \n",
       "\n",
       "      networthusbillion   selfmade         typeofwealth  gender   age  \\\n",
       "234                 1.0  self-made  founder non-finance    male  72.0   \n",
       "2092                1.0  self-made            executive    male  49.0   \n",
       "2401                1.0  self-made  founder non-finance  female  47.0   \n",
       "734                 1.0  self-made  founder non-finance    male  57.0   \n",
       "171                 1.0  inherited            inherited  female  69.0   \n",
       "748                 1.0  self-made    self-made finance    male  56.0   \n",
       "2107                1.0  self-made  founder non-finance    male  39.0   \n",
       "1783                1.0  self-made    self-made finance    male  49.0   \n",
       "1371                1.0  self-made    self-made finance  female   NaN   \n",
       "702                 1.0  self-made  founder non-finance    male  53.0   \n",
       "\n",
       "       ...    relationshiptocompany foundingdate gdpcurrentus  \\\n",
       "234    ...                  founder       1975.0          NaN   \n",
       "2092   ...                 investor       1999.0          NaN   \n",
       "2401   ...                  founder       2004.0          NaN   \n",
       "734    ...                  founder       2001.0          NaN   \n",
       "171    ...                 relation       1955.0          NaN   \n",
       "748    ...                 chairman       1990.0          NaN   \n",
       "2107   ...                  founder       2004.0          NaN   \n",
       "1783   ...                  founder       1995.0          NaN   \n",
       "1371   ...            Vice Chairman       1997.0          NaN   \n",
       "702    ...                  founder       1989.0          NaN   \n",
       "\n",
       "                       sourceofwealth                  notes  \\\n",
       "234                        healthcare                    NaN   \n",
       "2092             telecom, investments                    NaN   \n",
       "2401                          fashion                    NaN   \n",
       "734                  online retailing                    NaN   \n",
       "171                            mining  inherited from father   \n",
       "748                       diversified                    NaN   \n",
       "2107                           Movies                    NaN   \n",
       "1783                       hedge fund                    NaN   \n",
       "1371                          casinos                    NaN   \n",
       "702   copper processing & real estate                    NaN   \n",
       "\n",
       "                           notes2  \\\n",
       "234                           NaN   \n",
       "2092                          NaN   \n",
       "2401                          NaN   \n",
       "734                           NaN   \n",
       "171   shared fortune with brother   \n",
       "748                           NaN   \n",
       "2107                          NaN   \n",
       "1783                          NaN   \n",
       "1371                          NaN   \n",
       "702                           NaN   \n",
       "\n",
       "                                                 source  \\\n",
       "234           http://en.wikipedia.org/wiki/B._R._Shetty   \n",
       "2092        http://www.forbes.com/profile/rostam-azizi/   \n",
       "2401  http://en.wikipedia.org/wiki/J._Christopher_Burch   \n",
       "734                 http://en.wikipedia.org/wiki/Newegg   \n",
       "171       http://www.forbes.com/profile/angela-bennett/   \n",
       "748              http://www.forbes.com/profile/fu-kwan/   \n",
       "2107        http://en.wikipedia.org/wiki/Ryan_Kavanaugh   \n",
       "1783    http://www.forbes.com/profile/o-francis-biondi/   \n",
       "1371        http://www.forbes.com/profile/david-chow-1/   \n",
       "702        http://www.forbes.com/profile/feng-hailiang/   \n",
       "\n",
       "                                               source_2  \\\n",
       "234              http://www.nmchealth.com/dr-br-shetty/   \n",
       "2092      http://en.wikipedia.org/wiki/Vodacom_Tanzania   \n",
       "2401  http://www.vanityfair.com/news/2007/02/tory-bu...   \n",
       "734           http://www.newegg.com/Info/FactSheet.aspx   \n",
       "171                                                 NaN   \n",
       "748        http://www.macrolink.com.cn/en/AboutBig.aspx   \n",
       "2107      http://en.wikipedia.org/wiki/Relativity_Media   \n",
       "1783  http://www.forbes.com/sites/nathanvardi/2014/0...   \n",
       "1371  http://www.macaulegend.com/html/about_mileston...   \n",
       "702            http://www.hailiang.com/en/about_int.php   \n",
       "\n",
       "                                               source_3 source_4  \n",
       "234                                                 NaN      NaN  \n",
       "2092  http://www.thecitizen.co.tz/News/Rostam--Dewji...      NaN  \n",
       "2401                                                NaN      NaN  \n",
       "734   http://www.forbes.com/sites/andreanavarro/2014...      NaN  \n",
       "171                                                 NaN      NaN  \n",
       "748                                                 NaN      NaN  \n",
       "2107  http://www.vanityfair.com/news/2010/03/kavanau...      NaN  \n",
       "1783                                                NaN      NaN  \n",
       "1371  Macau Legend to roll the dice on HK IPO; But l...      NaN  \n",
       "702                                                 NaN      NaN  \n",
       "\n",
       "[10 rows x 30 columns]"
      ]
     },
     "execution_count": 72,
     "metadata": {},
     "output_type": "execute_result"
    }
   ],
   "source": [
    "recent.sort_values('networthusbillion').head(10)"
   ]
  },
  {
   "cell_type": "code",
   "execution_count": null,
   "metadata": {
    "collapsed": true
   },
   "outputs": [],
   "source": [
    "'What is relationship to company'?\n",
    " And what are the most common relationships?"
   ]
  },
  {
   "cell_type": "code",
   "execution_count": 76,
   "metadata": {
    "collapsed": false
   },
   "outputs": [
    {
     "data": {
      "text/plain": [
       "founder                                 1214\n",
       "relation                                 945\n",
       "owner                                     94\n",
       "chairman                                  76\n",
       "investor                                  36\n",
       "Chairman and Chief Executive Officer      29\n",
       "CEO                                       16\n",
       "president                                 13\n",
       "ceo                                        9\n",
       "former CEO                                 8\n",
       "Name: relationshiptocompany, dtype: int64"
      ]
     },
     "execution_count": 76,
     "metadata": {},
     "output_type": "execute_result"
    }
   ],
   "source": [
    "#top 10 most common relationships to company\n",
    "df['relationshiptocompany'].value_counts().head(10)"
   ]
  },
  {
   "cell_type": "code",
   "execution_count": null,
   "metadata": {
    "collapsed": true
   },
   "outputs": [],
   "source": [
    "Most common source of wealth? Male vs. female?"
   ]
  },
  {
   "cell_type": "code",
   "execution_count": 83,
   "metadata": {
    "collapsed": false
   },
   "outputs": [
    {
     "name": "stdout",
     "output_type": "stream",
     "text": [
      "The most common source of wealth is real estate    107\n",
      "Name: sourceofwealth, dtype: int64\n",
      "The most common source of wealth for males is real estate    100\n",
      "Name: sourceofwealth, dtype: int64\n",
      "The most common source of wealth for females is diversified    9\n",
      "Name: sourceofwealth, dtype: int64\n"
     ]
    }
   ],
   "source": [
    "print(\"The most common source of wealth is\", df['sourceofwealth'].value_counts().head(1))\n",
    "print(\"The most common source of wealth for males is\", male['sourceofwealth'].value_counts().head(1))\n",
    "print(\"The most common source of wealth for females is\", female['sourceofwealth'].value_counts().head(1))"
   ]
  },
  {
   "cell_type": "markdown",
   "metadata": {},
   "source": [
    "Given the richest person in a country, what % of the GDP is their wealth?"
   ]
  },
  {
   "cell_type": "markdown",
   "metadata": {},
   "source": [
    "Add up the wealth of all of the billionaires in a given country (or a few countries) and then compare it to the GDP of the country, or other billionaires, so like pit the US vs India\n",
    "What are the most common industries for billionaires to come from? What's the total amount of billionaire money from each industry?"
   ]
  },
  {
   "cell_type": "markdown",
   "metadata": {},
   "source": [
    "How many self made billionaires vs. others?"
   ]
  },
  {
   "cell_type": "code",
   "execution_count": 86,
   "metadata": {
    "collapsed": false
   },
   "outputs": [
    {
     "data": {
      "text/plain": [
       "True     1146\n",
       "False     507\n",
       "Name: selfmade, dtype: int64"
      ]
     },
     "execution_count": 86,
     "metadata": {},
     "output_type": "execute_result"
    }
   ],
   "source": [
    "(recent['selfmade'] == 'self-made').value_counts()"
   ]
  },
  {
   "cell_type": "markdown",
   "metadata": {},
   "source": [
    "How old are billionaires? How old are billionaires self made vs. non self made? or different industries?\n",
    "Who are the youngest billionaires? The oldest? Age distribution - maybe make a graph about it?\n",
    "Maybe just made a graph about how wealthy they are in general?"
   ]
  },
  {
   "cell_type": "markdown",
   "metadata": {},
   "source": [
    "Maybe plot their net worth vs age (scatterplot)\n",
    "Make a bar graph of the top 10 or 20 richest"
   ]
  }
 ],
 "metadata": {
  "kernelspec": {
   "display_name": "Python 3",
   "language": "python",
   "name": "python3"
  },
  "language_info": {
   "codemirror_mode": {
    "name": "ipython",
    "version": 3
   },
   "file_extension": ".py",
   "mimetype": "text/x-python",
   "name": "python",
   "nbconvert_exporter": "python",
   "pygments_lexer": "ipython3",
   "version": "3.5.1"
  }
 },
 "nbformat": 4,
 "nbformat_minor": 0
}
