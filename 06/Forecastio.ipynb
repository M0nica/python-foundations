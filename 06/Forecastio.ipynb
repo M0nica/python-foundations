{
 "cells": [
  {
   "cell_type": "markdown",
   "metadata": {},
   "source": [
    "\n",
    "HOMEWORK 06\n",
    "\n",
    "You'll be using the Dark Sky Forecast API from Forecast.io, available at https://developer.forecast.io. It's a pretty simple API, but be sure to read the documentation!\n"
   ]
  },
  {
   "cell_type": "markdown",
   "metadata": {},
   "source": [
    "1) Make a request from the Forecast.io API for where you were born (or lived, or want to visit!).\n",
    "Tip: Once you've imported the JSON into a variable, check the timezone's name to make sure it seems like it got the right part of the world! Tip 2: How is north vs. south and east vs. west latitude/longitude represented? Is it the normal North/South/East/West?"
   ]
  },
  {
   "cell_type": "code",
   "execution_count": 3,
   "metadata": {
    "collapsed": false
   },
   "outputs": [],
   "source": [
    "import config\n",
    "import requests\n",
    "\n",
    "weather_key = config.weather_key\n",
    "\n",
    "# api key  - latitude, longitude, time (epoch)\n",
    "#without time parameter\n",
    "response = requests.get('https://api.forecast.io/forecast/' + weather_key + '/39.0068,76.7791')\n",
    "#on my birthdate - time parameter \n",
    "#response = requests.get('https://api.forecast.io/forecast/' + weather_key + '/39.0068,76.7791,765407717')\n",
    "data = response.json()\n",
    "# print(data)"
   ]
  },
  {
   "cell_type": "markdown",
   "metadata": {
    "collapsed": true
   },
   "source": [
    "\n",
    "\n",
    "2) What's the current wind speed? How much warmer does it feel than it actually is?\n",
    "\n"
   ]
  },
  {
   "cell_type": "code",
   "execution_count": 4,
   "metadata": {
    "collapsed": false
   },
   "outputs": [
    {
     "name": "stdout",
     "output_type": "stream",
     "text": [
      "{'ozone': 273.72, 'pressure': 1004.14, 'humidity': 0.22, 'cloudCover': 0.02, 'precipIntensity': 0, 'windBearing': 317, 'precipProbability': 0, 'dewPoint': 45.04, 'time': 1465823489, 'apparentTemperature': 84.91, 'icon': 'clear-day', 'summary': 'Clear', 'windSpeed': 8.46, 'temperature': 88.21}\n",
      "The current wind speed is 8.46 and it feels -3.299999999999997 degrees warmer than it is.\n"
     ]
    }
   ],
   "source": [
    "response = requests.get('https://api.forecast.io/forecast/' + weather_key + '/39.0068,76.7791')\n",
    "data = response.json()\n",
    "\n",
    "# the current date's weath\n",
    "print(data['currently'])\n",
    "\n",
    "print(\"The current wind speed is\", data['currently']['windSpeed'], \"and it feels\", data['currently']['apparentTemperature']-data['currently']['temperature'], \"degrees warmer than it is.\")"
   ]
  },
  {
   "cell_type": "markdown",
   "metadata": {},
   "source": [
    "3) The first daily forecast is the forecast for today. For the place you decided on up above, how much of the moon is currently visible?"
   ]
  },
  {
   "cell_type": "code",
   "execution_count": 5,
   "metadata": {
    "collapsed": false
   },
   "outputs": [
    {
     "name": "stdout",
     "output_type": "stream",
     "text": [
      "Currently 0.28 of the moon is showing.\n"
     ]
    }
   ],
   "source": [
    "# the moon is not currently printing \n",
    "print(\"Currently\", data['daily']['data'][0]['moonPhase'], \"of the moon is showing.\")\n"
   ]
  },
  {
   "cell_type": "markdown",
   "metadata": {},
   "source": [
    "\n",
    "4) What's the difference between the high and low temperatures for today?\n"
   ]
  },
  {
   "cell_type": "code",
   "execution_count": 6,
   "metadata": {
    "collapsed": false
   },
   "outputs": [
    {
     "name": "stdout",
     "output_type": "stream",
     "text": [
      "There is a  15.019999999999996 degree difference between the high and low temperatures for today.\n"
     ]
    }
   ],
   "source": [
    "print(\"There is a \", data['daily']['data'][0]['temperatureMax'] - data['daily']['data'][0]['temperatureMin'], \"degree difference between the high and low temperatures for today.\")"
   ]
  },
  {
   "cell_type": "markdown",
   "metadata": {},
   "source": [
    "5) Loop through the daily forecast, printing out the next week's worth of predictions. I'd like to know the high temperature for each day, and whether it's hot, warm, or cold, based on what temperatures you think are hot, warm or cold.\n"
   ]
  },
  {
   "cell_type": "code",
   "execution_count": 7,
   "metadata": {
    "collapsed": false
   },
   "outputs": [
    {
     "name": "stdout",
     "output_type": "stream",
     "text": [
      "2016-06-13 07:00:00 will be a warm day of 89.07 degrees\n",
      "2016-06-14 08:00:00 will be a hot day of 97.97 degrees\n",
      "2016-06-15 08:00:00 will be a hot day of 99.09 degrees\n",
      "2016-06-16 07:00:00 will be a hot day of 101.33 degrees\n",
      "2016-06-17 08:00:00 will be a hot day of 97.98 degrees\n",
      "2016-06-18 08:00:00 will be a hot day of 95.58 degrees\n",
      "2016-06-19 08:00:00 will be a warm day of 92.77 degrees\n",
      "2016-06-20 08:00:00 will be a warm day of 94.71 degrees\n"
     ]
    }
   ],
   "source": [
    "dailies = data['daily']['data']\n",
    "import time\n",
    "\n",
    "for day in dailies:\n",
    "    \n",
    "    date = time.strftime('%Y-%m-%d %H:%M:%S', time.localtime(day['temperatureMaxTime']))\n",
    "  \n",
    "    if(day['temperatureMax']) > 95:\n",
    "        \n",
    "        print(date, \"will be a hot day of\",day['temperatureMax'], \"degrees\" )\n",
    "    else:\n",
    "        print(date, \"will be a warm day of\", day['temperatureMax'], \"degrees\")\n",
    "        \n",
    "#print(dailies)"
   ]
  },
  {
   "cell_type": "markdown",
   "metadata": {},
   "source": [
    "\n",
    "6) What's the weather looking like for the rest of today in Miami, Florida? I'd like to know the temperature for every hour, and if it's going to have cloud cover of more than 0.5 say \"{temperature} and cloudy\" instead of just the temperature."
   ]
  },
  {
   "cell_type": "code",
   "execution_count": 8,
   "metadata": {
    "collapsed": false
   },
   "outputs": [
    {
     "name": "stdout",
     "output_type": "stream",
     "text": [
      "In the next 1 hour it will be 109.05 in Miami, Florida\n",
      "In the next 2 hour it will be 107.38 in Miami, Florida\n",
      "In the next 3 hour it will be 105.56 in Miami, Florida\n",
      "In the next 4 hour it will be 103.91 in Miami, Florida\n",
      "In the next 5 hour it will be 102.59 in Miami, Florida\n",
      "In the next 6 hour it will be 101.46 in Miami, Florida\n",
      "In the next 7 hour it will be 100.21 in Miami, Florida\n",
      "In the next 8 hour it will be 98.66 in Miami, Florida\n",
      "In the next 9 hour it will be 97.09 in Miami, Florida\n",
      "In the next 10 hour it will be 95.76 in Miami, Florida\n",
      "In the next 11 hour it will be 94.46 in Miami, Florida\n"
     ]
    }
   ],
   "source": [
    "response = requests.get('https://api.forecast.io/forecast/' + weather_key + '/25.7617,80.1918')\n",
    "data = response.json()\n",
    "#print(data.keys())\n",
    "#print(data['hourly'])\n",
    "\n",
    "\n",
    "\n",
    "current_hour = 1\n",
    "\n",
    "#print(data['hourly']['data'])\n",
    "for hour in data['hourly']['data']:\n",
    "    # need to make it so that this only looks at the rest of today\n",
    "    if current_hour < 12:\n",
    "        print(\"In the next\", current_hour, \"hour it will be\", hour['apparentTemperature'], \"in Miami, Florida\")\n",
    "    \n",
    "    current_hour = current_hour + 1\n",
    "    "
   ]
  },
  {
   "cell_type": "code",
   "execution_count": null,
   "metadata": {
    "collapsed": true
   },
   "outputs": [],
   "source": [
    "7) What was the temperature in Central Park on Christmas Day, 1980? How about 1990? 2000?\n",
    "\n",
    "Tip: You'll need to use UNIX time, which is the number of seconds since January 1, 1970. Google can help you convert a normal date!\n",
    "Tip: You'll want to use Forecast.io's \"time machine\" API at https://developer.forecast.io/docs/v2"
   ]
  },
  {
   "cell_type": "code",
   "execution_count": 36,
   "metadata": {
    "collapsed": false
   },
   "outputs": [
    {
     "name": "stdout",
     "output_type": "stream",
     "text": [
      "It was 21.0 degrees on Christmas in 1980\n",
      "It was 9.860000000000003 degrees on Christmas in 1990\n",
      "It was 17.2 degrees on Christmas in 2000\n"
     ]
    }
   ],
   "source": [
    "central_park_lat = str(40.7829)\n",
    "central_park_long = str(73.9654)\n",
    "\n",
    "# 12/25/1980 @ 12:00am (UTC)\n",
    "#unix_xmas = str(346550400)  \n",
    "\n",
    "#12/25/1990\n",
    "#662083200\n",
    "\n",
    "# 12/25/2000\n",
    "#977702400\n",
    "\n",
    "   \n",
    "\n",
    "#start year = 1980\n",
    "year = 1980\n",
    "\n",
    "# unix conversion of chrimas for 1980, 1990 and 2000.\n",
    "#http://www.unixtimestamp.com/index.php website used to convert dates\n",
    "\n",
    "for xmas in [346550400, 662083200, 977702400]:\n",
    "    unix_xmas = str(xmas)\n",
    "    \n",
    "    response = requests.get('https://api.forecast.io/forecast/' + weather_key + '/'+ central_park_lat + ',' + central_park_long + ',' + unix_xmas)\n",
    "    response = response.json()\n",
    "    daily_data = response['daily']['data']\n",
    "    # print(daily_data)\n",
    "\n",
    "    \n",
    "    for day in daily_data:\n",
    "        print(\"It was an average of\", day['temperatureMax'] - day['temperatureMin'], \"degrees on Christmas in\", year)\n",
    "        year = year + 10\n",
    "\n",
    "\n",
    "\n",
    "\n",
    "#print(response['apparentTemperatureMax'])"
   ]
  },
  {
   "cell_type": "code",
   "execution_count": null,
   "metadata": {
    "collapsed": true
   },
   "outputs": [],
   "source": []
  }
 ],
 "metadata": {
  "kernelspec": {
   "display_name": "Python 3",
   "language": "python",
   "name": "python3"
  },
  "language_info": {
   "codemirror_mode": {
    "name": "ipython",
    "version": 3
   },
   "file_extension": ".py",
   "mimetype": "text/x-python",
   "name": "python",
   "nbconvert_exporter": "python",
   "pygments_lexer": "ipython3",
   "version": "3.5.1"
  }
 },
 "nbformat": 4,
 "nbformat_minor": 0
}
