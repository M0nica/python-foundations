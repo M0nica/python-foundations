{
 "cells": [
  {
   "cell_type": "markdown",
   "metadata": {},
   "source": [
    "Note: you can find my iPython Notebook for Dataset 1 here -> https://github.com/M0nica/2016-new-coder-survey"
   ]
  },
  {
   "cell_type": "code",
   "execution_count": 1,
   "metadata": {
    "collapsed": false
   },
   "outputs": [
    {
     "name": "stderr",
     "output_type": "stream",
     "text": [
      "/Users/Monica/.virtualenvs/dataanalysis/lib/python3.5/site-packages/matplotlib/__init__.py:1035: UserWarning: Duplicate key in file \"/Users/Monica/.matplotlib/matplotlibrc\", line #2\n",
      "  (fname, cnt))\n"
     ]
    }
   ],
   "source": [
    "# workon dataanalysis - my virtual environment\n",
    "import pandas as pd\n",
    "import matplotlib.pyplot as plt\n",
    "%matplotlib inline"
   ]
  },
  {
   "cell_type": "code",
   "execution_count": 2,
   "metadata": {
    "collapsed": false
   },
   "outputs": [],
   "source": [
    "# df = pd.read_table('34933-0001-Data.tsv')\n",
    "odf = pd.read_csv('accreditation_2016_03.csv')"
   ]
  },
  {
   "cell_type": "code",
   "execution_count": 3,
   "metadata": {
    "collapsed": false
   },
   "outputs": [
    {
     "data": {
      "text/html": [
       "<div>\n",
       "<table border=\"1\" class=\"dataframe\">\n",
       "  <thead>\n",
       "    <tr style=\"text-align: right;\">\n",
       "      <th></th>\n",
       "      <th>Institution_ID</th>\n",
       "      <th>Institution_Name</th>\n",
       "      <th>Institution_Address</th>\n",
       "      <th>Institution_City</th>\n",
       "      <th>Institution_State</th>\n",
       "      <th>Institution_Zip</th>\n",
       "      <th>Institution_Phone</th>\n",
       "      <th>Institution_OPEID</th>\n",
       "      <th>Institution_IPEDS_UnitID</th>\n",
       "      <th>Institution_Web_Address</th>\n",
       "      <th>...</th>\n",
       "      <th>Campus_Zip</th>\n",
       "      <th>Campus_IPEDS_UnitID</th>\n",
       "      <th>Accreditation_Type</th>\n",
       "      <th>Agency_Name</th>\n",
       "      <th>Agency_Status</th>\n",
       "      <th>Program_Name</th>\n",
       "      <th>Accreditation_Status</th>\n",
       "      <th>Accreditation_Date_Type</th>\n",
       "      <th>Periods</th>\n",
       "      <th>Last Action</th>\n",
       "    </tr>\n",
       "  </thead>\n",
       "  <tbody>\n",
       "    <tr>\n",
       "      <th>0</th>\n",
       "      <td>100016</td>\n",
       "      <td>Community College of the Air Force</td>\n",
       "      <td>130 W Maxwell Blvd</td>\n",
       "      <td>Montgomery</td>\n",
       "      <td>AL</td>\n",
       "      <td>\"36112-6613\"</td>\n",
       "      <td>334-953-6436</td>\n",
       "      <td>\"01230800\"</td>\n",
       "      <td>100636.0</td>\n",
       "      <td>www.maxwell.af.mil/au/ccaf/</td>\n",
       "      <td>...</td>\n",
       "      <td>\"76311-2263\"</td>\n",
       "      <td>NaN</td>\n",
       "      <td>Specialized</td>\n",
       "      <td>American Physical Therapy Association, Commiss...</td>\n",
       "      <td>NaN</td>\n",
       "      <td>Physical Therapy (PTA) - Programs for the phys...</td>\n",
       "      <td>Accredited</td>\n",
       "      <td>Actual</td>\n",
       "      <td>12/01/1976 - Current</td>\n",
       "      <td>NaN</td>\n",
       "    </tr>\n",
       "    <tr>\n",
       "      <th>1</th>\n",
       "      <td>100016</td>\n",
       "      <td>Community College of the Air Force</td>\n",
       "      <td>130 W Maxwell Blvd</td>\n",
       "      <td>Montgomery</td>\n",
       "      <td>AL</td>\n",
       "      <td>\"36112-6613\"</td>\n",
       "      <td>334-953-6436</td>\n",
       "      <td>\"01230800\"</td>\n",
       "      <td>100636.0</td>\n",
       "      <td>www.maxwell.af.mil/au/ccaf/</td>\n",
       "      <td>...</td>\n",
       "      <td>NaN</td>\n",
       "      <td>NaN</td>\n",
       "      <td>Institutional</td>\n",
       "      <td>Southern Association of Colleges and Schools, ...</td>\n",
       "      <td>NaN</td>\n",
       "      <td>NaN</td>\n",
       "      <td>Accredited</td>\n",
       "      <td>Estimated</td>\n",
       "      <td>07/01/1980 - Current</td>\n",
       "      <td>NaN</td>\n",
       "    </tr>\n",
       "    <tr>\n",
       "      <th>2</th>\n",
       "      <td>100025</td>\n",
       "      <td>Alabama A &amp; M University</td>\n",
       "      <td>4900 Meridian St</td>\n",
       "      <td>Normal</td>\n",
       "      <td>AL</td>\n",
       "      <td>\"35762\"</td>\n",
       "      <td>256-372-5000</td>\n",
       "      <td>\"00100200\"</td>\n",
       "      <td>100654.0</td>\n",
       "      <td>www.aamu.edu/</td>\n",
       "      <td>...</td>\n",
       "      <td>NaN</td>\n",
       "      <td>NaN</td>\n",
       "      <td>Institutional</td>\n",
       "      <td>Southern Association of Colleges and Schools, ...</td>\n",
       "      <td>NaN</td>\n",
       "      <td>NaN</td>\n",
       "      <td>Accredited</td>\n",
       "      <td>Estimated</td>\n",
       "      <td>07/01/1963 - Current</td>\n",
       "      <td>NaN</td>\n",
       "    </tr>\n",
       "    <tr>\n",
       "      <th>3</th>\n",
       "      <td>100025</td>\n",
       "      <td>Alabama A &amp; M University</td>\n",
       "      <td>4900 Meridian St</td>\n",
       "      <td>Normal</td>\n",
       "      <td>AL</td>\n",
       "      <td>\"35762\"</td>\n",
       "      <td>256-372-5000</td>\n",
       "      <td>\"00100200\"</td>\n",
       "      <td>100654.0</td>\n",
       "      <td>www.aamu.edu/</td>\n",
       "      <td>...</td>\n",
       "      <td>NaN</td>\n",
       "      <td>NaN</td>\n",
       "      <td>Specialized</td>\n",
       "      <td>Academy of Nutrition and Dietetics, Accreditat...</td>\n",
       "      <td>NaN</td>\n",
       "      <td>Didactic Program in Dietetics</td>\n",
       "      <td>Accredited</td>\n",
       "      <td>Actual</td>\n",
       "      <td>12/01/1979 - Current</td>\n",
       "      <td>Probation</td>\n",
       "    </tr>\n",
       "    <tr>\n",
       "      <th>4</th>\n",
       "      <td>100025</td>\n",
       "      <td>Alabama A &amp; M University</td>\n",
       "      <td>4900 Meridian St</td>\n",
       "      <td>Normal</td>\n",
       "      <td>AL</td>\n",
       "      <td>\"35762\"</td>\n",
       "      <td>256-372-5000</td>\n",
       "      <td>\"00100200\"</td>\n",
       "      <td>100654.0</td>\n",
       "      <td>www.aamu.edu/</td>\n",
       "      <td>...</td>\n",
       "      <td>NaN</td>\n",
       "      <td>NaN</td>\n",
       "      <td>Specialized</td>\n",
       "      <td>American Speech-Language-Hearing Association, ...</td>\n",
       "      <td>NaN</td>\n",
       "      <td>Speech-Language Pathology (SLP) - Graduate deg...</td>\n",
       "      <td>Accredited</td>\n",
       "      <td>Actual</td>\n",
       "      <td>10/01/1994 - Current</td>\n",
       "      <td>NaN</td>\n",
       "    </tr>\n",
       "  </tbody>\n",
       "</table>\n",
       "<p>5 rows × 25 columns</p>\n",
       "</div>"
      ],
      "text/plain": [
       "   Institution_ID                    Institution_Name Institution_Address  \\\n",
       "0          100016  Community College of the Air Force  130 W Maxwell Blvd   \n",
       "1          100016  Community College of the Air Force  130 W Maxwell Blvd   \n",
       "2          100025            Alabama A & M University    4900 Meridian St   \n",
       "3          100025            Alabama A & M University    4900 Meridian St   \n",
       "4          100025            Alabama A & M University    4900 Meridian St   \n",
       "\n",
       "  Institution_City Institution_State Institution_Zip Institution_Phone  \\\n",
       "0       Montgomery                AL    \"36112-6613\"      334-953-6436   \n",
       "1       Montgomery                AL    \"36112-6613\"      334-953-6436   \n",
       "2           Normal                AL         \"35762\"      256-372-5000   \n",
       "3           Normal                AL         \"35762\"      256-372-5000   \n",
       "4           Normal                AL         \"35762\"      256-372-5000   \n",
       "\n",
       "  Institution_OPEID  Institution_IPEDS_UnitID      Institution_Web_Address  \\\n",
       "0        \"01230800\"                  100636.0  www.maxwell.af.mil/au/ccaf/   \n",
       "1        \"01230800\"                  100636.0  www.maxwell.af.mil/au/ccaf/   \n",
       "2        \"00100200\"                  100654.0                www.aamu.edu/   \n",
       "3        \"00100200\"                  100654.0                www.aamu.edu/   \n",
       "4        \"00100200\"                  100654.0                www.aamu.edu/   \n",
       "\n",
       "      ...        Campus_Zip Campus_IPEDS_UnitID Accreditation_Type  \\\n",
       "0     ...      \"76311-2263\"                 NaN        Specialized   \n",
       "1     ...               NaN                 NaN      Institutional   \n",
       "2     ...               NaN                 NaN      Institutional   \n",
       "3     ...               NaN                 NaN        Specialized   \n",
       "4     ...               NaN                 NaN        Specialized   \n",
       "\n",
       "                                         Agency_Name Agency_Status  \\\n",
       "0  American Physical Therapy Association, Commiss...           NaN   \n",
       "1  Southern Association of Colleges and Schools, ...           NaN   \n",
       "2  Southern Association of Colleges and Schools, ...           NaN   \n",
       "3  Academy of Nutrition and Dietetics, Accreditat...           NaN   \n",
       "4  American Speech-Language-Hearing Association, ...           NaN   \n",
       "\n",
       "                                        Program_Name  Accreditation_Status  \\\n",
       "0  Physical Therapy (PTA) - Programs for the phys...            Accredited   \n",
       "1                                                NaN            Accredited   \n",
       "2                                                NaN            Accredited   \n",
       "3                      Didactic Program in Dietetics            Accredited   \n",
       "4  Speech-Language Pathology (SLP) - Graduate deg...            Accredited   \n",
       "\n",
       "  Accreditation_Date_Type               Periods Last Action  \n",
       "0                  Actual  12/01/1976 - Current         NaN  \n",
       "1               Estimated  07/01/1980 - Current         NaN  \n",
       "2               Estimated  07/01/1963 - Current         NaN  \n",
       "3                  Actual  12/01/1979 - Current   Probation  \n",
       "4                  Actual  10/01/1994 - Current         NaN  \n",
       "\n",
       "[5 rows x 25 columns]"
      ]
     },
     "execution_count": 3,
     "metadata": {},
     "output_type": "execute_result"
    }
   ],
   "source": [
    "odf.head()"
   ]
  },
  {
   "cell_type": "code",
   "execution_count": 12,
   "metadata": {
    "collapsed": false
   },
   "outputs": [
    {
     "data": {
      "text/plain": [
       "Index(['Institution_ID', 'Institution_Name', 'Institution_Address',\n",
       "       'Institution_City', 'Institution_State', 'Institution_Zip',\n",
       "       'Institution_Phone', 'Institution_OPEID', 'Institution_IPEDS_UnitID',\n",
       "       'Institution_Web_Address', 'Campus_ID', 'Campus_Name', 'Campus_Address',\n",
       "       'Campus_City', 'Campus_State', 'Campus_Zip', 'Campus_IPEDS_UnitID',\n",
       "       'Accreditation_Type', 'Agency_Name', 'Agency_Status', 'Program_Name',\n",
       "       'Accreditation_Status', 'Accreditation_Date_Type', 'Periods',\n",
       "       'Last Action'],\n",
       "      dtype='object')"
      ]
     },
     "execution_count": 12,
     "metadata": {},
     "output_type": "execute_result"
    }
   ],
   "source": [
    "odf.columns"
   ]
  },
  {
   "cell_type": "code",
   "execution_count": 13,
   "metadata": {
    "collapsed": false
   },
   "outputs": [
    {
     "data": {
      "text/plain": [
       "Chicago         283\n",
       "Philadelphia    167\n",
       "Phoenix         156\n",
       "Indianapolis    134\n",
       "Houston         123\n",
       "New York        105\n",
       "Kansas City      95\n",
       "Columbus         95\n",
       "Springfield      93\n",
       "Miami            92\n",
       "Name: Campus_City, dtype: int64"
      ]
     },
     "execution_count": 13,
     "metadata": {},
     "output_type": "execute_result"
    }
   ],
   "source": [
    "odf['Campus_City'].value_counts().head(10)"
   ]
  },
  {
   "cell_type": "code",
   "execution_count": 14,
   "metadata": {
    "collapsed": false
   },
   "outputs": [
    {
     "data": {
      "image/png": "[encoded data removed]",
      "text/plain": [
       "<matplotlib.figure.Figure at 0x10e30d7f0>"
      ]
     },
     "metadata": {},
     "output_type": "display_data"
    }
   ],
   "source": [
    "top_cities = odf['Campus_City'].value_counts().head(10).plot(kind=\"bar\", color = ['#624ea7', '#599ad3', '#f9a65a', '#9e66ab', 'purple'])\n",
    "top_cities.set_title('Top 10 College Cities (By Number of Colleges in State)')\n",
    "top_cities.set_xlabel('City')\n",
    "top_cities.set_ylabel('# of Colleges')\n",
    "plt.savefig('topcollegecities.png')"
   ]
  },
  {
   "cell_type": "code",
   "execution_count": 15,
   "metadata": {
    "collapsed": false
   },
   "outputs": [
    {
     "data": {
      "image/png": "[encoded data removed]",
      "text/plain": [
       "<matplotlib.figure.Figure at 0x10e30d128>"
      ]
     },
     "metadata": {},
     "output_type": "display_data"
    }
   ],
   "source": [
    "top_cities = odf['Campus_State'].value_counts().head(10).plot(kind=\"bar\", color = ['#624ea7', '#599ad3', '#f9a65a', '#9e66ab', 'purple'])\n",
    "top_cities.set_title('Top 10 College States (By Number of Campuses in State)')\n",
    "top_cities.set_xlabel('City')\n",
    "top_cities.set_ylabel('# of Colleges')\n",
    "plt.savefig('topcollegecities.png')"
   ]
  },
  {
   "cell_type": "code",
   "execution_count": 16,
   "metadata": {
    "collapsed": false
   },
   "outputs": [
    {
     "data": {
      "text/plain": [
       "Accredited        38695\n",
       "Pre-Accredited     1302\n",
       "Name: Accreditation_Status, dtype: int64"
      ]
     },
     "execution_count": 16,
     "metadata": {},
     "output_type": "execute_result"
    }
   ],
   "source": [
    "odf['Accreditation_Status'].value_counts()"
   ]
  },
  {
   "cell_type": "code",
   "execution_count": 4,
   "metadata": {
    "collapsed": false
   },
   "outputs": [
    {
     "name": "stderr",
     "output_type": "stream",
     "text": [
      "/Users/Monica/.virtualenvs/dataanalysis/lib/python3.5/site-packages/IPython/core/interactiveshell.py:2723: DtypeWarning: Columns (5,108,121,196,197,198) have mixed types. Specify dtype option on import or set low_memory=False.\n",
      "  interactivity=interactivity, compiler=compiler, result=result)\n"
     ]
    }
   ],
   "source": [
    "df = pd.read_csv('Full Results - Stack Overflow Developer Survey - 2015 2.csv', encoding ='mac_roman')"
   ]
  },
  {
   "cell_type": "code",
   "execution_count": 26,
   "metadata": {
    "collapsed": false
   },
   "outputs": [
    {
     "data": {
      "text/html": [
       "<div>\n",
       "<table border=\"1\" class=\"dataframe\">\n",
       "  <thead>\n",
       "    <tr style=\"text-align: right;\">\n",
       "      <th></th>\n",
       "      <th>Country</th>\n",
       "      <th>Age</th>\n",
       "      <th>Gender</th>\n",
       "      <th>Tabs or Spaces</th>\n",
       "      <th>Years IT / Programming Experience</th>\n",
       "      <th>Occupation</th>\n",
       "      <th>Desktop Operating System</th>\n",
       "      <th>Desktop Operating System: write-in</th>\n",
       "      <th>Current Lang &amp; Tech: Android</th>\n",
       "      <th>Current Lang &amp; Tech: Arduino</th>\n",
       "      <th>...</th>\n",
       "      <th>Why use Stack Overflow: I don't use Stack Overflow</th>\n",
       "      <th>How often are Stack Overflow's answers helpful</th>\n",
       "      <th>Why answer: Help a programmer in need</th>\n",
       "      <th>Why answer: Help future programmers</th>\n",
       "      <th>Why answer: Demonstrate expertise</th>\n",
       "      <th>Why answer: Self promotion</th>\n",
       "      <th>Why answer: Sense of responsibility to developers</th>\n",
       "      <th>Why answer: No idea</th>\n",
       "      <th>Why answer: I don't answer and I don't want to</th>\n",
       "      <th>Why answer: I don't answer but I want to</th>\n",
       "    </tr>\n",
       "  </thead>\n",
       "  <tbody>\n",
       "    <tr>\n",
       "      <th>0</th>\n",
       "      <td>Croatia</td>\n",
       "      <td>25-29</td>\n",
       "      <td>Male</td>\n",
       "      <td>Tabs</td>\n",
       "      <td>2 - 5 years</td>\n",
       "      <td>Back-end web developer</td>\n",
       "      <td>Ubuntu</td>\n",
       "      <td>NaN</td>\n",
       "      <td>NaN</td>\n",
       "      <td>NaN</td>\n",
       "      <td>...</td>\n",
       "      <td>NaN</td>\n",
       "      <td>Usually</td>\n",
       "      <td>NaN</td>\n",
       "      <td>NaN</td>\n",
       "      <td>It feels good to demonstrate my expertise.</td>\n",
       "      <td>Demonstrating my expertise will benefit me</td>\n",
       "      <td>I feel a sense of responsibility to the develo...</td>\n",
       "      <td>NaN</td>\n",
       "      <td>NaN</td>\n",
       "      <td>NaN</td>\n",
       "    </tr>\n",
       "    <tr>\n",
       "      <th>1</th>\n",
       "      <td>France</td>\n",
       "      <td>20-24</td>\n",
       "      <td>Male</td>\n",
       "      <td>Spaces</td>\n",
       "      <td>1 - 2 years</td>\n",
       "      <td>Back-end web developer</td>\n",
       "      <td>Windows 7</td>\n",
       "      <td>NaN</td>\n",
       "      <td>NaN</td>\n",
       "      <td>NaN</td>\n",
       "      <td>...</td>\n",
       "      <td>NaN</td>\n",
       "      <td>Usually</td>\n",
       "      <td>NaN</td>\n",
       "      <td>My answer will help lots of people who have th...</td>\n",
       "      <td>It feels good to demonstrate my expertise.</td>\n",
       "      <td>NaN</td>\n",
       "      <td>NaN</td>\n",
       "      <td>NaN</td>\n",
       "      <td>NaN</td>\n",
       "      <td>NaN</td>\n",
       "    </tr>\n",
       "    <tr>\n",
       "      <th>2</th>\n",
       "      <td>India</td>\n",
       "      <td>20-24</td>\n",
       "      <td>Male</td>\n",
       "      <td>Tabs</td>\n",
       "      <td>1 - 2 years</td>\n",
       "      <td>Back-end web developer</td>\n",
       "      <td>Windows 7</td>\n",
       "      <td>NaN</td>\n",
       "      <td>NaN</td>\n",
       "      <td>NaN</td>\n",
       "      <td>...</td>\n",
       "      <td>NaN</td>\n",
       "      <td>Rarely</td>\n",
       "      <td>NaN</td>\n",
       "      <td>NaN</td>\n",
       "      <td>NaN</td>\n",
       "      <td>Demonstrating my expertise will benefit me</td>\n",
       "      <td>NaN</td>\n",
       "      <td>NaN</td>\n",
       "      <td>NaN</td>\n",
       "      <td>NaN</td>\n",
       "    </tr>\n",
       "    <tr>\n",
       "      <th>3</th>\n",
       "      <td>Latvia</td>\n",
       "      <td>25-29</td>\n",
       "      <td>Male</td>\n",
       "      <td>It depends</td>\n",
       "      <td>6 - 10 years</td>\n",
       "      <td>Back-end web developer</td>\n",
       "      <td>Ubuntu</td>\n",
       "      <td>NaN</td>\n",
       "      <td>NaN</td>\n",
       "      <td>NaN</td>\n",
       "      <td>...</td>\n",
       "      <td>NaN</td>\n",
       "      <td>Usually</td>\n",
       "      <td>It feels good to help a programmer in need</td>\n",
       "      <td>My answer will help lots of people who have th...</td>\n",
       "      <td>It feels good to demonstrate my expertise.</td>\n",
       "      <td>Demonstrating my expertise will benefit me</td>\n",
       "      <td>I feel a sense of responsibility to the develo...</td>\n",
       "      <td>NaN</td>\n",
       "      <td>NaN</td>\n",
       "      <td>NaN</td>\n",
       "    </tr>\n",
       "    <tr>\n",
       "      <th>4</th>\n",
       "      <td>Norway</td>\n",
       "      <td>30-34</td>\n",
       "      <td>Male</td>\n",
       "      <td>Tabs</td>\n",
       "      <td>2 - 5 years</td>\n",
       "      <td>Back-end web developer</td>\n",
       "      <td>Windows 8</td>\n",
       "      <td>NaN</td>\n",
       "      <td>NaN</td>\n",
       "      <td>NaN</td>\n",
       "      <td>...</td>\n",
       "      <td>NaN</td>\n",
       "      <td>Usually</td>\n",
       "      <td>It feels good to help a programmer in need</td>\n",
       "      <td>NaN</td>\n",
       "      <td>NaN</td>\n",
       "      <td>Demonstrating my expertise will benefit me</td>\n",
       "      <td>NaN</td>\n",
       "      <td>NaN</td>\n",
       "      <td>NaN</td>\n",
       "      <td>I don't answer much (or at all), but I want to...</td>\n",
       "    </tr>\n",
       "  </tbody>\n",
       "</table>\n",
       "<p>5 rows × 222 columns</p>\n",
       "</div>"
      ],
      "text/plain": [
       "   Country    Age Gender Tabs or Spaces Years IT / Programming Experience  \\\n",
       "0  Croatia  25-29   Male           Tabs                       2 - 5 years   \n",
       "1   France  20-24   Male         Spaces                       1 - 2 years   \n",
       "2    India  20-24   Male           Tabs                       1 - 2 years   \n",
       "3   Latvia  25-29   Male     It depends                      6 - 10 years   \n",
       "4   Norway  30-34   Male           Tabs                       2 - 5 years   \n",
       "\n",
       "               Occupation Desktop Operating System  \\\n",
       "0  Back-end web developer                   Ubuntu   \n",
       "1  Back-end web developer                Windows 7   \n",
       "2  Back-end web developer                Windows 7   \n",
       "3  Back-end web developer                   Ubuntu   \n",
       "4  Back-end web developer                Windows 8   \n",
       "\n",
       "  Desktop Operating System: write-in Current Lang & Tech: Android  \\\n",
       "0                                NaN                          NaN   \n",
       "1                                NaN                          NaN   \n",
       "2                                NaN                          NaN   \n",
       "3                                NaN                          NaN   \n",
       "4                                NaN                          NaN   \n",
       "\n",
       "  Current Lang & Tech: Arduino  \\\n",
       "0                          NaN   \n",
       "1                          NaN   \n",
       "2                          NaN   \n",
       "3                          NaN   \n",
       "4                          NaN   \n",
       "\n",
       "                         ...                          \\\n",
       "0                        ...                           \n",
       "1                        ...                           \n",
       "2                        ...                           \n",
       "3                        ...                           \n",
       "4                        ...                           \n",
       "\n",
       "  Why use Stack Overflow: I don't use Stack Overflow  \\\n",
       "0                                                NaN   \n",
       "1                                                NaN   \n",
       "2                                                NaN   \n",
       "3                                                NaN   \n",
       "4                                                NaN   \n",
       "\n",
       "  How often are Stack Overflow's answers helpful  \\\n",
       "0                                        Usually   \n",
       "1                                        Usually   \n",
       "2                                         Rarely   \n",
       "3                                        Usually   \n",
       "4                                        Usually   \n",
       "\n",
       "        Why answer: Help a programmer in need  \\\n",
       "0                                         NaN   \n",
       "1                                         NaN   \n",
       "2                                         NaN   \n",
       "3  It feels good to help a programmer in need   \n",
       "4  It feels good to help a programmer in need   \n",
       "\n",
       "                 Why answer: Help future programmers  \\\n",
       "0                                                NaN   \n",
       "1  My answer will help lots of people who have th...   \n",
       "2                                                NaN   \n",
       "3  My answer will help lots of people who have th...   \n",
       "4                                                NaN   \n",
       "\n",
       "            Why answer: Demonstrate expertise  \\\n",
       "0  It feels good to demonstrate my expertise.   \n",
       "1  It feels good to demonstrate my expertise.   \n",
       "2                                         NaN   \n",
       "3  It feels good to demonstrate my expertise.   \n",
       "4                                         NaN   \n",
       "\n",
       "                   Why answer: Self promotion  \\\n",
       "0  Demonstrating my expertise will benefit me   \n",
       "1                                         NaN   \n",
       "2  Demonstrating my expertise will benefit me   \n",
       "3  Demonstrating my expertise will benefit me   \n",
       "4  Demonstrating my expertise will benefit me   \n",
       "\n",
       "   Why answer: Sense of responsibility to developers Why answer: No idea  \\\n",
       "0  I feel a sense of responsibility to the develo...                 NaN   \n",
       "1                                                NaN                 NaN   \n",
       "2                                                NaN                 NaN   \n",
       "3  I feel a sense of responsibility to the develo...                 NaN   \n",
       "4                                                NaN                 NaN   \n",
       "\n",
       "  Why answer: I don't answer and I don't want to  \\\n",
       "0                                            NaN   \n",
       "1                                            NaN   \n",
       "2                                            NaN   \n",
       "3                                            NaN   \n",
       "4                                            NaN   \n",
       "\n",
       "            Why answer: I don't answer but I want to  \n",
       "0                                                NaN  \n",
       "1                                                NaN  \n",
       "2                                                NaN  \n",
       "3                                                NaN  \n",
       "4  I don't answer much (or at all), but I want to...  \n",
       "\n",
       "[5 rows x 222 columns]"
      ]
     },
     "execution_count": 26,
     "metadata": {},
     "output_type": "execute_result"
    }
   ],
   "source": [
    "df.head()"
   ]
  },
  {
   "cell_type": "code",
   "execution_count": 5,
   "metadata": {
    "collapsed": false
   },
   "outputs": [
    {
     "data": {
      "text/plain": [
       "Index(['Country', 'Age', 'Gender', 'Tabs or Spaces',\n",
       "       'Years IT / Programming Experience', 'Occupation',\n",
       "       'Desktop Operating System', 'Desktop Operating System: write-in',\n",
       "       'Current Lang & Tech: Android', 'Current Lang & Tech: Arduino',\n",
       "       ...\n",
       "       'Why use Stack Overflow: I don't use Stack Overflow',\n",
       "       'How often are Stack Overflow's answers helpful',\n",
       "       'Why answer: Help a programmer in need',\n",
       "       'Why answer: Help future programmers',\n",
       "       'Why answer: Demonstrate expertise', 'Why answer: Self promotion',\n",
       "       'Why answer: Sense of responsibility to developers',\n",
       "       'Why answer: No idea', 'Why answer: I don't answer and I don't want to',\n",
       "       'Why answer: I don't answer but I want to'],\n",
       "      dtype='object', length=222)"
      ]
     },
     "execution_count": 5,
     "metadata": {},
     "output_type": "execute_result"
    }
   ],
   "source": [
    "df.columns"
   ]
  },
  {
   "cell_type": "code",
   "execution_count": 6,
   "metadata": {
    "collapsed": false
   },
   "outputs": [
    {
     "name": "stdout",
     "output_type": "stream",
     "text": [
      "<class 'pandas.core.frame.DataFrame'>\n",
      "RangeIndex: 26086 entries, 0 to 26085\n",
      "Columns: 222 entries, Country to Why answer: I don't answer but I want to\n",
      "dtypes: object(222)\n",
      "memory usage: 44.2+ MB\n"
     ]
    }
   ],
   "source": [
    "df.info()"
   ]
  },
  {
   "cell_type": "markdown",
   "metadata": {},
   "source": [
    "## How old are the programmers that answered this survey?"
   ]
  },
  {
   "cell_type": "code",
   "execution_count": 7,
   "metadata": {
    "collapsed": false
   },
   "outputs": [
    {
     "data": {
      "text/plain": [
       "<matplotlib.axes._subplots.AxesSubplot at 0x119c8d2e8>"
      ]
     },
     "execution_count": 7,
     "metadata": {},
     "output_type": "execute_result"
    },
    {
     "data": {
      "image/png": "[encoded data removed]",
      "text/plain": [
       "<matplotlib.figure.Figure at 0x115c8c7f0>"
      ]
     },
     "metadata": {},
     "output_type": "display_data"
    }
   ],
   "source": [
    "df['Age'].value_counts().head(10).plot(kind=\"bar\", color = ['#624ea7', '#599ad3', '#f9a65a', '#9e66ab', 'purple'])"
   ]
  },
  {
   "cell_type": "markdown",
   "metadata": {},
   "source": [
    "# What industries are these individuals working in?"
   ]
  },
  {
   "cell_type": "code",
   "execution_count": 44,
   "metadata": {
    "collapsed": false
   },
   "outputs": [
    {
     "data": {
      "text/plain": [
       "<matplotlib.axes._subplots.AxesSubplot at 0x1171d8cf8>"
      ]
     },
     "execution_count": 44,
     "metadata": {},
     "output_type": "execute_result"
    },
    {
     "data": {
      "image/png": "[encoded data removed]",
      "text/plain": [
       "<matplotlib.figure.Figure at 0x116543208>"
      ]
     },
     "metadata": {},
     "output_type": "display_data"
    }
   ],
   "source": [
    "df['Industry'].value_counts().head(10).plot(kind=\"barh\", color = ['#624ea7', '#599ad3', '#f9a65a', '#9e66ab', 'purple'])"
   ]
  },
  {
   "cell_type": "code",
   "execution_count": 38,
   "metadata": {
    "collapsed": false
   },
   "outputs": [
    {
     "data": {
      "text/plain": [
       "<matplotlib.axes._subplots.AxesSubplot at 0x115be3898>"
      ]
     },
     "execution_count": 38,
     "metadata": {},
     "output_type": "execute_result"
    },
    {
     "data": {
      "image/png": "[encoded data removed]",
      "text/plain": [
       "<matplotlib.figure.Figure at 0x115a9ebe0>"
      ]
     },
     "metadata": {},
     "output_type": "display_data"
    }
   ],
   "source": [
    "df['Preferred text editor'].value_counts().head(10).plot(kind=\"barh\", color = ['#624ea7', '#599ad3', '#f9a65a', '#9e66ab', 'purple'])"
   ]
  },
  {
   "cell_type": "code",
   "execution_count": null,
   "metadata": {
    "collapsed": true
   },
   "outputs": [],
   "source": [
    "df['Preferred text editor'].value_counts().head(10).plot(kind=\"bar\", color = ['#624ea7', '#599ad3', '#f9a65a', '#9e66ab', 'purple'])"
   ]
  },
  {
   "cell_type": "code",
   "execution_count": 47,
   "metadata": {
    "collapsed": false
   },
   "outputs": [],
   "source": [
    "#df['Training & Education: BS in CS'].value_counts().head(10).plot(kind=\"bar\", color = ['#624ea7', '#599ad3', '#f9a65a', '#9e66ab', 'purple'])"
   ]
  },
  {
   "cell_type": "code",
   "execution_count": 107,
   "metadata": {
    "collapsed": false
   },
   "outputs": [
    {
     "data": {
      "text/plain": [
       "Full-stack web developer                                 6765\n",
       "Student                                                  2845\n",
       "Back-end web developer                                   2104\n",
       "Desktop developer                                        1735\n",
       "Front-end web developer                                  1242\n",
       "Mobile developer - Android                                847\n",
       "Mobile developer - iOS                                    634\n",
       "Embedded application developer                            609\n",
       "Enterprise level services developer                       599\n",
       "Developer with a statistics or mathematics background     464\n",
       "Data scientist                                            409\n",
       "Executive (VP of Eng., CTO, CIO, etc.)                    376\n",
       "Mobile developer                                          376\n",
       "System administrator                                      344\n",
       "DevOps                                                    322\n",
       "Business intelligence or data warehousing expert          179\n",
       "Quality Assurance                                         164\n",
       "Graphics programmer                                       164\n",
       "Product manager                                           157\n",
       "Designer                                                  150\n",
       "Machine learning developer                                145\n",
       "Database administrator                                    119\n",
       "Growth hacker                                              59\n",
       "Mobile developer - Windows Phone                           43\n",
       "Name: Occupation, dtype: int64"
      ]
     },
     "execution_count": 107,
     "metadata": {},
     "output_type": "execute_result"
    }
   ],
   "source": [
    "df['Occupation'].value_counts()"
   ]
  },
  {
   "cell_type": "code",
   "execution_count": 105,
   "metadata": {
    "collapsed": false
   },
   "outputs": [
    {
     "data": {
      "text/plain": [
       "<matplotlib.axes._subplots.AxesSubplot at 0x10ceab0b8>"
      ]
     },
     "execution_count": 105,
     "metadata": {},
     "output_type": "execute_result"
    },
    {
     "data": {
      "image/png": "[encoded data removed]",
      "text/plain": [
       "<matplotlib.figure.Figure at 0x10b7c5128>"
      ]
     },
     "metadata": {},
     "output_type": "display_data"
    }
   ],
   "source": [
    "df.groupby('Gender')['Occupation'].value_counts().plot(kind=\"bar\", color = ['#599ad3', '#f9a65a']) # too mmuch data to appropriately display"
   ]
  },
  {
   "cell_type": "code",
   "execution_count": 143,
   "metadata": {
    "collapsed": false
   },
   "outputs": [
    {
     "name": "stdout",
     "output_type": "stream",
     "text": [
      "Male      23699\n",
      "Female     1480\n",
      "Name: Gender, dtype: int64\n"
     ]
    }
   ],
   "source": [
    "#df.groupby('Gender')['Years IT / Programming Experience'].value_counts()\n",
    "#i = [\"Male\", \"Female\"]\n",
    "gender_df = df[(df['Gender'] == 'Male') | (df['Gender'] == 'Female')]\n",
    "print(gender_df['Gender'].value_counts())\n",
    "#gender_df.groupby('Gender')['Years IT / Programming Experience'].value_counts().plot(kind=\"bar\", color = ['#599ad3', '#f9a65a'])\n"
   ]
  },
  {
   "cell_type": "code",
   "execution_count": 144,
   "metadata": {
    "collapsed": false
   },
   "outputs": [
    {
     "data": {
      "text/plain": [
       "<matplotlib.axes._subplots.AxesSubplot at 0x117a23748>"
      ]
     },
     "execution_count": 144,
     "metadata": {},
     "output_type": "execute_result"
    },
    {
     "data": {
      "image/png": "[encoded data removed]",
      "text/plain": [
       "<matplotlib.figure.Figure at 0x117a61da0>"
      ]
     },
     "metadata": {},
     "output_type": "display_data"
    }
   ],
   "source": [
    "gender_df.groupby('Gender')['Occupation'].value_counts()\n",
    "gender_df = gender_df[gender_df['Occupation'] == \"Full-stack web developer\"]\n",
    "gender_df.groupby('Gender')['Occupation'].value_counts().plot(kind=\"bar\", color = ['#599ad3', '#f9a65a'])\n"
   ]
  },
  {
   "cell_type": "code",
   "execution_count": 145,
   "metadata": {
    "collapsed": false
   },
   "outputs": [
    {
     "data": {
      "text/plain": [
       "<matplotlib.axes._subplots.AxesSubplot at 0x117a8df98>"
      ]
     },
     "execution_count": 145,
     "metadata": {},
     "output_type": "execute_result"
    },
    {
     "data": {
      "image/png": "[encoded data removed]",
      "text/plain": [
       "<matplotlib.figure.Figure at 0x117a906d8>"
      ]
     },
     "metadata": {},
     "output_type": "display_data"
    }
   ],
   "source": [
    "gender_df.groupby('Gender')['Years IT / Programming Experience'].value_counts().head(10).plot(kind=\"bar\", color = ['#624ea7', '#599ad3', '#f9a65a', '#9e66ab', 'purple'])"
   ]
  },
  {
   "cell_type": "code",
   "execution_count": 9,
   "metadata": {
    "collapsed": false
   },
   "outputs": [
    {
     "data": {
      "text/plain": [
       "25-29                     7365\n",
       "20-24                     6339\n",
       "30-34                     4593\n",
       "35-39                     2357\n",
       "< 20                      2261\n",
       "40-50                     1965\n",
       "51-60                      488\n",
       "Prefer not to disclose     339\n",
       "> 60                       124\n",
       "Name: Age, dtype: int64"
      ]
     },
     "execution_count": 9,
     "metadata": {},
     "output_type": "execute_result"
    }
   ],
   "source": [
    "df['Age'].value_counts()"
   ]
  },
  {
   "cell_type": "code",
   "execution_count": 116,
   "metadata": {
    "collapsed": false
   },
   "outputs": [
    {
     "data": {
      "text/plain": [
       "<matplotlib.axes._subplots.AxesSubplot at 0x10d495198>"
      ]
     },
     "execution_count": 116,
     "metadata": {},
     "output_type": "execute_result"
    },
    {
     "data": {
      "image/png": "[encoded data removed]",
      "text/plain": [
       "<matplotlib.figure.Figure at 0x10d8303c8>"
      ]
     },
     "metadata": {},
     "output_type": "display_data"
    }
   ],
   "source": [
    "df.groupby('Gender')['Age'].value_counts().plot(kind=\"bar\", color = ['#624ea7', '#599ad3', '#f9a65a', '#9e66ab', 'purple'])"
   ]
  },
  {
   "cell_type": "code",
   "execution_count": 88,
   "metadata": {
    "collapsed": false
   },
   "outputs": [],
   "source": [
    "df[\"AgeScale\"] = df[\"Age\"].apply(str).replace(\"< 20\", \"0\").apply(str).replace(\"20-24\", \"1\").apply(str).replace(\"25-29\", \"2\").apply(str).replace(\"30-34\", \"3\").apply(str).replace(\"30-34\", \"3\").apply(str).replace(\"35-39\", \"4\").apply(str).replace(\"40-50\", \"5\").apply(str).replace(\"51-60\", \"6\").apply(str).replace(\"> 60\", \"7\")"
   ]
  },
  {
   "cell_type": "code",
   "execution_count": 89,
   "metadata": {
    "collapsed": false
   },
   "outputs": [
    {
     "name": "stdout",
     "output_type": "stream",
     "text": [
      "0    2\n",
      "1    1\n",
      "2    1\n",
      "3    2\n",
      "4    3\n",
      "5    4\n",
      "6    0\n",
      "7    2\n",
      "8    3\n",
      "9    4\n",
      "Name: AgeScale, dtype: object\n"
     ]
    }
   ],
   "source": [
    "print(df[\"AgeScale\"].head(10))"
   ]
  },
  {
   "cell_type": "code",
   "execution_count": 90,
   "metadata": {
    "collapsed": false
   },
   "outputs": [
    {
     "name": "stderr",
     "output_type": "stream",
     "text": [
      "/Users/Monica/.virtualenvs/dataanalysis/lib/python3.5/site-packages/ipykernel/__main__.py:2: SettingWithCopyWarning: \n",
      "A value is trying to be set on a copy of a slice from a DataFrame.\n",
      "Try using .loc[row_indexer,col_indexer] = value instead\n",
      "\n",
      "See the caveats in the documentation: http://pandas.pydata.org/pandas-docs/stable/indexing.html#indexing-view-versus-copy\n",
      "  from ipykernel import kernelapp as app\n"
     ]
    }
   ],
   "source": [
    "years_df =df[df['AgeScale'] != \"Prefer not to disclose\"]\n",
    "years_df['AgeScale'] = years_df['AgeScale'].astype(float)"
   ]
  },
  {
   "cell_type": "code",
   "execution_count": 91,
   "metadata": {
    "collapsed": false
   },
   "outputs": [
    {
     "name": "stdout",
     "output_type": "stream",
     "text": [
      "             Country    Age                  Gender Tabs or Spaces  \\\n",
      "0            Croatia  25-29                    Male           Tabs   \n",
      "1             France  20-24                    Male         Spaces   \n",
      "2              India  20-24                    Male           Tabs   \n",
      "3             Latvia  25-29                    Male     It depends   \n",
      "4             Norway  30-34                    Male           Tabs   \n",
      "5      United States  35-39                    Male           Tabs   \n",
      "6                NaN   < 20                    Male           Tabs   \n",
      "7          Argentina  25-29                    Male         Spaces   \n",
      "8          Australia  30-34                    Male           Tabs   \n",
      "9            Belgium  35-39                    Male           Tabs   \n",
      "10           Belgium  35-39                    Male           Tabs   \n",
      "11           Belgium  25-29                    Male           Tabs   \n",
      "12            Brazil  40-50                    Male           Tabs   \n",
      "13            Brazil  25-29                    Male     It depends   \n",
      "14            Brazil  20-24                    Male           Tabs   \n",
      "15            Canada  25-29                    Male           Tabs   \n",
      "16            Canada  25-29                    Male     It depends   \n",
      "17            Canada  30-34                    Male           Tabs   \n",
      "18            Canada  20-24                    Male         Spaces   \n",
      "19            Canada  35-39                    Male           Tabs   \n",
      "20            Canada  30-34                    Male         Spaces   \n",
      "21             China  25-29                    Male     It depends   \n",
      "22           Denmark  30-34                    Male     It depends   \n",
      "23           Denmark  25-29                    Male           Tabs   \n",
      "24           Denmark  30-34                    Male         Spaces   \n",
      "25           Denmark  35-39                    Male     It depends   \n",
      "26             Egypt  25-29                    Male           Tabs   \n",
      "27           Finland  30-34  Prefer not to disclose         Spaces   \n",
      "28            France  25-29                    Male           Tabs   \n",
      "29            France  30-34                    Male           Tabs   \n",
      "...              ...    ...                     ...            ...   \n",
      "26054  United States  25-29                    Male         Spaces   \n",
      "26055  United States  20-24                    Male     It depends   \n",
      "26056  United States   > 60                   Other         Spaces   \n",
      "26057  United States  30-34                    Male           Huh?   \n",
      "26059  United States  40-50                    Male     It depends   \n",
      "26060  United States  30-34                    Male           Tabs   \n",
      "26061        Uruguay  30-34                    Male     It depends   \n",
      "26062        Uruguay  25-29                    Male           Tabs   \n",
      "26063        Uruguay  20-24                  Female           Huh?   \n",
      "26064        Vanuatu  30-34                    Male           Tabs   \n",
      "26065      Venezuela  20-24                    Male           Tabs   \n",
      "26066        Vietnam  20-24                    Male           Tabs   \n",
      "26067        Vietnam  25-29                    Male           Tabs   \n",
      "26068        Vietnam  25-29                    Male           Tabs   \n",
      "26069        Vietnam  30-34                    Male         Spaces   \n",
      "26070        Vietnam  25-29                    Male           Huh?   \n",
      "26071        Vietnam  20-24                    Male           Tabs   \n",
      "26072        Vietnam  20-24                    Male           Tabs   \n",
      "26073        Vietnam  25-29                    Male         Spaces   \n",
      "26074        Vietnam  20-24                    Male     It depends   \n",
      "26075        Vietnam  25-29                    Male           Tabs   \n",
      "26076        Vietnam  20-24                    Male           Tabs   \n",
      "26077        Vietnam  20-24                    Male     It depends   \n",
      "26078        Vietnam  20-24                    Male         Spaces   \n",
      "26079        Vietnam    NaN                     NaN            NaN   \n",
      "26080        Vietnam   < 20  Prefer not to disclose           Huh?   \n",
      "26081        Vietnam  20-24                    Male           Tabs   \n",
      "26082        Vietnam  25-29                    Male           Tabs   \n",
      "26083        Vietnam  25-29                    Male     It depends   \n",
      "26084       Zimbabwe    NaN                     NaN           Huh?   \n",
      "\n",
      "      Years IT / Programming Experience              Occupation  \\\n",
      "0                           2 - 5 years  Back-end web developer   \n",
      "1                           1 - 2 years  Back-end web developer   \n",
      "2                           1 - 2 years  Back-end web developer   \n",
      "3                          6 - 10 years  Back-end web developer   \n",
      "4                           2 - 5 years  Back-end web developer   \n",
      "5                             11+ years  Back-end web developer   \n",
      "6                           1 - 2 years  Back-end web developer   \n",
      "7                          6 - 10 years  Back-end web developer   \n",
      "8                          6 - 10 years  Back-end web developer   \n",
      "9                             11+ years  Back-end web developer   \n",
      "10                            11+ years  Back-end web developer   \n",
      "11                          2 - 5 years  Back-end web developer   \n",
      "12                            11+ years  Back-end web developer   \n",
      "13                          2 - 5 years  Back-end web developer   \n",
      "14                          2 - 5 years  Back-end web developer   \n",
      "15                         6 - 10 years  Back-end web developer   \n",
      "16                         6 - 10 years  Back-end web developer   \n",
      "17                          2 - 5 years  Back-end web developer   \n",
      "18                          1 - 2 years  Back-end web developer   \n",
      "19                            11+ years  Back-end web developer   \n",
      "20                         6 - 10 years  Back-end web developer   \n",
      "21                          2 - 5 years  Back-end web developer   \n",
      "22                          2 - 5 years  Back-end web developer   \n",
      "23                          2 - 5 years  Back-end web developer   \n",
      "24                         6 - 10 years  Back-end web developer   \n",
      "25                            11+ years  Back-end web developer   \n",
      "26                          2 - 5 years  Back-end web developer   \n",
      "27                         6 - 10 years  Back-end web developer   \n",
      "28                     Less than 1 year  Back-end web developer   \n",
      "29                         6 - 10 years  Back-end web developer   \n",
      "...                                 ...                     ...   \n",
      "26054                      6 - 10 years                     NaN   \n",
      "26055                       2 - 5 years                     NaN   \n",
      "26056                         11+ years                     NaN   \n",
      "26057                      6 - 10 years                     NaN   \n",
      "26059                         11+ years                     NaN   \n",
      "26060                      6 - 10 years                     NaN   \n",
      "26061                      6 - 10 years                     NaN   \n",
      "26062                       1 - 2 years                     NaN   \n",
      "26063                  Less than 1 year                     NaN   \n",
      "26064                               NaN                     NaN   \n",
      "26065                       1 - 2 years                     NaN   \n",
      "26066                               NaN                     NaN   \n",
      "26067                               NaN                     NaN   \n",
      "26068                      6 - 10 years                     NaN   \n",
      "26069                      6 - 10 years                     NaN   \n",
      "26070                       2 - 5 years                     NaN   \n",
      "26071                       1 - 2 years                     NaN   \n",
      "26072                       1 - 2 years                     NaN   \n",
      "26073                               NaN                     NaN   \n",
      "26074                  Less than 1 year                     NaN   \n",
      "26075                       2 - 5 years                     NaN   \n",
      "26076                       1 - 2 years                     NaN   \n",
      "26077                       2 - 5 years                     NaN   \n",
      "26078                               NaN                     NaN   \n",
      "26079                       2 - 5 years                     NaN   \n",
      "26080                               NaN                     NaN   \n",
      "26081                       1 - 2 years                     NaN   \n",
      "26082                               NaN                     NaN   \n",
      "26083                       2 - 5 years                     NaN   \n",
      "26084                               NaN                     NaN   \n",
      "\n",
      "      Desktop Operating System Desktop Operating System: write-in  \\\n",
      "0                       Ubuntu                                NaN   \n",
      "1                    Windows 7                                NaN   \n",
      "2                    Windows 7                                NaN   \n",
      "3                       Ubuntu                                NaN   \n",
      "4                    Windows 8                                NaN   \n",
      "5                     Mac OS X                                NaN   \n",
      "6                  Other Linux                                NaN   \n",
      "7                     Mac OS X                                NaN   \n",
      "8                    Windows 8                                NaN   \n",
      "9                    Windows 8                                NaN   \n",
      "10                    Mac OS X                                NaN   \n",
      "11                   Windows 8                                NaN   \n",
      "12                   Windows 8                                NaN   \n",
      "13                      Debian                                NaN   \n",
      "14                   Windows 8                                NaN   \n",
      "15                   Windows 8                                NaN   \n",
      "16                   Windows 7             windows server 2008 r2   \n",
      "17                   Windows 7                                NaN   \n",
      "18                   Windows 8                                NaN   \n",
      "19                   Windows 7                                NaN   \n",
      "20                   Windows 7                                NaN   \n",
      "21                   Windows 7                                NaN   \n",
      "22                         NaN              Windows Server 2008R2   \n",
      "23                   Windows 7                                NaN   \n",
      "24                      Fedora                                NaN   \n",
      "25                   Windows 8                                NaN   \n",
      "26                        Mint                                NaN   \n",
      "27                   Windows 7                                NaN   \n",
      "28                   Windows 8                                NaN   \n",
      "29                   Windows 7                                NaN   \n",
      "...                        ...                                ...   \n",
      "26054                 Mac OS X                                NaN   \n",
      "26055                      NaN                                NaN   \n",
      "26056                      NaN                                NaN   \n",
      "26057                      NaN                                NaN   \n",
      "26059                Windows 7                                NaN   \n",
      "26060                      NaN                                NaN   \n",
      "26061                      NaN                                NaN   \n",
      "26062                      NaN                                NaN   \n",
      "26063                      NaN                                NaN   \n",
      "26064                      NaN                                NaN   \n",
      "26065                      NaN                                NaN   \n",
      "26066                      NaN                                NaN   \n",
      "26067                      NaN                                NaN   \n",
      "26068                      NaN                                NaN   \n",
      "26069                      NaN                                NaN   \n",
      "26070                      NaN                                NaN   \n",
      "26071                Windows 8                                NaN   \n",
      "26072                      NaN                                NaN   \n",
      "26073                      NaN                                NaN   \n",
      "26074                      NaN                                NaN   \n",
      "26075                      NaN                                NaN   \n",
      "26076                      NaN                                NaN   \n",
      "26077                      NaN                                NaN   \n",
      "26078                      NaN                                NaN   \n",
      "26079                      NaN                                NaN   \n",
      "26080                      NaN                                NaN   \n",
      "26081                      NaN                                NaN   \n",
      "26082                      NaN                                NaN   \n",
      "26083                      NaN                                NaN   \n",
      "26084                      NaN                                NaN   \n",
      "\n",
      "      Current Lang & Tech: Android Current Lang & Tech: Arduino   ...     \\\n",
      "0                              NaN                          NaN   ...      \n",
      "1                              NaN                          NaN   ...      \n",
      "2                              NaN                          NaN   ...      \n",
      "3                              NaN                          NaN   ...      \n",
      "4                              NaN                          NaN   ...      \n",
      "5                              NaN                          NaN   ...      \n",
      "6                              NaN                          NaN   ...      \n",
      "7                              NaN                          NaN   ...      \n",
      "8                              NaN                          NaN   ...      \n",
      "9                          Android       Arduino / Raspberry Pi   ...      \n",
      "10                         Android       Arduino / Raspberry Pi   ...      \n",
      "11                             NaN                          NaN   ...      \n",
      "12                             NaN                          NaN   ...      \n",
      "13                             NaN                          NaN   ...      \n",
      "14                             NaN                          NaN   ...      \n",
      "15                             NaN                          NaN   ...      \n",
      "16                             NaN                          NaN   ...      \n",
      "17                             NaN                          NaN   ...      \n",
      "18                             NaN                          NaN   ...      \n",
      "19                             NaN                          NaN   ...      \n",
      "20                             NaN                          NaN   ...      \n",
      "21                             NaN                          NaN   ...      \n",
      "22                             NaN                          NaN   ...      \n",
      "23                             NaN                          NaN   ...      \n",
      "24                             NaN                          NaN   ...      \n",
      "25                             NaN                          NaN   ...      \n",
      "26                             NaN                          NaN   ...      \n",
      "27                             NaN                          NaN   ...      \n",
      "28                             NaN                          NaN   ...      \n",
      "29                             NaN                          NaN   ...      \n",
      "...                            ...                          ...   ...      \n",
      "26054                          NaN                          NaN   ...      \n",
      "26055                          NaN                          NaN   ...      \n",
      "26056                          NaN                          NaN   ...      \n",
      "26057                          NaN                          NaN   ...      \n",
      "26059                          NaN                          NaN   ...      \n",
      "26060                          NaN                          NaN   ...      \n",
      "26061                          NaN                          NaN   ...      \n",
      "26062                          NaN                          NaN   ...      \n",
      "26063                          NaN                          NaN   ...      \n",
      "26064                          NaN                          NaN   ...      \n",
      "26065                          NaN                          NaN   ...      \n",
      "26066                          NaN                          NaN   ...      \n",
      "26067                          NaN                          NaN   ...      \n",
      "26068                          NaN                          NaN   ...      \n",
      "26069                          NaN                          NaN   ...      \n",
      "26070                          NaN                          NaN   ...      \n",
      "26071                      Android                          NaN   ...      \n",
      "26072                          NaN                          NaN   ...      \n",
      "26073                          NaN                          NaN   ...      \n",
      "26074                          NaN                          NaN   ...      \n",
      "26075                          NaN                          NaN   ...      \n",
      "26076                          NaN                          NaN   ...      \n",
      "26077                          NaN                          NaN   ...      \n",
      "26078                          NaN                          NaN   ...      \n",
      "26079                          NaN                          NaN   ...      \n",
      "26080                          NaN                          NaN   ...      \n",
      "26081                          NaN                          NaN   ...      \n",
      "26082                          NaN                          NaN   ...      \n",
      "26083                          NaN                          NaN   ...      \n",
      "26084                          NaN                          NaN   ...      \n",
      "\n",
      "      How often are Stack Overflow's answers helpful  \\\n",
      "0                                            Usually   \n",
      "1                                            Usually   \n",
      "2                                             Rarely   \n",
      "3                                            Usually   \n",
      "4                                            Usually   \n",
      "5                                          Sometimes   \n",
      "6                                                NaN   \n",
      "7                                            Usually   \n",
      "8                                            Usually   \n",
      "9                                                NaN   \n",
      "10                                            Always   \n",
      "11                                           Usually   \n",
      "12                                           Usually   \n",
      "13                                           Usually   \n",
      "14                                           Usually   \n",
      "15                                           Usually   \n",
      "16                                         Sometimes   \n",
      "17                                            Always   \n",
      "18                                               NaN   \n",
      "19                                           Usually   \n",
      "20                                         Sometimes   \n",
      "21                                               NaN   \n",
      "22                                           Usually   \n",
      "23                                           Usually   \n",
      "24                                           Usually   \n",
      "25                                           Usually   \n",
      "26                                               NaN   \n",
      "27                                           Usually   \n",
      "28                                            Always   \n",
      "29                                           Usually   \n",
      "...                                              ...   \n",
      "26054                                      Sometimes   \n",
      "26055                                            NaN   \n",
      "26056                                            NaN   \n",
      "26057                                            NaN   \n",
      "26059                                            NaN   \n",
      "26060                                            NaN   \n",
      "26061                                            NaN   \n",
      "26062                                            NaN   \n",
      "26063                                            NaN   \n",
      "26064                                            NaN   \n",
      "26065                                            NaN   \n",
      "26066                                            NaN   \n",
      "26067                                            NaN   \n",
      "26068                                            NaN   \n",
      "26069                                            NaN   \n",
      "26070                                            NaN   \n",
      "26071                                            NaN   \n",
      "26072                                            NaN   \n",
      "26073                                            NaN   \n",
      "26074                                            NaN   \n",
      "26075                                            NaN   \n",
      "26076                                            NaN   \n",
      "26077                                            NaN   \n",
      "26078                                            NaN   \n",
      "26079                                            NaN   \n",
      "26080                                            NaN   \n",
      "26081                                            NaN   \n",
      "26082                                            NaN   \n",
      "26083                                            NaN   \n",
      "26084                                            NaN   \n",
      "\n",
      "            Why answer: Help a programmer in need  \\\n",
      "0                                             NaN   \n",
      "1                                             NaN   \n",
      "2                                             NaN   \n",
      "3      It feels good to help a programmer in need   \n",
      "4      It feels good to help a programmer in need   \n",
      "5      It feels good to help a programmer in need   \n",
      "6                                             NaN   \n",
      "7      It feels good to help a programmer in need   \n",
      "8      It feels good to help a programmer in need   \n",
      "9                                             NaN   \n",
      "10     It feels good to help a programmer in need   \n",
      "11     It feels good to help a programmer in need   \n",
      "12     It feels good to help a programmer in need   \n",
      "13     It feels good to help a programmer in need   \n",
      "14     It feels good to help a programmer in need   \n",
      "15     It feels good to help a programmer in need   \n",
      "16     It feels good to help a programmer in need   \n",
      "17                                            NaN   \n",
      "18                                            NaN   \n",
      "19                                            NaN   \n",
      "20                                            NaN   \n",
      "21                                            NaN   \n",
      "22     It feels good to help a programmer in need   \n",
      "23     It feels good to help a programmer in need   \n",
      "24     It feels good to help a programmer in need   \n",
      "25                                            NaN   \n",
      "26                                            NaN   \n",
      "27     It feels good to help a programmer in need   \n",
      "28     It feels good to help a programmer in need   \n",
      "29     It feels good to help a programmer in need   \n",
      "...                                           ...   \n",
      "26054  It feels good to help a programmer in need   \n",
      "26055                                         NaN   \n",
      "26056                                         NaN   \n",
      "26057                                         NaN   \n",
      "26059                                         NaN   \n",
      "26060                                         NaN   \n",
      "26061                                         NaN   \n",
      "26062                                         NaN   \n",
      "26063                                         NaN   \n",
      "26064                                         NaN   \n",
      "26065                                         NaN   \n",
      "26066                                         NaN   \n",
      "26067                                         NaN   \n",
      "26068                                         NaN   \n",
      "26069                                         NaN   \n",
      "26070                                         NaN   \n",
      "26071                                         NaN   \n",
      "26072                                         NaN   \n",
      "26073                                         NaN   \n",
      "26074                                         NaN   \n",
      "26075                                         NaN   \n",
      "26076                                         NaN   \n",
      "26077                                         NaN   \n",
      "26078                                         NaN   \n",
      "26079                                         NaN   \n",
      "26080                                         NaN   \n",
      "26081                                         NaN   \n",
      "26082                                         NaN   \n",
      "26083                                         NaN   \n",
      "26084                                         NaN   \n",
      "\n",
      "                     Why answer: Help future programmers  \\\n",
      "0                                                    NaN   \n",
      "1      My answer will help lots of people who have th...   \n",
      "2                                                    NaN   \n",
      "3      My answer will help lots of people who have th...   \n",
      "4                                                    NaN   \n",
      "5      My answer will help lots of people who have th...   \n",
      "6                                                    NaN   \n",
      "7      My answer will help lots of people who have th...   \n",
      "8      My answer will help lots of people who have th...   \n",
      "9                                                    NaN   \n",
      "10                                                   NaN   \n",
      "11                                                   NaN   \n",
      "12                                                   NaN   \n",
      "13     My answer will help lots of people who have th...   \n",
      "14     My answer will help lots of people who have th...   \n",
      "15     My answer will help lots of people who have th...   \n",
      "16                                                   NaN   \n",
      "17     My answer will help lots of people who have th...   \n",
      "18                                                   NaN   \n",
      "19                                                   NaN   \n",
      "20     My answer will help lots of people who have th...   \n",
      "21                                                   NaN   \n",
      "22                                                   NaN   \n",
      "23     My answer will help lots of people who have th...   \n",
      "24     My answer will help lots of people who have th...   \n",
      "25                                                   NaN   \n",
      "26                                                   NaN   \n",
      "27     My answer will help lots of people who have th...   \n",
      "28                                                   NaN   \n",
      "29                                                   NaN   \n",
      "...                                                  ...   \n",
      "26054  My answer will help lots of people who have th...   \n",
      "26055                                                NaN   \n",
      "26056                                                NaN   \n",
      "26057                                                NaN   \n",
      "26059                                                NaN   \n",
      "26060                                                NaN   \n",
      "26061                                                NaN   \n",
      "26062                                                NaN   \n",
      "26063                                                NaN   \n",
      "26064                                                NaN   \n",
      "26065                                                NaN   \n",
      "26066                                                NaN   \n",
      "26067                                                NaN   \n",
      "26068                                                NaN   \n",
      "26069                                                NaN   \n",
      "26070                                                NaN   \n",
      "26071                                                NaN   \n",
      "26072                                                NaN   \n",
      "26073                                                NaN   \n",
      "26074                                                NaN   \n",
      "26075                                                NaN   \n",
      "26076                                                NaN   \n",
      "26077                                                NaN   \n",
      "26078                                                NaN   \n",
      "26079                                                NaN   \n",
      "26080                                                NaN   \n",
      "26081                                                NaN   \n",
      "26082                                                NaN   \n",
      "26083                                                NaN   \n",
      "26084                                                NaN   \n",
      "\n",
      "                Why answer: Demonstrate expertise  \\\n",
      "0      It feels good to demonstrate my expertise.   \n",
      "1      It feels good to demonstrate my expertise.   \n",
      "2                                             NaN   \n",
      "3      It feels good to demonstrate my expertise.   \n",
      "4                                             NaN   \n",
      "5                                             NaN   \n",
      "6                                             NaN   \n",
      "7      It feels good to demonstrate my expertise.   \n",
      "8      It feels good to demonstrate my expertise.   \n",
      "9                                             NaN   \n",
      "10                                            NaN   \n",
      "11     It feels good to demonstrate my expertise.   \n",
      "12                                            NaN   \n",
      "13                                            NaN   \n",
      "14                                            NaN   \n",
      "15                                            NaN   \n",
      "16                                            NaN   \n",
      "17                                            NaN   \n",
      "18                                            NaN   \n",
      "19                                            NaN   \n",
      "20                                            NaN   \n",
      "21                                            NaN   \n",
      "22     It feels good to demonstrate my expertise.   \n",
      "23                                            NaN   \n",
      "24     It feels good to demonstrate my expertise.   \n",
      "25                                            NaN   \n",
      "26                                            NaN   \n",
      "27                                            NaN   \n",
      "28                                            NaN   \n",
      "29                                            NaN   \n",
      "...                                           ...   \n",
      "26054  It feels good to demonstrate my expertise.   \n",
      "26055                                         NaN   \n",
      "26056                                         NaN   \n",
      "26057                                         NaN   \n",
      "26059                                         NaN   \n",
      "26060                                         NaN   \n",
      "26061                                         NaN   \n",
      "26062                                         NaN   \n",
      "26063                                         NaN   \n",
      "26064                                         NaN   \n",
      "26065                                         NaN   \n",
      "26066                                         NaN   \n",
      "26067                                         NaN   \n",
      "26068                                         NaN   \n",
      "26069                                         NaN   \n",
      "26070                                         NaN   \n",
      "26071                                         NaN   \n",
      "26072                                         NaN   \n",
      "26073                                         NaN   \n",
      "26074                                         NaN   \n",
      "26075                                         NaN   \n",
      "26076                                         NaN   \n",
      "26077                                         NaN   \n",
      "26078                                         NaN   \n",
      "26079                                         NaN   \n",
      "26080                                         NaN   \n",
      "26081                                         NaN   \n",
      "26082                                         NaN   \n",
      "26083                                         NaN   \n",
      "26084                                         NaN   \n",
      "\n",
      "                       Why answer: Self promotion  \\\n",
      "0      Demonstrating my expertise will benefit me   \n",
      "1                                             NaN   \n",
      "2      Demonstrating my expertise will benefit me   \n",
      "3      Demonstrating my expertise will benefit me   \n",
      "4      Demonstrating my expertise will benefit me   \n",
      "5                                             NaN   \n",
      "6                                             NaN   \n",
      "7      Demonstrating my expertise will benefit me   \n",
      "8                                             NaN   \n",
      "9                                             NaN   \n",
      "10                                            NaN   \n",
      "11     Demonstrating my expertise will benefit me   \n",
      "12                                            NaN   \n",
      "13                                            NaN   \n",
      "14                                            NaN   \n",
      "15                                            NaN   \n",
      "16                                            NaN   \n",
      "17                                            NaN   \n",
      "18                                            NaN   \n",
      "19                                            NaN   \n",
      "20     Demonstrating my expertise will benefit me   \n",
      "21                                            NaN   \n",
      "22                                            NaN   \n",
      "23                                            NaN   \n",
      "24                                            NaN   \n",
      "25                                            NaN   \n",
      "26                                            NaN   \n",
      "27                                            NaN   \n",
      "28                                            NaN   \n",
      "29                                            NaN   \n",
      "...                                           ...   \n",
      "26054  Demonstrating my expertise will benefit me   \n",
      "26055                                         NaN   \n",
      "26056                                         NaN   \n",
      "26057                                         NaN   \n",
      "26059                                         NaN   \n",
      "26060                                         NaN   \n",
      "26061                                         NaN   \n",
      "26062                                         NaN   \n",
      "26063                                         NaN   \n",
      "26064                                         NaN   \n",
      "26065                                         NaN   \n",
      "26066                                         NaN   \n",
      "26067                                         NaN   \n",
      "26068                                         NaN   \n",
      "26069                                         NaN   \n",
      "26070                                         NaN   \n",
      "26071                                         NaN   \n",
      "26072                                         NaN   \n",
      "26073                                         NaN   \n",
      "26074                                         NaN   \n",
      "26075                                         NaN   \n",
      "26076                                         NaN   \n",
      "26077                                         NaN   \n",
      "26078                                         NaN   \n",
      "26079                                         NaN   \n",
      "26080                                         NaN   \n",
      "26081                                         NaN   \n",
      "26082                                         NaN   \n",
      "26083                                         NaN   \n",
      "26084                                         NaN   \n",
      "\n",
      "       Why answer: Sense of responsibility to developers Why answer: No idea  \\\n",
      "0      I feel a sense of responsibility to the develo...                 NaN   \n",
      "1                                                    NaN                 NaN   \n",
      "2                                                    NaN                 NaN   \n",
      "3      I feel a sense of responsibility to the develo...                 NaN   \n",
      "4                                                    NaN                 NaN   \n",
      "5      I feel a sense of responsibility to the develo...                 NaN   \n",
      "6                                                    NaN                 NaN   \n",
      "7      I feel a sense of responsibility to the develo...                 NaN   \n",
      "8                                                    NaN                 NaN   \n",
      "9                                                    NaN                 NaN   \n",
      "10                                                   NaN                 NaN   \n",
      "11                                                   NaN                 NaN   \n",
      "12                                                   NaN                 NaN   \n",
      "13                                                   NaN                 NaN   \n",
      "14                                                   NaN                 NaN   \n",
      "15     I feel a sense of responsibility to the develo...                 NaN   \n",
      "16                                                   NaN                 NaN   \n",
      "17     I feel a sense of responsibility to the develo...                 NaN   \n",
      "18                                                   NaN                 NaN   \n",
      "19                                                   NaN                 NaN   \n",
      "20     I feel a sense of responsibility to the develo...                 NaN   \n",
      "21                                                   NaN                 NaN   \n",
      "22                                                   NaN                 NaN   \n",
      "23                                                   NaN                 NaN   \n",
      "24                                                   NaN                 NaN   \n",
      "25                                                   NaN                 NaN   \n",
      "26                                                   NaN                 NaN   \n",
      "27     I feel a sense of responsibility to the develo...                 NaN   \n",
      "28     I feel a sense of responsibility to the develo...                 NaN   \n",
      "29                                                   NaN                 NaN   \n",
      "...                                                  ...                 ...   \n",
      "26054  I feel a sense of responsibility to the develo...                 NaN   \n",
      "26055                                                NaN                 NaN   \n",
      "26056                                                NaN                 NaN   \n",
      "26057                                                NaN                 NaN   \n",
      "26059                                                NaN                 NaN   \n",
      "26060                                                NaN                 NaN   \n",
      "26061                                                NaN                 NaN   \n",
      "26062                                                NaN                 NaN   \n",
      "26063                                                NaN                 NaN   \n",
      "26064                                                NaN                 NaN   \n",
      "26065                                                NaN                 NaN   \n",
      "26066                                                NaN                 NaN   \n",
      "26067                                                NaN                 NaN   \n",
      "26068                                                NaN                 NaN   \n",
      "26069                                                NaN                 NaN   \n",
      "26070                                                NaN                 NaN   \n",
      "26071                                                NaN                 NaN   \n",
      "26072                                                NaN                 NaN   \n",
      "26073                                                NaN                 NaN   \n",
      "26074                                                NaN                 NaN   \n",
      "26075                                                NaN                 NaN   \n",
      "26076                                                NaN                 NaN   \n",
      "26077                                                NaN                 NaN   \n",
      "26078                                                NaN                 NaN   \n",
      "26079                                                NaN                 NaN   \n",
      "26080                                                NaN                 NaN   \n",
      "26081                                                NaN                 NaN   \n",
      "26082                                                NaN                 NaN   \n",
      "26083                                                NaN                 NaN   \n",
      "26084                                                NaN                 NaN   \n",
      "\n",
      "          Why answer: I don't answer and I don't want to  \\\n",
      "0                                                    NaN   \n",
      "1                                                    NaN   \n",
      "2                                                    NaN   \n",
      "3                                                    NaN   \n",
      "4                                                    NaN   \n",
      "5                                                    NaN   \n",
      "6                                                    NaN   \n",
      "7                                                    NaN   \n",
      "8                                                    NaN   \n",
      "9                                                    NaN   \n",
      "10                                                   NaN   \n",
      "11                                                   NaN   \n",
      "12                                                   NaN   \n",
      "13                                                   NaN   \n",
      "14                                                   NaN   \n",
      "15                                                   NaN   \n",
      "16                                                   NaN   \n",
      "17                                                   NaN   \n",
      "18                                                   NaN   \n",
      "19                                                   NaN   \n",
      "20                                                   NaN   \n",
      "21                                                   NaN   \n",
      "22                                                   NaN   \n",
      "23                                                   NaN   \n",
      "24                                                   NaN   \n",
      "25     I don't answer much (or at all), and I don't w...   \n",
      "26                                                   NaN   \n",
      "27                                                   NaN   \n",
      "28                                                   NaN   \n",
      "29                                                   NaN   \n",
      "...                                                  ...   \n",
      "26054                                                NaN   \n",
      "26055                                                NaN   \n",
      "26056                                                NaN   \n",
      "26057                                                NaN   \n",
      "26059                                                NaN   \n",
      "26060                                                NaN   \n",
      "26061                                                NaN   \n",
      "26062                                                NaN   \n",
      "26063                                                NaN   \n",
      "26064                                                NaN   \n",
      "26065                                                NaN   \n",
      "26066                                                NaN   \n",
      "26067                                                NaN   \n",
      "26068                                                NaN   \n",
      "26069                                                NaN   \n",
      "26070                                                NaN   \n",
      "26071                                                NaN   \n",
      "26072                                                NaN   \n",
      "26073                                                NaN   \n",
      "26074                                                NaN   \n",
      "26075                                                NaN   \n",
      "26076                                                NaN   \n",
      "26077                                                NaN   \n",
      "26078                                                NaN   \n",
      "26079                                                NaN   \n",
      "26080                                                NaN   \n",
      "26081                                                NaN   \n",
      "26082                                                NaN   \n",
      "26083                                                NaN   \n",
      "26084                                                NaN   \n",
      "\n",
      "                Why answer: I don't answer but I want to AgeScale  \n",
      "0                                                    NaN      2.0  \n",
      "1                                                    NaN      1.0  \n",
      "2                                                    NaN      1.0  \n",
      "3                                                    NaN      2.0  \n",
      "4      I don't answer much (or at all), but I want to...      3.0  \n",
      "5                                                    NaN      4.0  \n",
      "6                                                    NaN      0.0  \n",
      "7      I don't answer much (or at all), but I want to...      2.0  \n",
      "8                                                    NaN      3.0  \n",
      "9                                                    NaN      4.0  \n",
      "10                                                   NaN      4.0  \n",
      "11                                                   NaN      2.0  \n",
      "12                                                   NaN      5.0  \n",
      "13                                                   NaN      2.0  \n",
      "14                                                   NaN      1.0  \n",
      "15                                                   NaN      2.0  \n",
      "16                                                   NaN      2.0  \n",
      "17     I don't answer much (or at all), but I want to...      3.0  \n",
      "18                                                   NaN      1.0  \n",
      "19     I don't answer much (or at all), but I want to...      4.0  \n",
      "20                                                   NaN      3.0  \n",
      "21                                                   NaN      2.0  \n",
      "22     I don't answer much (or at all), but I want to...      3.0  \n",
      "23                                                   NaN      2.0  \n",
      "24     I don't answer much (or at all), but I want to...      3.0  \n",
      "25                                                   NaN      4.0  \n",
      "26                                                   NaN      2.0  \n",
      "27                                                   NaN      3.0  \n",
      "28                                                   NaN      2.0  \n",
      "29                                                   NaN      3.0  \n",
      "...                                                  ...      ...  \n",
      "26054                                                NaN      2.0  \n",
      "26055                                                NaN      1.0  \n",
      "26056                                                NaN      7.0  \n",
      "26057                                                NaN      3.0  \n",
      "26059                                                NaN      5.0  \n",
      "26060                                                NaN      3.0  \n",
      "26061                                                NaN      3.0  \n",
      "26062                                                NaN      2.0  \n",
      "26063                                                NaN      1.0  \n",
      "26064                                                NaN      3.0  \n",
      "26065                                                NaN      1.0  \n",
      "26066                                                NaN      1.0  \n",
      "26067                                                NaN      2.0  \n",
      "26068                                                NaN      2.0  \n",
      "26069                                                NaN      3.0  \n",
      "26070                                                NaN      2.0  \n",
      "26071                                                NaN      1.0  \n",
      "26072                                                NaN      1.0  \n",
      "26073                                                NaN      2.0  \n",
      "26074                                                NaN      1.0  \n",
      "26075                                                NaN      2.0  \n",
      "26076                                                NaN      1.0  \n",
      "26077                                                NaN      1.0  \n",
      "26078                                                NaN      1.0  \n",
      "26079                                                NaN      NaN  \n",
      "26080                                                NaN      0.0  \n",
      "26081                                                NaN      1.0  \n",
      "26082                                                NaN      2.0  \n",
      "26083                                                NaN      2.0  \n",
      "26084                                                NaN      NaN  \n",
      "\n",
      "[25747 rows x 223 columns]\n"
     ]
    },
    {
     "ename": "AttributeError",
     "evalue": "'NoneType' object has no attribute 'head'",
     "output_type": "error",
     "traceback": [
      "\u001b[0;31m---------------------------------------------------------------------------\u001b[0m",
      "\u001b[0;31mAttributeError\u001b[0m                            Traceback (most recent call last)",
      "\u001b[0;32m<ipython-input-91-c8417b663083>\u001b[0m in \u001b[0;36m<module>\u001b[0;34m()\u001b[0m\n\u001b[0;32m----> 1\u001b[0;31m \u001b[0mprint\u001b[0m\u001b[0;34m(\u001b[0m\u001b[0myears_df\u001b[0m\u001b[0;34m)\u001b[0m\u001b[0;34m.\u001b[0m\u001b[0mhead\u001b[0m\u001b[0;34m(\u001b[0m\u001b[0;34m)\u001b[0m\u001b[0;34m\u001b[0m\u001b[0m\n\u001b[0m",
      "\u001b[0;31mAttributeError\u001b[0m: 'NoneType' object has no attribute 'head'"
     ]
    }
   ],
   "source": [
    "print(years_df).head()"
   ]
  },
  {
   "cell_type": "code",
   "execution_count": 92,
   "metadata": {
    "collapsed": false
   },
   "outputs": [
    {
     "data": {
      "text/plain": [
       "2 - 5 years         7964\n",
       "11+ years           5900\n",
       "6 - 10 years        5722\n",
       "1 - 2 years         3324\n",
       "Less than 1 year    1617\n",
       "Name: Years IT / Programming Experience, dtype: int64"
      ]
     },
     "execution_count": 92,
     "metadata": {},
     "output_type": "execute_result"
    }
   ],
   "source": [
    "years_df['Years IT / Programming Experience'].value_counts()"
   ]
  },
  {
   "cell_type": "code",
   "execution_count": 93,
   "metadata": {
    "collapsed": false
   },
   "outputs": [
    {
     "name": "stderr",
     "output_type": "stream",
     "text": [
      "/Users/Monica/.virtualenvs/dataanalysis/lib/python3.5/site-packages/ipykernel/__main__.py:1: SettingWithCopyWarning: \n",
      "A value is trying to be set on a copy of a slice from a DataFrame.\n",
      "Try using .loc[row_indexer,col_indexer] = value instead\n",
      "\n",
      "See the caveats in the documentation: http://pandas.pydata.org/pandas-docs/stable/indexing.html#indexing-view-versus-copy\n",
      "  if __name__ == '__main__':\n"
     ]
    }
   ],
   "source": [
    "years_df['ExperienceRank'] = years_df['Years IT / Programming Experience'].apply(str).replace(\"Less than 1 year\", \"0\").apply(str).replace(\"1 - 2 years\", \"1\").apply(str).replace(\"2 - 5 years\", \"2\").apply(str).replace(\"6 - 10 years\", \"3\").apply(str).replace(\"11+ years\", \"4\").astype(float)"
   ]
  },
  {
   "cell_type": "code",
   "execution_count": 94,
   "metadata": {
    "collapsed": false
   },
   "outputs": [],
   "source": [
    "# years_df.head()"
   ]
  },
  {
   "cell_type": "code",
   "execution_count": 95,
   "metadata": {
    "collapsed": false
   },
   "outputs": [
    {
     "data": {
      "text/plain": [
       "2.0    7964\n",
       "4.0    5900\n",
       "3.0    5722\n",
       "1.0    3324\n",
       "0.0    1617\n",
       "Name: ExperienceRank, dtype: int64"
      ]
     },
     "execution_count": 95,
     "metadata": {},
     "output_type": "execute_result"
    }
   ],
   "source": [
    "years_df['ExperienceRank'].value_counts()"
   ]
  },
  {
   "cell_type": "code",
   "execution_count": 96,
   "metadata": {
    "collapsed": false
   },
   "outputs": [
    {
     "data": {
      "text/plain": [
       "2.0    7365\n",
       "1.0    6339\n",
       "3.0    4593\n",
       "4.0    2357\n",
       "0.0    2261\n",
       "5.0    1965\n",
       "6.0     488\n",
       "7.0     124\n",
       "Name: AgeScale, dtype: int64"
      ]
     },
     "execution_count": 96,
     "metadata": {},
     "output_type": "execute_result"
    }
   ],
   "source": [
    "years_df['AgeScale'].value_counts()"
   ]
  },
  {
   "cell_type": "code",
   "execution_count": 100,
   "metadata": {
    "collapsed": false
   },
   "outputs": [
    {
     "data": {
      "image/png": "[encoded data removed]",
      "text/plain": [
       "<matplotlib.figure.Figure at 0x10c1b56d8>"
      ]
     },
     "metadata": {},
     "output_type": "display_data"
    }
   ],
   "source": [
    "#years_df['ExperienceRank'] = float(years_df['ExperienceRank'])\n",
    "# years_df['AgeScale'] = float(years_df['AgeScale'])\n",
    "# years_df['AgeScale'] = years_df['AgeScale'].apply(int)\n",
    "\n",
    "#years_df['ExperienceRank'] = parseInt(years_df['ExperienceRank'])\n",
    "\n",
    "#years_df['ExperienceRank'] = pd.Series(years_df['ExperienceRank'])\n",
    "#years_df['AgeScale'] = pd.Series(years_df['AgeScale'])\n",
    "\n",
    "moneyScatter = years_df.plot(kind='scatter', x='ExperienceRank', y='AgeScale', alpha=0.2) # caegorical data dos not display well on scatter plots\n",
    "#moneyScatter.set_title('Distribution of Money Spent Amongst Respondents to the Survey by Age')\n",
    "#moneyScatter.set_xlabel('Months Programming')\n",
    "#moneyScatter.set_ylabel('Hours Spent Learning Each Week')\n",
    "#plt.savefig('studyingovertime.png')"
   ]
  },
  {
   "cell_type": "code",
   "execution_count": 59,
   "metadata": {
    "collapsed": false
   },
   "outputs": [
    {
     "data": {
      "text/plain": [
       "count     25747\n",
       "unique        6\n",
       "top           2\n",
       "freq       7964\n",
       "Name: ExperienceRank, dtype: object"
      ]
     },
     "execution_count": 59,
     "metadata": {},
     "output_type": "execute_result"
    }
   ],
   "source": [
    "years_df['ExperienceRank'].describe()"
   ]
  },
  {
   "cell_type": "code",
   "execution_count": 101,
   "metadata": {
    "collapsed": false
   },
   "outputs": [
    {
     "name": "stderr",
     "output_type": "stream",
     "text": [
      "/Users/Monica/.virtualenvs/dataanalysis/lib/python3.5/site-packages/pandas/core/frame.py:2378: SettingWithCopyWarning: \n",
      "A value is trying to be set on a copy of a slice from a DataFrame.\n",
      "Try using .loc[row_indexer,col_indexer] = value instead\n",
      "\n",
      "See the caveats in the documentation: http://pandas.pydata.org/pandas-docs/stable/indexing.html#indexing-view-versus-copy\n",
      "  self[k1] = value[k2]\n"
     ]
    }
   ],
   "source": [
    "years_df[['ExperienceRank','AgeScale']] = years_df[['ExperienceRank','AgeScale']].apply(pd.to_numeric)\n",
    "# years_df.apply(lambda x: pd.to_numeric(x, errors='ignore'))"
   ]
  },
  {
   "cell_type": "code",
   "execution_count": 66,
   "metadata": {
    "collapsed": false
   },
   "outputs": [
    {
     "data": {
      "text/plain": [
       "count     25747\n",
       "unique        6\n",
       "top           2\n",
       "freq       7964\n",
       "Name: ExperienceRank, dtype: object"
      ]
     },
     "execution_count": 66,
     "metadata": {},
     "output_type": "execute_result"
    }
   ],
   "source": [
    "years_df['ExperienceRank'].describe()"
   ]
  },
  {
   "cell_type": "code",
   "execution_count": 67,
   "metadata": {
    "collapsed": false
   },
   "outputs": [
    {
     "data": {
      "text/plain": [
       "0    2\n",
       "1    1\n",
       "2    1\n",
       "3    3\n",
       "4    2\n",
       "Name: ExperienceRank, dtype: object"
      ]
     },
     "execution_count": 67,
     "metadata": {},
     "output_type": "execute_result"
    }
   ],
   "source": [
    "years_df['ExperienceRank'].head()"
   ]
  },
  {
   "cell_type": "code",
   "execution_count": 102,
   "metadata": {
    "collapsed": false
   },
   "outputs": [
    {
     "data": {
      "text/plain": [
       "0    2.0\n",
       "1    1.0\n",
       "2    1.0\n",
       "3    2.0\n",
       "4    3.0\n",
       "Name: AgeScale, dtype: float64"
      ]
     },
     "execution_count": 102,
     "metadata": {},
     "output_type": "execute_result"
    }
   ],
   "source": [
    "years_df['AgeScale'].head()"
   ]
  },
  {
   "cell_type": "code",
   "execution_count": null,
   "metadata": {
    "collapsed": true
   },
   "outputs": [],
   "source": []
  }
 ],
 "metadata": {
  "kernelspec": {
   "display_name": "Python 3",
   "language": "python",
   "name": "python3"
  },
  "language_info": {
   "codemirror_mode": {
    "name": "ipython",
    "version": 3
   },
   "file_extension": ".py",
   "mimetype": "text/x-python",
   "name": "python",
   "nbconvert_exporter": "python",
   "pygments_lexer": "ipython3",
   "version": "3.5.1"
  }
 },
 "nbformat": 4,
 "nbformat_minor": 0
}
